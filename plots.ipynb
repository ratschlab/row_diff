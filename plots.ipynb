{
 "cells": [
  {
   "cell_type": "code",
   "execution_count": 851,
   "metadata": {
    "ExecuteTime": {
     "end_time": "2020-11-13T12:05:27.646562Z",
     "start_time": "2020-11-13T12:05:27.596256Z"
    }
   },
   "outputs": [
    {
     "name": "stdout",
     "output_type": "stream",
     "text": [
      "The autoreload extension is already loaded. To reload it, use:\n",
      "  %reload_ext autoreload\n"
     ]
    }
   ],
   "source": [
    "import glob\n",
    "import os\n",
    "import pandas as pd\n",
    "from io import StringIO\n",
    "from matplotlib import pyplot as plt\n",
    "from IPython.display import set_matplotlib_formats\n",
    "#set_matplotlib_formats('png', 'pdf')\n",
    "import numpy as np\n",
    "import matplotlib as mpl\n",
    "import sys\n",
    "import os\n",
    "mpl.rcParams.update(mpl.rcParamsDefault)\n",
    "\n",
    "plt.rc('font', family='sans-serif')#, serif='Times')\n",
    "plt.rc('xtick', labelsize=11)\n",
    "plt.rc('ytick', labelsize=11)\n",
    "plt.rc('axes', labelsize=12)\n",
    "plt.rc('legend', fontsize=11)\n",
    "#plt.rcParams['mathtext.fontset'] = 'stix'\n",
    "#plt.rcParams['font.family'] = 'STIXGeneral'\n",
    "params = {\n",
    "'text.usetex': True,\n",
    "#'font.size': 15,\n",
    "#'text.latex.unicode': True\n",
    "}\n",
    "plt.rcParams.update(params)\n",
    "\n",
    "%matplotlib inline\n",
    "%load_ext autoreload\n",
    "%autoreload 2"
   ]
  },
  {
   "cell_type": "code",
   "execution_count": 852,
   "metadata": {
    "ExecuteTime": {
     "end_time": "2020-11-13T12:05:29.884577Z",
     "start_time": "2020-11-13T12:05:29.860612Z"
    }
   },
   "outputs": [],
   "source": [
    "def get_total_size(path, extension):\n",
    "    total = 0\n",
    "    for entry in os.scandir(path):\n",
    "        if entry.path.endswith(extension):\n",
    "            total += entry.stat(follow_symlinks=False).st_size\n",
    "    return total"
   ]
  },
  {
   "cell_type": "markdown",
   "metadata": {},
   "source": [
    "## RNA-Seq (k=23)"
   ]
  },
  {
   "cell_type": "code",
   "execution_count": 864,
   "metadata": {
    "ExecuteTime": {
     "end_time": "2020-11-13T12:06:29.601427Z",
     "start_time": "2020-11-13T12:06:27.577037Z"
    }
   },
   "outputs": [],
   "source": [
    "DIR = '/cluster/home/mikhaika/metagenome/data/mantis/subsets/mtg/'\n",
    "\n",
    "n_samples = []\n",
    "columns = []\n",
    "rd_optimized_10 = []\n",
    "rd_optimized_20 = []\n",
    "rd_optimized_40 = []\n",
    "rd_optimized_100 = []\n",
    "rd_optimized_100_multi_brwt = []\n",
    "rd_optimized_100_row_sparse = []\n",
    "multi_brwt = []\n",
    "rb_brwt = []\n",
    "mst = []\n",
    "\n",
    "for i in range(1, 11):\n",
    "    num_cols = !cat {DIR}../{i}k.txt | wc -l\n",
    "    n_samples.append(int(num_cols[0]))\n",
    "\n",
    "    #columns.append(get_total_size(f'{DIR}cols_{i}k/', '.column.annodbg'))\n",
    "    columns.append(np.nan)\n",
    "\n",
    "#     rd_optimized_10.append(get_total_size(f'{DIR}rd_10_{i}k/', '.annodbg'))\n",
    "#     rd_optimized_20.append(get_total_size(f'{DIR}rd_20_{i}k/', '.annodbg'))\n",
    "#     rd_optimized_40.append(get_total_size(f'{DIR}rd_40_{i}k/', '.annodbg'))\n",
    "    #rd_optimized_100.append(get_total_size(f'{DIR}rd_100_{i}k/', '.annodbg'))\n",
    "    rd_optimized_100.append(np.nan)\n",
    "\n",
    "    try:\n",
    "        rd_optimized_100_row_sparse.append(os.path.getsize(DIR + 'row_sparse/rd_100_{}k.row_diff_sparse.annodbg'.format(i)))\n",
    "    except:\n",
    "        rd_optimized_100_row_sparse.append(np.nan)\n",
    "\n",
    "    try:\n",
    "        rd_optimized_100_multi_brwt.append(os.path.getsize(DIR + 'multi_brwt/rd_100_{}k_relaxed.row_diff_brwt.annodbg'.format(i)))\n",
    "    except:\n",
    "        rd_optimized_100_multi_brwt.append(np.nan)\n",
    "\n",
    "    try:\n",
    "        multi_brwt.append(os.path.getsize(DIR + 'brwt_relaxed_{}k.brwt.annodbg'.format(i)))\n",
    "    except:\n",
    "        multi_brwt.append(np.nan)\n",
    "\n",
    "    try:\n",
    "        rb_brwt.append(os.path.getsize(DIR + 'rb_brwt_{}k.rb_brwt.annodbg'.format(i)))\n",
    "    except:\n",
    "        rb_brwt.append(np.nan)\n",
    "\n",
    "    try:\n",
    "        mantis_dir = '/cluster/work/grlab/projects/metagenome/data/mantis/mantis_cqfs/ser_{}k_scratch.fast/'.format(i)\n",
    "        mst.append(os.path.getsize(mantis_dir + 'parents.bv'.format(i))\n",
    "                    + os.path.getsize(mantis_dir + 'boundaries.bv'.format(i))\n",
    "                    + os.path.getsize(mantis_dir + 'deltas.bv'.format(i)))\n",
    "    except:\n",
    "        mst.append(np.nan)"
   ]
  },
  {
   "cell_type": "code",
   "execution_count": 865,
   "metadata": {
    "ExecuteTime": {
     "end_time": "2020-11-13T12:06:29.643835Z",
     "start_time": "2020-11-13T12:06:29.608097Z"
    }
   },
   "outputs": [],
   "source": [
    "rainbow_assignment_vector_size = [\n",
    "    5099393699,\n",
    "    8654440075,\n",
    "    12091059547,\n",
    "    15233585963,\n",
    "    18621953051,\n",
    "    21489605395,\n",
    "    24231542451,\n",
    "    27058051403,\n",
    "    30060233659,\n",
    "    32779537227\n",
    "]\n",
    "\n",
    "mst_paper_size = [\n",
    "    1.03 * 10**9,\n",
    "    2.35 * 10**9,\n",
    "    np.nan,\n",
    "    np.nan,\n",
    "    7.21 * 10**9,\n",
    "    np.nan,\n",
    "    np.nan,\n",
    "    np.nan,\n",
    "    np.nan,\n",
    "    16.28 * 10**9\n",
    "]"
   ]
  },
  {
   "cell_type": "code",
   "execution_count": 866,
   "metadata": {
    "ExecuteTime": {
     "end_time": "2020-11-13T12:06:29.674030Z",
     "start_time": "2020-11-13T12:06:29.645747Z"
    },
    "scrolled": true
   },
   "outputs": [
    {
     "data": {
      "text/html": [
       "<div>\n",
       "<style scoped>\n",
       "    .dataframe tbody tr th:only-of-type {\n",
       "        vertical-align: middle;\n",
       "    }\n",
       "\n",
       "    .dataframe tbody tr th {\n",
       "        vertical-align: top;\n",
       "    }\n",
       "\n",
       "    .dataframe thead th {\n",
       "        text-align: right;\n",
       "    }\n",
       "</style>\n",
       "<table border=\"1\" class=\"dataframe\">\n",
       "  <thead>\n",
       "    <tr style=\"text-align: right;\">\n",
       "      <th></th>\n",
       "      <th>n_samples</th>\n",
       "      <th>column_compressed</th>\n",
       "      <th>rb_brwt</th>\n",
       "      <th>multi_brwt</th>\n",
       "      <th>rd_optimized_100</th>\n",
       "      <th>rd_optimized_100_row_sparse</th>\n",
       "      <th>rd_optimized_100_multi_brwt</th>\n",
       "      <th>assignment_vector</th>\n",
       "      <th>mst</th>\n",
       "      <th>mst_paper</th>\n",
       "    </tr>\n",
       "  </thead>\n",
       "  <tbody>\n",
       "    <tr>\n",
       "      <th>0</th>\n",
       "      <td>1000</td>\n",
       "      <td>NaN</td>\n",
       "      <td>8488560511</td>\n",
       "      <td>NaN</td>\n",
       "      <td>NaN</td>\n",
       "      <td>5530827188</td>\n",
       "      <td>2531812320</td>\n",
       "      <td>5099393699</td>\n",
       "      <td>1062809114</td>\n",
       "      <td>1.030000e+09</td>\n",
       "    </tr>\n",
       "    <tr>\n",
       "      <th>1</th>\n",
       "      <td>2000</td>\n",
       "      <td>NaN</td>\n",
       "      <td>16167252150</td>\n",
       "      <td>NaN</td>\n",
       "      <td>NaN</td>\n",
       "      <td>11017855037</td>\n",
       "      <td>5440254833</td>\n",
       "      <td>8654440075</td>\n",
       "      <td>2322082202</td>\n",
       "      <td>2.350000e+09</td>\n",
       "    </tr>\n",
       "    <tr>\n",
       "      <th>2</th>\n",
       "      <td>3000</td>\n",
       "      <td>NaN</td>\n",
       "      <td>23920167278</td>\n",
       "      <td>NaN</td>\n",
       "      <td>NaN</td>\n",
       "      <td>17311213522</td>\n",
       "      <td>8655890681</td>\n",
       "      <td>12091059547</td>\n",
       "      <td>3817334178</td>\n",
       "      <td>NaN</td>\n",
       "    </tr>\n",
       "    <tr>\n",
       "      <th>3</th>\n",
       "      <td>4000</td>\n",
       "      <td>NaN</td>\n",
       "      <td>31537519288</td>\n",
       "      <td>NaN</td>\n",
       "      <td>NaN</td>\n",
       "      <td>23843155385</td>\n",
       "      <td>12045907430</td>\n",
       "      <td>15233585963</td>\n",
       "      <td>5183193210</td>\n",
       "      <td>NaN</td>\n",
       "    </tr>\n",
       "    <tr>\n",
       "      <th>4</th>\n",
       "      <td>5000</td>\n",
       "      <td>NaN</td>\n",
       "      <td>39399381367</td>\n",
       "      <td>NaN</td>\n",
       "      <td>NaN</td>\n",
       "      <td>31019333253</td>\n",
       "      <td>15764093014</td>\n",
       "      <td>18621953051</td>\n",
       "      <td>6975993530</td>\n",
       "      <td>7.210000e+09</td>\n",
       "    </tr>\n",
       "    <tr>\n",
       "      <th>5</th>\n",
       "      <td>6000</td>\n",
       "      <td>NaN</td>\n",
       "      <td>46758713412</td>\n",
       "      <td>NaN</td>\n",
       "      <td>NaN</td>\n",
       "      <td>37915590645</td>\n",
       "      <td>19244895186</td>\n",
       "      <td>21489605395</td>\n",
       "      <td>8473578282</td>\n",
       "      <td>NaN</td>\n",
       "    </tr>\n",
       "    <tr>\n",
       "      <th>6</th>\n",
       "      <td>7000</td>\n",
       "      <td>NaN</td>\n",
       "      <td>53997524167</td>\n",
       "      <td>NaN</td>\n",
       "      <td>NaN</td>\n",
       "      <td>44797875565</td>\n",
       "      <td>22793838248</td>\n",
       "      <td>24231542451</td>\n",
       "      <td>10000729970</td>\n",
       "      <td>NaN</td>\n",
       "    </tr>\n",
       "    <tr>\n",
       "      <th>7</th>\n",
       "      <td>8000</td>\n",
       "      <td>NaN</td>\n",
       "      <td>61686156920</td>\n",
       "      <td>NaN</td>\n",
       "      <td>NaN</td>\n",
       "      <td>52224641757</td>\n",
       "      <td>26761020255</td>\n",
       "      <td>27058051403</td>\n",
       "      <td>11558990202</td>\n",
       "      <td>NaN</td>\n",
       "    </tr>\n",
       "    <tr>\n",
       "      <th>8</th>\n",
       "      <td>9000</td>\n",
       "      <td>NaN</td>\n",
       "      <td>69520201705</td>\n",
       "      <td>NaN</td>\n",
       "      <td>NaN</td>\n",
       "      <td>59868927733</td>\n",
       "      <td>30645683567</td>\n",
       "      <td>30060233659</td>\n",
       "      <td>13902107962</td>\n",
       "      <td>NaN</td>\n",
       "    </tr>\n",
       "    <tr>\n",
       "      <th>9</th>\n",
       "      <td>9998</td>\n",
       "      <td>NaN</td>\n",
       "      <td>77027638437</td>\n",
       "      <td>NaN</td>\n",
       "      <td>NaN</td>\n",
       "      <td>67205864585</td>\n",
       "      <td>34423279580</td>\n",
       "      <td>32779537227</td>\n",
       "      <td>15569878818</td>\n",
       "      <td>1.628000e+10</td>\n",
       "    </tr>\n",
       "  </tbody>\n",
       "</table>\n",
       "</div>"
      ],
      "text/plain": [
       "   n_samples  column_compressed      rb_brwt  multi_brwt  rd_optimized_100  \\\n",
       "0       1000                NaN   8488560511         NaN               NaN   \n",
       "1       2000                NaN  16167252150         NaN               NaN   \n",
       "2       3000                NaN  23920167278         NaN               NaN   \n",
       "3       4000                NaN  31537519288         NaN               NaN   \n",
       "4       5000                NaN  39399381367         NaN               NaN   \n",
       "5       6000                NaN  46758713412         NaN               NaN   \n",
       "6       7000                NaN  53997524167         NaN               NaN   \n",
       "7       8000                NaN  61686156920         NaN               NaN   \n",
       "8       9000                NaN  69520201705         NaN               NaN   \n",
       "9       9998                NaN  77027638437         NaN               NaN   \n",
       "\n",
       "   rd_optimized_100_row_sparse  rd_optimized_100_multi_brwt  \\\n",
       "0                   5530827188                   2531812320   \n",
       "1                  11017855037                   5440254833   \n",
       "2                  17311213522                   8655890681   \n",
       "3                  23843155385                  12045907430   \n",
       "4                  31019333253                  15764093014   \n",
       "5                  37915590645                  19244895186   \n",
       "6                  44797875565                  22793838248   \n",
       "7                  52224641757                  26761020255   \n",
       "8                  59868927733                  30645683567   \n",
       "9                  67205864585                  34423279580   \n",
       "\n",
       "   assignment_vector          mst     mst_paper  \n",
       "0         5099393699   1062809114  1.030000e+09  \n",
       "1         8654440075   2322082202  2.350000e+09  \n",
       "2        12091059547   3817334178           NaN  \n",
       "3        15233585963   5183193210           NaN  \n",
       "4        18621953051   6975993530  7.210000e+09  \n",
       "5        21489605395   8473578282           NaN  \n",
       "6        24231542451  10000729970           NaN  \n",
       "7        27058051403  11558990202           NaN  \n",
       "8        30060233659  13902107962           NaN  \n",
       "9        32779537227  15569878818  1.628000e+10  "
      ]
     },
     "execution_count": 866,
     "metadata": {},
     "output_type": "execute_result"
    }
   ],
   "source": [
    "results = pd.DataFrame(columns=['n_samples', 'column_compressed', 'rb_brwt', 'multi_brwt',\n",
    "                                #'rd_optimized_10', 'rd_optimized_20', 'rd_optimized_40',\n",
    "                                'rd_optimized_100',\n",
    "                                'rd_optimized_100_row_sparse',\n",
    "                                'rd_optimized_100_multi_brwt',\n",
    "                                'assignment_vector',\n",
    "                                'mst',\n",
    "                                'mst_paper'],\n",
    "                       data=zip(n_samples, columns, rb_brwt, multi_brwt,\n",
    "                                #rd_optimized_10, rd_optimized_20, rd_optimized_40,\n",
    "                                rd_optimized_100,\n",
    "                                rd_optimized_100_row_sparse,\n",
    "                                rd_optimized_100_multi_brwt,\n",
    "                                rainbow_assignment_vector_size,\n",
    "                                mst,\n",
    "                                mst_paper_size))\n",
    "results"
   ]
  },
  {
   "cell_type": "code",
   "execution_count": 867,
   "metadata": {
    "ExecuteTime": {
     "end_time": "2020-11-13T12:06:31.287631Z",
     "start_time": "2020-11-13T12:06:31.265577Z"
    }
   },
   "outputs": [
    {
     "data": {
      "text/plain": [
       "48349416045"
      ]
     },
     "execution_count": 867,
     "metadata": {},
     "output_type": "execute_result"
    }
   ],
   "source": [
    "(results.assignment_vector + results.mst).iloc[-1]"
   ]
  },
  {
   "cell_type": "code",
   "execution_count": 868,
   "metadata": {
    "ExecuteTime": {
     "end_time": "2020-11-13T12:06:32.181985Z",
     "start_time": "2020-11-13T12:06:32.157991Z"
    }
   },
   "outputs": [
    {
     "data": {
      "text/plain": [
       "34423279580"
      ]
     },
     "execution_count": 868,
     "metadata": {},
     "output_type": "execute_result"
    }
   ],
   "source": [
    "results.rd_optimized_100_multi_brwt.iloc[-1]"
   ]
  },
  {
   "cell_type": "code",
   "execution_count": 869,
   "metadata": {
    "ExecuteTime": {
     "end_time": "2020-11-13T12:06:35.441504Z",
     "start_time": "2020-11-13T12:06:34.730882Z"
    }
   },
   "outputs": [
    {
     "data": {
      "image/png": "[encoded data removed]",
      "text/plain": [
       "<Figure size 376.596x232.754 with 1 Axes>"
      ]
     },
     "metadata": {
      "needs_background": "light"
     },
     "output_type": "display_data"
    }
   ],
   "source": [
    "width = 3.487 * 1.5\n",
    "height = width / 1.618\n",
    "\n",
    "fig, axes = plt.subplots(1, 1, figsize=(width, height))\n",
    "#ax.set_title('RefSeq assembly graph')\n",
    "\n",
    "# results.sort_values('num_kmers', inplace=True)\n",
    "\n",
    "# colors = ['c', 'b', 'g', 'r']\n",
    "\n",
    "ax = axes\n",
    "\n",
    "# lines = ax.plot(results.n_samples, results.rb_brwt / 10**9,\n",
    "#                 marker='o', ms=4, label='Rainbow-BRWT', linestyle='-.')\n",
    "\n",
    "f = ~(results.assignment_vector + results.mst).isna()\n",
    "lines = ax.plot(results.n_samples[f], (results.assignment_vector + results.mst)[f] / 10**9,\n",
    "                marker='o', ms=4, label='Rainbow-MST')\n",
    "\n",
    "# f = ~(results.assignment_vector + results.mst_paper).isna()\n",
    "# lines = ax.plot(results.n_samples[f], (results.assignment_vector + results.mst_paper)[f] / 10**9,\n",
    "#                 marker='o', ms=4, label='Rainbow-MST reported')\n",
    "\n",
    "lines = ax.plot(results.n_samples, results.assignment_vector / 10**9,\n",
    "                marker='o', ms=4, label='Rainbow-MST (mapping only)', linestyle='-.')\n",
    "\n",
    "lines = ax.plot(results.n_samples, results.multi_brwt / 10**9,\n",
    "                marker='o', ms=4, label='MultiBRWT')\n",
    "\n",
    "# ax.plot(results.n_samples, results.column_compressed / 10**9,\n",
    "#         marker='o', ms=4, label='ColumnCompressed', linestyle=':')\n",
    "\n",
    "# ax.plot(results.n_samples, results.rd_optimized_100 / 10**9,\n",
    "#         marker='o', ms=4, label='RowDiff(100)-ColumnCompressed', linestyle=':')\n",
    "\n",
    "ax.plot(results.n_samples, results.rd_optimized_100_row_sparse / 10**9,\n",
    "        marker='o', ms=4, label='RowDiff-RowSparse')\n",
    "\n",
    "ax.plot(results.n_samples, results.rd_optimized_100_multi_brwt / 10**9,\n",
    "        marker='o', ms=4, label='RowDiff-MultiBRWT')\n",
    "\n",
    "# ax.plot(results.n_samples,\n",
    "#         (results.graph + results.anno_column) / 10**9,\n",
    "#         marker='o', ms=4, label='RowDiff (Graph + Column)', color=lines[0].get_color())\n",
    "\n",
    "#ax.set_title('10k RNA-Seq samples, k=23, k-mer level cleaning')\n",
    "ax.set_xlabel('Number of SRA samples')\n",
    "ax.set_ylabel('Size, GB')\n",
    "#     ax.set_xlim([-1e9, 25e9])\n",
    "#ax.set_xticks(np.array(k_array))\n",
    "ax.grid(True)\n",
    "ax.legend(loc='best', fontsize=9)\n",
    "\n",
    "#legend = ax.legend(loc=\"best\", fontsize=12)\n",
    "legend.get_frame().set_facecolor('none')\n",
    "# plt.ylim([-5, 110])\n",
    "# axes[1].set_ylim([-1e-1, 75])\n",
    "#plt.xscale('symlog')\n",
    "#plt.yscale('symlog')\n",
    "\n",
    "plt.tight_layout()\n",
    "plt.savefig('rnaseq_23_size.pdf', format='pdf', bbox_inches='tight')\n",
    "plt.show()"
   ]
  },
  {
   "cell_type": "markdown",
   "metadata": {},
   "source": [
    "## RNA-Seq (k=31, unitig cleaning)"
   ]
  },
  {
   "cell_type": "code",
   "execution_count": 870,
   "metadata": {
    "ExecuteTime": {
     "end_time": "2020-11-13T12:06:37.513717Z",
     "start_time": "2020-11-13T12:06:37.317146Z"
    }
   },
   "outputs": [
    {
     "name": "stdout",
     "output_type": "stream",
     "text": [
      "total 438G\r\n",
      "-rw-rw---- 1 hmustafa INFK-Raetsch-Collab 851M Nov  5 04:14 0_eqclass_rrr.cls\r\n",
      "-rw-rw---- 1 hmustafa INFK-Raetsch-Collab 1.1G Nov  5 04:14 1_eqclass_rrr.cls\r\n",
      "-rw-rw---- 1 hmustafa INFK-Raetsch-Collab 1.2G Nov  5 04:14 2_eqclass_rrr.cls\r\n",
      "-rw-rw---- 1 hmustafa INFK-Raetsch-Collab  38M Nov  5 04:14 3_eqclass_rrr.cls\r\n",
      "-rw-rw---- 1 hmustafa INFK-Raetsch-Collab  25M Nov  5 14:53 boundaries.bv\r\n",
      "-rwx------ 1 hmustafa INFK-Raetsch-Collab 435G Nov  5 04:14 dbg_cqf.ser\r\n",
      "-rw-rw---- 1 hmustafa INFK-Raetsch-Collab 250M Nov  5 14:53 deltas.bv\r\n",
      "-rw-rw---- 1 hmustafa INFK-Raetsch-Collab  385 Nov  5 03:59 meta_info.json\r\n",
      "-rw-rw---- 1 hmustafa INFK-Raetsch-Collab 188M Nov  5 14:53 parents.bv\r\n",
      "-rw-rw---- 1 hmustafa INFK-Raetsch-Collab  23K Nov  5 04:14 sampleid.lst\r\n"
     ]
    }
   ],
   "source": [
    "!ls -lh /cluster/work/grlab/projects/metagenome/data/mantis/mantis_cqfs_k31/clean_1k.ser/"
   ]
  },
  {
   "cell_type": "code",
   "execution_count": 871,
   "metadata": {
    "ExecuteTime": {
     "end_time": "2020-11-13T12:06:37.902946Z",
     "start_time": "2020-11-13T12:06:37.651554Z"
    }
   },
   "outputs": [],
   "source": [
    "DIR = '/cluster/home/mikhaika/metagenome/data/mantis/subsets/clean_rnaseq/mtg/'\n",
    "\n",
    "n_samples = []\n",
    "columns = []\n",
    "rd_optimized_10 = []\n",
    "rd_optimized_20 = []\n",
    "rd_optimized_40 = []\n",
    "rd_optimized_100 = []\n",
    "rd_optimized_100_multi_brwt = []\n",
    "rd_optimized_100_multi_brwt_relax = []\n",
    "rd_optimized_100_row_sparse = []\n",
    "rb_brwt = []\n",
    "multi_brwt = []\n",
    "mst = []\n",
    "\n",
    "for i in range(1, 11):\n",
    "    num_cols = !cat {DIR}../clean_{i}k.txt | wc -l\n",
    "    n_samples.append(int(num_cols[0]))\n",
    "\n",
    "    #columns.append(get_total_size(f'{DIR}cols_{i}k/', '.column.annodbg'))\n",
    "    columns.append(np.nan)\n",
    "\n",
    "#     rd_optimized_10.append(get_total_size(f'{DIR}rd_10_{i}k/', '.annodbg'))\n",
    "#     rd_optimized_20.append(get_total_size(f'{DIR}rd_20_{i}k/', '.annodbg'))\n",
    "#     rd_optimized_40.append(get_total_size(f'{DIR}rd_40_{i}k/', '.annodbg'))\n",
    "    #rd_optimized_100.append(get_total_size(f'{DIR}rd_100_{i}k/', '.annodbg'))\n",
    "    rd_optimized_100.append(np.nan)\n",
    "\n",
    "    try:\n",
    "        rd_optimized_100_row_sparse.append(os.path.getsize(DIR + 'row_sparse/rd_100_{}k.row_diff_sparse.annodbg'.format(i)))\n",
    "    except:\n",
    "        rd_optimized_100_row_sparse.append(np.nan)\n",
    "\n",
    "    try:\n",
    "        rd_optimized_100_multi_brwt.append(os.path.getsize(DIR + 'multi_brwt/rd_100_{}k.row_diff_brwt.annodbg'.format(i)))\n",
    "    except:\n",
    "        rd_optimized_100_multi_brwt.append(np.nan)\n",
    "\n",
    "    try:\n",
    "        rd_optimized_100_multi_brwt_relax.append(os.path.getsize(DIR + 'multi_brwt/rd_100_{}k_relaxed.row_diff_brwt.annodbg'.format(i)))\n",
    "    except:\n",
    "        rd_optimized_100_multi_brwt_relax.append(np.nan)\n",
    "\n",
    "    try:\n",
    "        multi_brwt.append(os.path.getsize(DIR + 'brwt_relaxed_{}k.brwt.annodbg'.format(i)))\n",
    "    except:\n",
    "        multi_brwt.append(np.nan)\n",
    "\n",
    "    try:\n",
    "        rb_brwt.append(os.path.getsize(DIR + 'rb_brwt_{}k.rb_brwt.annodbg'.format(i)))\n",
    "    except:\n",
    "        rb_brwt.append(np.nan)\n",
    "\n",
    "    try:\n",
    "        mantis_dir = '/cluster/work/grlab/projects/metagenome/data/mantis/mantis_cqfs_k31/clean_{}k.ser/'.format(i)\n",
    "        mst.append(os.path.getsize(mantis_dir + 'parents.bv'.format(i))\n",
    "                    + os.path.getsize(mantis_dir + 'boundaries.bv'.format(i))\n",
    "                    + os.path.getsize(mantis_dir + 'deltas.bv'.format(i)))\n",
    "    except:\n",
    "        mst.append(np.nan)"
   ]
  },
  {
   "cell_type": "code",
   "execution_count": 872,
   "metadata": {
    "ExecuteTime": {
     "end_time": "2020-11-13T12:06:38.315397Z",
     "start_time": "2020-11-13T12:06:38.287842Z"
    }
   },
   "outputs": [],
   "source": [
    "rainbow_assignment_vector_size = [\n",
    "    2815406523,\n",
    "    4957627475,\n",
    "    6917054947,\n",
    "    9048889499,\n",
    "    10772682811,\n",
    "    12484537211,\n",
    "    14253139523,\n",
    "    15845354939,\n",
    "    17167501371,\n",
    "    18623736859\n",
    "]"
   ]
  },
  {
   "cell_type": "code",
   "execution_count": 873,
   "metadata": {
    "ExecuteTime": {
     "end_time": "2020-11-13T12:06:39.015185Z",
     "start_time": "2020-11-13T12:06:38.973213Z"
    }
   },
   "outputs": [
    {
     "data": {
      "text/html": [
       "<div>\n",
       "<style scoped>\n",
       "    .dataframe tbody tr th:only-of-type {\n",
       "        vertical-align: middle;\n",
       "    }\n",
       "\n",
       "    .dataframe tbody tr th {\n",
       "        vertical-align: top;\n",
       "    }\n",
       "\n",
       "    .dataframe thead th {\n",
       "        text-align: right;\n",
       "    }\n",
       "</style>\n",
       "<table border=\"1\" class=\"dataframe\">\n",
       "  <thead>\n",
       "    <tr style=\"text-align: right;\">\n",
       "      <th></th>\n",
       "      <th>n_samples</th>\n",
       "      <th>column_compressed</th>\n",
       "      <th>rb_brwt</th>\n",
       "      <th>multi_brwt</th>\n",
       "      <th>rd_optimized_100</th>\n",
       "      <th>rd_optimized_100_row_sparse</th>\n",
       "      <th>rd_optimized_100_multi_brwt</th>\n",
       "      <th>rd_optimized_100_multi_brwt_relax</th>\n",
       "      <th>assignment_vector</th>\n",
       "      <th>mst</th>\n",
       "    </tr>\n",
       "  </thead>\n",
       "  <tbody>\n",
       "    <tr>\n",
       "      <th>0</th>\n",
       "      <td>1000</td>\n",
       "      <td>NaN</td>\n",
       "      <td>4967027020</td>\n",
       "      <td>NaN</td>\n",
       "      <td>NaN</td>\n",
       "      <td>2294274398</td>\n",
       "      <td>1145770587</td>\n",
       "      <td>1049395885</td>\n",
       "      <td>2815406523</td>\n",
       "      <td>4.847324e+08</td>\n",
       "    </tr>\n",
       "    <tr>\n",
       "      <th>1</th>\n",
       "      <td>2000</td>\n",
       "      <td>NaN</td>\n",
       "      <td>9885456111</td>\n",
       "      <td>NaN</td>\n",
       "      <td>NaN</td>\n",
       "      <td>4814296499</td>\n",
       "      <td>2553543258</td>\n",
       "      <td>2356312080</td>\n",
       "      <td>4957627475</td>\n",
       "      <td>1.036598e+09</td>\n",
       "    </tr>\n",
       "    <tr>\n",
       "      <th>2</th>\n",
       "      <td>3000</td>\n",
       "      <td>NaN</td>\n",
       "      <td>14691273398</td>\n",
       "      <td>NaN</td>\n",
       "      <td>NaN</td>\n",
       "      <td>7742324860</td>\n",
       "      <td>4168168289</td>\n",
       "      <td>3848702767</td>\n",
       "      <td>6917054947</td>\n",
       "      <td>1.695106e+09</td>\n",
       "    </tr>\n",
       "    <tr>\n",
       "      <th>3</th>\n",
       "      <td>4000</td>\n",
       "      <td>NaN</td>\n",
       "      <td>19741398594</td>\n",
       "      <td>NaN</td>\n",
       "      <td>NaN</td>\n",
       "      <td>11003134245</td>\n",
       "      <td>5956971856</td>\n",
       "      <td>5515989731</td>\n",
       "      <td>9048889499</td>\n",
       "      <td>2.316454e+09</td>\n",
       "    </tr>\n",
       "    <tr>\n",
       "      <th>4</th>\n",
       "      <td>5000</td>\n",
       "      <td>NaN</td>\n",
       "      <td>24518006395</td>\n",
       "      <td>NaN</td>\n",
       "      <td>NaN</td>\n",
       "      <td>14279298334</td>\n",
       "      <td>7810227944</td>\n",
       "      <td>7184110675</td>\n",
       "      <td>10772682811</td>\n",
       "      <td>NaN</td>\n",
       "    </tr>\n",
       "    <tr>\n",
       "      <th>5</th>\n",
       "      <td>6000</td>\n",
       "      <td>NaN</td>\n",
       "      <td>29382249524</td>\n",
       "      <td>NaN</td>\n",
       "      <td>NaN</td>\n",
       "      <td>17715095021</td>\n",
       "      <td>9672461493</td>\n",
       "      <td>8972634453</td>\n",
       "      <td>12484537211</td>\n",
       "      <td>NaN</td>\n",
       "    </tr>\n",
       "    <tr>\n",
       "      <th>6</th>\n",
       "      <td>7000</td>\n",
       "      <td>NaN</td>\n",
       "      <td>34228003338</td>\n",
       "      <td>NaN</td>\n",
       "      <td>NaN</td>\n",
       "      <td>21380624941</td>\n",
       "      <td>11725944179</td>\n",
       "      <td>10808941955</td>\n",
       "      <td>14253139523</td>\n",
       "      <td>NaN</td>\n",
       "    </tr>\n",
       "    <tr>\n",
       "      <th>7</th>\n",
       "      <td>8000</td>\n",
       "      <td>NaN</td>\n",
       "      <td>38972878572</td>\n",
       "      <td>NaN</td>\n",
       "      <td>NaN</td>\n",
       "      <td>25092194191</td>\n",
       "      <td>13712189799</td>\n",
       "      <td>12735241848</td>\n",
       "      <td>15845354939</td>\n",
       "      <td>NaN</td>\n",
       "    </tr>\n",
       "    <tr>\n",
       "      <th>8</th>\n",
       "      <td>9000</td>\n",
       "      <td>NaN</td>\n",
       "      <td>43342378785</td>\n",
       "      <td>NaN</td>\n",
       "      <td>NaN</td>\n",
       "      <td>28551627449</td>\n",
       "      <td>15621589359</td>\n",
       "      <td>14520989152</td>\n",
       "      <td>17167501371</td>\n",
       "      <td>NaN</td>\n",
       "    </tr>\n",
       "    <tr>\n",
       "      <th>9</th>\n",
       "      <td>9937</td>\n",
       "      <td>NaN</td>\n",
       "      <td>47708755229</td>\n",
       "      <td>NaN</td>\n",
       "      <td>NaN</td>\n",
       "      <td>32056044811</td>\n",
       "      <td>17492758873</td>\n",
       "      <td>16206551407</td>\n",
       "      <td>18623736859</td>\n",
       "      <td>NaN</td>\n",
       "    </tr>\n",
       "  </tbody>\n",
       "</table>\n",
       "</div>"
      ],
      "text/plain": [
       "   n_samples  column_compressed      rb_brwt  multi_brwt  rd_optimized_100  \\\n",
       "0       1000                NaN   4967027020         NaN               NaN   \n",
       "1       2000                NaN   9885456111         NaN               NaN   \n",
       "2       3000                NaN  14691273398         NaN               NaN   \n",
       "3       4000                NaN  19741398594         NaN               NaN   \n",
       "4       5000                NaN  24518006395         NaN               NaN   \n",
       "5       6000                NaN  29382249524         NaN               NaN   \n",
       "6       7000                NaN  34228003338         NaN               NaN   \n",
       "7       8000                NaN  38972878572         NaN               NaN   \n",
       "8       9000                NaN  43342378785         NaN               NaN   \n",
       "9       9937                NaN  47708755229         NaN               NaN   \n",
       "\n",
       "   rd_optimized_100_row_sparse  rd_optimized_100_multi_brwt  \\\n",
       "0                   2294274398                   1145770587   \n",
       "1                   4814296499                   2553543258   \n",
       "2                   7742324860                   4168168289   \n",
       "3                  11003134245                   5956971856   \n",
       "4                  14279298334                   7810227944   \n",
       "5                  17715095021                   9672461493   \n",
       "6                  21380624941                  11725944179   \n",
       "7                  25092194191                  13712189799   \n",
       "8                  28551627449                  15621589359   \n",
       "9                  32056044811                  17492758873   \n",
       "\n",
       "   rd_optimized_100_multi_brwt_relax  assignment_vector           mst  \n",
       "0                         1049395885         2815406523  4.847324e+08  \n",
       "1                         2356312080         4957627475  1.036598e+09  \n",
       "2                         3848702767         6917054947  1.695106e+09  \n",
       "3                         5515989731         9048889499  2.316454e+09  \n",
       "4                         7184110675        10772682811           NaN  \n",
       "5                         8972634453        12484537211           NaN  \n",
       "6                        10808941955        14253139523           NaN  \n",
       "7                        12735241848        15845354939           NaN  \n",
       "8                        14520989152        17167501371           NaN  \n",
       "9                        16206551407        18623736859           NaN  "
      ]
     },
     "execution_count": 873,
     "metadata": {},
     "output_type": "execute_result"
    }
   ],
   "source": [
    "results = pd.DataFrame(columns=['n_samples', 'column_compressed', 'rb_brwt', 'multi_brwt',\n",
    "                                #'rd_optimized_10', 'rd_optimized_20', 'rd_optimized_40',\n",
    "                                'rd_optimized_100',\n",
    "                                'rd_optimized_100_row_sparse',\n",
    "                                'rd_optimized_100_multi_brwt',\n",
    "                                'rd_optimized_100_multi_brwt_relax',\n",
    "                                'assignment_vector',\n",
    "                                'mst'],\n",
    "                       data=zip(n_samples, columns, rb_brwt, multi_brwt,\n",
    "                                #rd_optimized_10, rd_optimized_20, rd_optimized_40,\n",
    "                                rd_optimized_100,\n",
    "                                rd_optimized_100_row_sparse,\n",
    "                                rd_optimized_100_multi_brwt,\n",
    "                                rd_optimized_100_multi_brwt_relax,\n",
    "                                rainbow_assignment_vector_size,\n",
    "                                mst))\n",
    "results"
   ]
  },
  {
   "cell_type": "code",
   "execution_count": 874,
   "metadata": {
    "ExecuteTime": {
     "end_time": "2020-11-13T12:06:40.178728Z",
     "start_time": "2020-11-13T12:06:39.483199Z"
    }
   },
   "outputs": [
    {
     "data": {
      "image/png": "[encoded data removed]",
      "text/plain": [
       "<Figure size 376.596x232.754 with 1 Axes>"
      ]
     },
     "metadata": {
      "needs_background": "light"
     },
     "output_type": "display_data"
    }
   ],
   "source": [
    "width = 3.487 * 1.5\n",
    "height = width / 1.618\n",
    "\n",
    "fig, axes = plt.subplots(1, 1, figsize=(width, height))\n",
    "#ax.set_title('RefSeq assembly graph')\n",
    "\n",
    "# results.sort_values('num_kmers', inplace=True)\n",
    "\n",
    "# colors = ['c', 'b', 'g', 'r']\n",
    "\n",
    "ax = axes\n",
    "\n",
    "# lines = ax.plot(results.n_samples, results.rb_brwt / 10**9,\n",
    "#                 marker='o', ms=4, label='Rainbow-BRWT', linestyle='-.')\n",
    "\n",
    "f = ~(results.assignment_vector + results.mst).isna()\n",
    "lines = ax.plot(results.n_samples[f], (results.assignment_vector + results.mst)[f] / 10**9,\n",
    "                marker='o', ms=4, label='Rainbow-MST')\n",
    "\n",
    "lines = ax.plot(results.n_samples, results.assignment_vector / 10**9,\n",
    "                marker='o', ms=4, label='Rainbow-MST (mapping only)', linestyle='-.')\n",
    "\n",
    "lines = ax.plot(results.n_samples, results.multi_brwt / 10**9,\n",
    "                marker='o', ms=4, label='MultiBRWT')\n",
    "\n",
    "# ax.plot(results.n_samples, results.column_compressed / 10**9,\n",
    "#         marker='o', ms=4, label='ColumnCompressed', linestyle=':')\n",
    "\n",
    "# ax.plot(results.n_samples, results.rd_optimized_100 / 10**9,\n",
    "#         marker='o', ms=4, label='RowDiff(100)-ColumnCompressed', linestyle=':')\n",
    "\n",
    "ax.plot(results.n_samples, results.rd_optimized_100_row_sparse / 10**9,\n",
    "        marker='o', ms=4, label='RowDiff-RowSparse')\n",
    "\n",
    "# ax.plot(results.n_samples, results.rd_optimized_100_multi_brwt / 10**9,\n",
    "#         marker='o', ms=4, label='RowDiff-MultiBRWT')\n",
    "ax.plot(results.n_samples, results.rd_optimized_100_multi_brwt_relax / 10**9,\n",
    "        marker='o', ms=4, label='RowDiff-MultiBRWT')\n",
    "\n",
    "#ax.set_title('10k RNA-Seq samples, k=31, unitig level cleaning')\n",
    "ax.set_xlabel('Number of SRA samples')\n",
    "ax.set_ylabel('Size, GB')\n",
    "#     ax.set_xlim([-1e9, 25e9])\n",
    "#ax.set_xticks(np.array(k_array))\n",
    "ax.grid(True)\n",
    "#     ax.legend(loc='best')\n",
    "#ax.set_xlim([900, 4100])\n",
    "#ax.set_ylim([0, 14])\n",
    "\n",
    "legend = ax.legend(loc=\"best\", fontsize=9)\n",
    "#legend.get_frame().set_facecolor('none')\n",
    "# plt.ylim([-5, 110])\n",
    "# axes[1].set_ylim([-1e-1, 75])\n",
    "#plt.xscale('symlog')\n",
    "#plt.yscale('symlog')\n",
    "\n",
    "plt.tight_layout()\n",
    "plt.savefig('rnaseq_31_size.pdf', format='pdf', bbox_inches='tight')\n",
    "plt.show()"
   ]
  },
  {
   "cell_type": "markdown",
   "metadata": {},
   "source": [
    "## RefSeq Fungi (k=31)"
   ]
  },
  {
   "cell_type": "code",
   "execution_count": 875,
   "metadata": {
    "ExecuteTime": {
     "end_time": "2020-11-13T12:06:41.033240Z",
     "start_time": "2020-11-13T12:06:40.858791Z"
    }
   },
   "outputs": [
    {
     "name": "stdout",
     "output_type": "stream",
     "text": [
      "total 435G\r\n",
      "-rw-rw---- 1 hmustafa INFK-Raetsch-Collab 923K Nov  5 11:38 0_eqclass_rrr.cls\r\n",
      "-rw-rw---- 1 hmustafa INFK-Raetsch-Collab 9.4K Nov  5 14:47 boundaries.bv\r\n",
      "-rwx------ 1 hmustafa INFK-Raetsch-Collab 435G Nov  5 12:34 dbg_cqf.ser\r\n",
      "-rw-rw---- 1 hmustafa INFK-Raetsch-Collab 103K Nov  5 14:47 deltas.bv\r\n",
      "-rw-rw---- 1 hmustafa INFK-Raetsch-Collab  413 Nov  5 11:38 meta_info.json\r\n",
      "-rw-rw---- 1 hmustafa INFK-Raetsch-Collab  55K Nov  5 14:47 parents.bv\r\n",
      "-rw-rw---- 1 hmustafa INFK-Raetsch-Collab  31K Nov  5 12:34 sampleid.lst\r\n"
     ]
    }
   ],
   "source": [
    "!ls -lh /cluster/work/grlab/projects/metagenome/data/mantis/subsets/refseq/mantis/mantis_cqfs/ser_1_shuf/ser_1_shuf"
   ]
  },
  {
   "cell_type": "code",
   "execution_count": 876,
   "metadata": {
    "ExecuteTime": {
     "end_time": "2020-11-13T12:06:41.642787Z",
     "start_time": "2020-11-13T12:06:41.445333Z"
    }
   },
   "outputs": [],
   "source": [
    "DIR = '/cluster/home/mikhaika/metagenome/data/mantis/subsets/refseq/mtg/'\n",
    "\n",
    "n_samples = []\n",
    "columns = []\n",
    "rd_optimized_10 = []\n",
    "rd_optimized_20 = []\n",
    "rd_optimized_40 = []\n",
    "rd_optimized_100 = []\n",
    "rd_optimized_100_multi_brwt = []\n",
    "rd_optimized_100_row_sparse = []\n",
    "multi_brwt = []\n",
    "rb_brwt = []\n",
    "mst = []\n",
    "\n",
    "for i in range(1, 9):\n",
    "    num_cols = !cat {DIR}../{i}.txt | wc -l\n",
    "    n_samples.append(int(num_cols[0]))\n",
    "\n",
    "    #columns.append(get_total_size(f'{DIR}cols_{i}/', '.column.annodbg'))\n",
    "    columns.append(np.nan)\n",
    "\n",
    "#     rd_optimized_10.append(get_total_size(f'{DIR}rd_10_{i}/', '.annodbg'))\n",
    "#     rd_optimized_20.append(get_total_size(f'{DIR}rd_20_{i}/', '.annodbg'))\n",
    "#     rd_optimized_40.append(get_total_size(f'{DIR}rd_40_{i}/', '.annodbg'))\n",
    "    #rd_optimized_100.append(get_total_size(f'{DIR}rd_100_{i}/', '.annodbg'))\n",
    "    rd_optimized_100.append(np.nan)\n",
    "\n",
    "    try:\n",
    "        rd_optimized_100_row_sparse.append(os.path.getsize(DIR + 'row_sparse/rd_100_{}.row_diff_sparse.annodbg'.format(i)))\n",
    "    except:\n",
    "        rd_optimized_100_row_sparse.append(np.nan)\n",
    "\n",
    "    try:\n",
    "        rd_optimized_100_multi_brwt.append(os.path.getsize(DIR + 'multi_brwt/rd_100_{}_relaxed.row_diff_brwt.annodbg'.format(i)))\n",
    "    except:\n",
    "        rd_optimized_100_multi_brwt.append(np.nan)\n",
    "\n",
    "    try:\n",
    "        multi_brwt.append(os.path.getsize(DIR + 'brwt_relaxed_{}.brwt.annodbg'.format(i)))\n",
    "    except:\n",
    "        multi_brwt.append(np.nan)\n",
    "\n",
    "    try:\n",
    "        rb_brwt.append(os.path.getsize(DIR + 'rb_brwt_{}.rb_brwt.annodbg'.format(i)))\n",
    "    except:\n",
    "        rb_brwt.append(np.nan)\n",
    "\n",
    "    try:\n",
    "        mantis_dir = f'/cluster/work/grlab/projects/metagenome/data/mantis/subsets/refseq/mantis/mantis_cqfs/ser_{i}_shuf/ser_{i}_shuf/'\n",
    "        mst.append(os.path.getsize(mantis_dir + 'parents.bv'.format(i))\n",
    "                    + os.path.getsize(mantis_dir + 'boundaries.bv'.format(i))\n",
    "                    + os.path.getsize(mantis_dir + 'deltas.bv'.format(i)))\n",
    "    except:\n",
    "        mst.append(np.nan)"
   ]
  },
  {
   "cell_type": "code",
   "execution_count": 877,
   "metadata": {
    "ExecuteTime": {
     "end_time": "2020-11-13T12:06:42.068639Z",
     "start_time": "2020-11-13T12:06:42.040599Z"
    }
   },
   "outputs": [],
   "source": [
    "rainbow_assignment_vector_size = [\n",
    "    559366427,\n",
    "    1753863675,\n",
    "    2781310035,\n",
    "    4629853907,\n",
    "    6282245131,\n",
    "    8013484075,\n",
    "    9613881579,\n",
    "    11409517403\n",
    "]"
   ]
  },
  {
   "cell_type": "code",
   "execution_count": 878,
   "metadata": {
    "ExecuteTime": {
     "end_time": "2020-11-13T12:06:42.440894Z",
     "start_time": "2020-11-13T12:06:42.405091Z"
    }
   },
   "outputs": [
    {
     "data": {
      "text/html": [
       "<div>\n",
       "<style scoped>\n",
       "    .dataframe tbody tr th:only-of-type {\n",
       "        vertical-align: middle;\n",
       "    }\n",
       "\n",
       "    .dataframe tbody tr th {\n",
       "        vertical-align: top;\n",
       "    }\n",
       "\n",
       "    .dataframe thead th {\n",
       "        text-align: right;\n",
       "    }\n",
       "</style>\n",
       "<table border=\"1\" class=\"dataframe\">\n",
       "  <thead>\n",
       "    <tr style=\"text-align: right;\">\n",
       "      <th></th>\n",
       "      <th>n_samples</th>\n",
       "      <th>column_compressed</th>\n",
       "      <th>rb_brwt</th>\n",
       "      <th>multi_brwt</th>\n",
       "      <th>rd_optimized_100</th>\n",
       "      <th>rd_optimized_100_row_sparse</th>\n",
       "      <th>rd_optimized_100_multi_brwt</th>\n",
       "      <th>assignment_vector</th>\n",
       "      <th>mst</th>\n",
       "    </tr>\n",
       "  </thead>\n",
       "  <tbody>\n",
       "    <tr>\n",
       "      <th>0</th>\n",
       "      <td>1570</td>\n",
       "      <td>NaN</td>\n",
       "      <td>560196973</td>\n",
       "      <td>NaN</td>\n",
       "      <td>NaN</td>\n",
       "      <td>61032175</td>\n",
       "      <td>25168698</td>\n",
       "      <td>559366427</td>\n",
       "      <td>169874</td>\n",
       "    </tr>\n",
       "    <tr>\n",
       "      <th>1</th>\n",
       "      <td>3140</td>\n",
       "      <td>NaN</td>\n",
       "      <td>1755690667</td>\n",
       "      <td>NaN</td>\n",
       "      <td>NaN</td>\n",
       "      <td>152798391</td>\n",
       "      <td>68006986</td>\n",
       "      <td>1753863675</td>\n",
       "      <td>562346</td>\n",
       "    </tr>\n",
       "    <tr>\n",
       "      <th>2</th>\n",
       "      <td>4710</td>\n",
       "      <td>NaN</td>\n",
       "      <td>2784213801</td>\n",
       "      <td>NaN</td>\n",
       "      <td>NaN</td>\n",
       "      <td>234710338</td>\n",
       "      <td>108632899</td>\n",
       "      <td>2781310035</td>\n",
       "      <td>1042594</td>\n",
       "    </tr>\n",
       "    <tr>\n",
       "      <th>3</th>\n",
       "      <td>6280</td>\n",
       "      <td>NaN</td>\n",
       "      <td>4634137675</td>\n",
       "      <td>NaN</td>\n",
       "      <td>NaN</td>\n",
       "      <td>380721810</td>\n",
       "      <td>174980905</td>\n",
       "      <td>4629853907</td>\n",
       "      <td>1957194</td>\n",
       "    </tr>\n",
       "    <tr>\n",
       "      <th>4</th>\n",
       "      <td>7850</td>\n",
       "      <td>NaN</td>\n",
       "      <td>6287989451</td>\n",
       "      <td>NaN</td>\n",
       "      <td>NaN</td>\n",
       "      <td>527489172</td>\n",
       "      <td>246932786</td>\n",
       "      <td>6282245131</td>\n",
       "      <td>2927506</td>\n",
       "    </tr>\n",
       "    <tr>\n",
       "      <th>5</th>\n",
       "      <td>9420</td>\n",
       "      <td>NaN</td>\n",
       "      <td>8020678333</td>\n",
       "      <td>NaN</td>\n",
       "      <td>NaN</td>\n",
       "      <td>666682297</td>\n",
       "      <td>312742338</td>\n",
       "      <td>8013484075</td>\n",
       "      <td>4164074</td>\n",
       "    </tr>\n",
       "    <tr>\n",
       "      <th>6</th>\n",
       "      <td>10990</td>\n",
       "      <td>NaN</td>\n",
       "      <td>9622792609</td>\n",
       "      <td>NaN</td>\n",
       "      <td>NaN</td>\n",
       "      <td>790031320</td>\n",
       "      <td>371743827</td>\n",
       "      <td>9613881579</td>\n",
       "      <td>5416650</td>\n",
       "    </tr>\n",
       "    <tr>\n",
       "      <th>7</th>\n",
       "      <td>12561</td>\n",
       "      <td>NaN</td>\n",
       "      <td>11420342898</td>\n",
       "      <td>NaN</td>\n",
       "      <td>NaN</td>\n",
       "      <td>928463816</td>\n",
       "      <td>430031423</td>\n",
       "      <td>11409517403</td>\n",
       "      <td>6989842</td>\n",
       "    </tr>\n",
       "  </tbody>\n",
       "</table>\n",
       "</div>"
      ],
      "text/plain": [
       "   n_samples  column_compressed      rb_brwt  multi_brwt  rd_optimized_100  \\\n",
       "0       1570                NaN    560196973         NaN               NaN   \n",
       "1       3140                NaN   1755690667         NaN               NaN   \n",
       "2       4710                NaN   2784213801         NaN               NaN   \n",
       "3       6280                NaN   4634137675         NaN               NaN   \n",
       "4       7850                NaN   6287989451         NaN               NaN   \n",
       "5       9420                NaN   8020678333         NaN               NaN   \n",
       "6      10990                NaN   9622792609         NaN               NaN   \n",
       "7      12561                NaN  11420342898         NaN               NaN   \n",
       "\n",
       "   rd_optimized_100_row_sparse  rd_optimized_100_multi_brwt  \\\n",
       "0                     61032175                     25168698   \n",
       "1                    152798391                     68006986   \n",
       "2                    234710338                    108632899   \n",
       "3                    380721810                    174980905   \n",
       "4                    527489172                    246932786   \n",
       "5                    666682297                    312742338   \n",
       "6                    790031320                    371743827   \n",
       "7                    928463816                    430031423   \n",
       "\n",
       "   assignment_vector      mst  \n",
       "0          559366427   169874  \n",
       "1         1753863675   562346  \n",
       "2         2781310035  1042594  \n",
       "3         4629853907  1957194  \n",
       "4         6282245131  2927506  \n",
       "5         8013484075  4164074  \n",
       "6         9613881579  5416650  \n",
       "7        11409517403  6989842  "
      ]
     },
     "execution_count": 878,
     "metadata": {},
     "output_type": "execute_result"
    }
   ],
   "source": [
    "results = pd.DataFrame(columns=['n_samples', 'column_compressed', 'rb_brwt', 'multi_brwt',\n",
    "                                #'rd_optimized_10', 'rd_optimized_20', 'rd_optimized_40',\n",
    "                                'rd_optimized_100',\n",
    "                                'rd_optimized_100_row_sparse',\n",
    "                                'rd_optimized_100_multi_brwt',\n",
    "                                'assignment_vector',\n",
    "                                'mst'],\n",
    "                       data=zip(n_samples, columns, rb_brwt, multi_brwt,\n",
    "                                #rd_optimized_10, rd_optimized_20, rd_optimized_40,\n",
    "                                rd_optimized_100,\n",
    "                                rd_optimized_100_row_sparse,\n",
    "                                rd_optimized_100_multi_brwt,\n",
    "                                rainbow_assignment_vector_size,\n",
    "                                mst))\n",
    "results"
   ]
  },
  {
   "cell_type": "code",
   "execution_count": 879,
   "metadata": {
    "ExecuteTime": {
     "end_time": "2020-11-13T12:06:43.896743Z",
     "start_time": "2020-11-13T12:06:43.203332Z"
    },
    "scrolled": true
   },
   "outputs": [
    {
     "data": {
      "image/png": "[encoded data removed]",
      "text/plain": [
       "<Figure size 376.596x232.754 with 1 Axes>"
      ]
     },
     "metadata": {
      "needs_background": "light"
     },
     "output_type": "display_data"
    }
   ],
   "source": [
    "width = 3.487 * 1.5\n",
    "height = width / 1.618\n",
    "\n",
    "fig, axes = plt.subplots(1, 1, figsize=(width, height))\n",
    "#ax.set_title('RefSeq assembly graph')\n",
    "\n",
    "# results.sort_values('num_kmers', inplace=True)\n",
    "\n",
    "# colors = ['c', 'b', 'g', 'r']\n",
    "\n",
    "ax = axes\n",
    "\n",
    "# lines = ax.plot(results.n_samples, results.rb_brwt / 10**9,\n",
    "#                 marker='o', ms=4, label='Rainbow-BRWT', linestyle='-.')\n",
    "\n",
    "f = ~(results.assignment_vector + results.mst).isna()\n",
    "lines = ax.plot(results.n_samples[f], (results.assignment_vector + results.mst)[f] / 10**9,\n",
    "                marker='o', ms=4, label='Rainbow-MST')\n",
    "\n",
    "lines = ax.plot(results.n_samples, results.assignment_vector / 10**9,\n",
    "                marker='o', ms=4, label='Rainbow-MST (mapping only)', linestyle='-.')\n",
    "\n",
    "lines = ax.plot(results.n_samples, results.multi_brwt / 10**9,\n",
    "                marker='o', ms=4, label='MultiBRWT')\n",
    "\n",
    "# ax.plot(results.n_samples, results.column_compressed / 10**9,\n",
    "#         marker='o', ms=4, label='ColumnCompressed', linestyle=':')\n",
    "\n",
    "# ax.plot(results.n_samples, results.rd_optimized_100 / 10**9,\n",
    "#         marker='o', ms=4, label='RowDiff(100)-ColumnCompressed', linestyle=':')\n",
    "\n",
    "ax.plot(results.n_samples, results.rd_optimized_100_row_sparse / 10**9,\n",
    "        marker='o', ms=4, label='RowDiff-RowSparse')\n",
    "\n",
    "ax.plot(results.n_samples, results.rd_optimized_100_multi_brwt / 10**9,\n",
    "        marker='o', ms=4, label='RowDiff-MultiBRWT')\n",
    "\n",
    "# ax.plot(results.n_samples,\n",
    "#         (results.graph + results.anno_column) / 10**9,\n",
    "#         marker='o', ms=4, label='RowDiff (Graph + Column)', color=lines[0].get_color())\n",
    "\n",
    "#ax.set_title('RefSeq Fungi, k=31')\n",
    "ax.set_xlabel('Number of taxonomy IDs')\n",
    "ax.set_ylabel('Size, GB')\n",
    "#     ax.set_xlim([-1e9, 25e9])\n",
    "#ax.set_xticks(np.array(k_array))\n",
    "ax.grid(True)\n",
    "#     ax.legend(loc='best')\n",
    "\n",
    "legend = ax.legend(loc=\"best\", fontsize=9)\n",
    "#legend.get_frame().set_facecolor('none')\n",
    "# plt.ylim([-5, 110])\n",
    "# axes[1].set_ylim([-1e-1, 75])\n",
    "#plt.xscale('symlog')\n",
    "#plt.yscale('symlog')\n",
    "\n",
    "plt.tight_layout()\n",
    "plt.savefig('refseq_fungi_31_size.pdf', format='pdf', bbox_inches='tight')\n",
    "plt.show()"
   ]
  },
  {
   "cell_type": "code",
   "execution_count": 880,
   "metadata": {
    "ExecuteTime": {
     "end_time": "2020-11-13T12:06:45.519870Z",
     "start_time": "2020-11-13T12:06:45.490516Z"
    }
   },
   "outputs": [
    {
     "data": {
      "text/plain": [
       "26.54807680182013"
      ]
     },
     "execution_count": 880,
     "metadata": {},
     "output_type": "execute_result"
    }
   ],
   "source": [
    "(results.assignment_vector + results.mst).iloc[-1] / results.rd_optimized_100_multi_brwt.iloc[-1]"
   ]
  },
  {
   "cell_type": "markdown",
   "metadata": {},
   "source": [
    "## Construction time"
   ]
  },
  {
   "cell_type": "code",
   "execution_count": 881,
   "metadata": {
    "ExecuteTime": {
     "end_time": "2020-11-13T12:06:46.817806Z",
     "start_time": "2020-11-13T12:06:46.788795Z"
    }
   },
   "outputs": [],
   "source": [
    "import re\n",
    "\n",
    "def parse_wall_time_from_logs(log_file):\n",
    "    try:\n",
    "        lines = !grep \"time (h:mm:ss or m:ss):\" $log_file\n",
    "        lines_exit = !grep \"Exit status:\" $log_file\n",
    "        assert(len(lines) == len(lines_exit))\n",
    "\n",
    "        query_time = 0\n",
    "        for line, line_exit in zip(lines, lines_exit):\n",
    "            if int(re.search('Exit status: ([0-9]*)', line_exit).group(1)) != 0:\n",
    "                continue\n",
    "\n",
    "            time_str = re.search('time \\(h:mm:ss or m:ss\\): ([0-9:\\.]*)', line).group(1)\n",
    "            for i, x in enumerate(time_str.split(':')[::-1]):\n",
    "                query_time += float(x) * 60**i\n",
    "\n",
    "        return query_time\n",
    "\n",
    "    except:\n",
    "         return np.nan"
   ]
  },
  {
   "cell_type": "markdown",
   "metadata": {},
   "source": [
    "### RNA-Seq (k=23)"
   ]
  },
  {
   "cell_type": "code",
   "execution_count": 885,
   "metadata": {
    "ExecuteTime": {
     "end_time": "2020-11-14T10:30:59.792697Z",
     "start_time": "2020-11-14T10:30:50.720476Z"
    }
   },
   "outputs": [],
   "source": [
    "DIR = '/cluster/home/mikhaika/metagenome/data/mantis/subsets/mtg/'\n",
    "\n",
    "n_samples = []\n",
    "\n",
    "rd_optimized_10 = []\n",
    "rd_optimized_10_opt = []\n",
    "rd_optimized_100 = []\n",
    "rd_optimized_100_opt = []\n",
    "rd_optimized_100_multi_brwt = []\n",
    "rd_optimized_100_multi_brwt_relax = []\n",
    "\n",
    "for i in range(1, 11):\n",
    "    num_cols = !cat {DIR}../{i}k.txt | wc -l\n",
    "    n_samples.append(int(num_cols[0]))\n",
    "\n",
    "#     rd_optimized_10.append(parse_wall_time_from_logs(f'{DIR}logs/graph_primary_subset_{i}k_rd_10.log'))\n",
    "#     rd_optimized_10_opt.append(parse_wall_time_from_logs(f'{DIR}logs/graph_primary_subset_{i}k_rd_10_opt.log'))\n",
    "    rd_optimized_100.append(parse_wall_time_from_logs(f'{DIR}logs/graph_primary_subset_{i}k_rd_100.log'))\n",
    "    rd_optimized_100_opt.append(parse_wall_time_from_logs(f'{DIR}logs/graph_primary_subset_{i}k_rd_100_opt.log'))\n",
    "    rd_optimized_100_multi_brwt.append(parse_wall_time_from_logs(f'{DIR}logs/graph_primary_subset_{i}k_rd_100_to_multi_brwt.log'))\n",
    "    rd_optimized_100_multi_brwt_relax.append(parse_wall_time_from_logs(f'{DIR}logs/graph_primary_subset_{i}k_rd_100_to_multi_brwt_relax.log'))"
   ]
  },
  {
   "cell_type": "code",
   "execution_count": 886,
   "metadata": {
    "ExecuteTime": {
     "end_time": "2020-11-14T10:30:59.830697Z",
     "start_time": "2020-11-14T10:30:59.798162Z"
    },
    "scrolled": true
   },
   "outputs": [
    {
     "data": {
      "text/html": [
       "<div>\n",
       "<style scoped>\n",
       "    .dataframe tbody tr th:only-of-type {\n",
       "        vertical-align: middle;\n",
       "    }\n",
       "\n",
       "    .dataframe tbody tr th {\n",
       "        vertical-align: top;\n",
       "    }\n",
       "\n",
       "    .dataframe thead th {\n",
       "        text-align: right;\n",
       "    }\n",
       "</style>\n",
       "<table border=\"1\" class=\"dataframe\">\n",
       "  <thead>\n",
       "    <tr style=\"text-align: right;\">\n",
       "      <th></th>\n",
       "      <th>n_samples</th>\n",
       "      <th>rd_optimized_100</th>\n",
       "      <th>rd_optimized_100_opt</th>\n",
       "      <th>rd_optimized_100_multi_brwt</th>\n",
       "      <th>rd_optimized_100_multi_brwt_relax</th>\n",
       "    </tr>\n",
       "  </thead>\n",
       "  <tbody>\n",
       "    <tr>\n",
       "      <th>0</th>\n",
       "      <td>1000</td>\n",
       "      <td>1310.84</td>\n",
       "      <td>587.56</td>\n",
       "      <td>172.84</td>\n",
       "      <td>139.36</td>\n",
       "    </tr>\n",
       "    <tr>\n",
       "      <th>1</th>\n",
       "      <td>2000</td>\n",
       "      <td>2025.55</td>\n",
       "      <td>920.40</td>\n",
       "      <td>348.73</td>\n",
       "      <td>303.92</td>\n",
       "    </tr>\n",
       "    <tr>\n",
       "      <th>2</th>\n",
       "      <td>3000</td>\n",
       "      <td>3263.52</td>\n",
       "      <td>1184.48</td>\n",
       "      <td>557.43</td>\n",
       "      <td>497.81</td>\n",
       "    </tr>\n",
       "    <tr>\n",
       "      <th>3</th>\n",
       "      <td>4000</td>\n",
       "      <td>3858.00</td>\n",
       "      <td>1879.01</td>\n",
       "      <td>816.82</td>\n",
       "      <td>674.54</td>\n",
       "    </tr>\n",
       "    <tr>\n",
       "      <th>4</th>\n",
       "      <td>5000</td>\n",
       "      <td>5074.00</td>\n",
       "      <td>2380.91</td>\n",
       "      <td>1087.37</td>\n",
       "      <td>903.18</td>\n",
       "    </tr>\n",
       "    <tr>\n",
       "      <th>5</th>\n",
       "      <td>6000</td>\n",
       "      <td>5133.00</td>\n",
       "      <td>3491.89</td>\n",
       "      <td>1300.09</td>\n",
       "      <td>1032.85</td>\n",
       "    </tr>\n",
       "    <tr>\n",
       "      <th>6</th>\n",
       "      <td>7000</td>\n",
       "      <td>5929.00</td>\n",
       "      <td>3336.49</td>\n",
       "      <td>1569.33</td>\n",
       "      <td>1328.58</td>\n",
       "    </tr>\n",
       "    <tr>\n",
       "      <th>7</th>\n",
       "      <td>8000</td>\n",
       "      <td>7012.00</td>\n",
       "      <td>3032.22</td>\n",
       "      <td>1938.73</td>\n",
       "      <td>1461.54</td>\n",
       "    </tr>\n",
       "    <tr>\n",
       "      <th>8</th>\n",
       "      <td>9000</td>\n",
       "      <td>8101.00</td>\n",
       "      <td>4425.00</td>\n",
       "      <td>2061.31</td>\n",
       "      <td>1663.68</td>\n",
       "    </tr>\n",
       "    <tr>\n",
       "      <th>9</th>\n",
       "      <td>9998</td>\n",
       "      <td>9306.00</td>\n",
       "      <td>5044.00</td>\n",
       "      <td>2504.96</td>\n",
       "      <td>1908.10</td>\n",
       "    </tr>\n",
       "  </tbody>\n",
       "</table>\n",
       "</div>"
      ],
      "text/plain": [
       "   n_samples  rd_optimized_100  rd_optimized_100_opt  \\\n",
       "0       1000           1310.84                587.56   \n",
       "1       2000           2025.55                920.40   \n",
       "2       3000           3263.52               1184.48   \n",
       "3       4000           3858.00               1879.01   \n",
       "4       5000           5074.00               2380.91   \n",
       "5       6000           5133.00               3491.89   \n",
       "6       7000           5929.00               3336.49   \n",
       "7       8000           7012.00               3032.22   \n",
       "8       9000           8101.00               4425.00   \n",
       "9       9998           9306.00               5044.00   \n",
       "\n",
       "   rd_optimized_100_multi_brwt  rd_optimized_100_multi_brwt_relax  \n",
       "0                       172.84                             139.36  \n",
       "1                       348.73                             303.92  \n",
       "2                       557.43                             497.81  \n",
       "3                       816.82                             674.54  \n",
       "4                      1087.37                             903.18  \n",
       "5                      1300.09                            1032.85  \n",
       "6                      1569.33                            1328.58  \n",
       "7                      1938.73                            1461.54  \n",
       "8                      2061.31                            1663.68  \n",
       "9                      2504.96                            1908.10  "
      ]
     },
     "execution_count": 886,
     "metadata": {},
     "output_type": "execute_result"
    }
   ],
   "source": [
    "results = pd.DataFrame(columns=['n_samples',\n",
    "                                'rd_optimized_100', 'rd_optimized_100_opt',\n",
    "                                'rd_optimized_100_multi_brwt', 'rd_optimized_100_multi_brwt_relax'],\n",
    "                       data=zip(n_samples,\n",
    "                                rd_optimized_100, rd_optimized_100_opt,\n",
    "                                rd_optimized_100_multi_brwt, rd_optimized_100_multi_brwt_relax))\n",
    "results"
   ]
  },
  {
   "cell_type": "code",
   "execution_count": 887,
   "metadata": {
    "ExecuteTime": {
     "end_time": "2020-11-14T10:31:07.858734Z",
     "start_time": "2020-11-14T10:31:07.135116Z"
    }
   },
   "outputs": [
    {
     "data": {
      "image/png": "[encoded data removed]",
      "text/plain": [
       "<Figure size 376.596x232.754 with 1 Axes>"
      ]
     },
     "metadata": {
      "needs_background": "light"
     },
     "output_type": "display_data"
    }
   ],
   "source": [
    "width = 3.487 * 1.5\n",
    "height = width / 1.618\n",
    "\n",
    "fig, axes = plt.subplots(1, 1, figsize=(width, height))\n",
    "#ax.set_title('RefSeq assembly graph')\n",
    "\n",
    "# results.sort_values('num_kmers', inplace=True)\n",
    "\n",
    "# colors = ['c', 'b', 'g', 'r']\n",
    "\n",
    "ax = axes\n",
    "\n",
    "# lines = ax.plot(results.n_samples, results.rb_brwt / 10**9,\n",
    "#                 marker='o', ms=4, label='Rainbow-BRWT')\n",
    "\n",
    "# ax.plot(results.n_samples, results.column_compressed / 10**9,\n",
    "#         marker='o', ms=4, label='ColumnCompressed')\n",
    "\n",
    "# ax.plot(results.n_samples, (results.rd_optimized_10) / 60,\n",
    "#         marker='o', ms=4, label='RowDiff(10)-ColumnCompressed, unopt')\n",
    "\n",
    "mantis_nsamples = [1000, 2000, 3000, 4000, 5000, 7000, 8000, 9000, 10000]\n",
    "mantis_time = [(26*60)+17.13,\n",
    "                ((1*60)+9)*60 + 33,\n",
    "                ((1*60)+7)*60 + 31,\n",
    "                ((2*60)+19)*60 + 48,\n",
    "                ((2*60)+21)*60 + 17,\n",
    "                ((3*60)+47)*60 + 11,\n",
    "                ((8*60)+19)*60 + 52,\n",
    "                ((9*60)+35)*60 + 46,\n",
    "                ((9*60)+15)*60 + 15]\n",
    "\n",
    "paper_mantis_nsamples = [200, 500, 1000, 2000, 5000, 10000]\n",
    "paper_mantis_time = [342,\n",
    "              12 * 60 + 15,\n",
    "              25 * 50 + 3,\n",
    "              51 * 60 + 58,\n",
    "              (3*60 + 52) * 60 + 34,\n",
    "              (10*60 + 17) * 60 + 42]\n",
    "\n",
    "lines = ax.plot(paper_mantis_nsamples, np.array(paper_mantis_time) / 60,\n",
    "        marker='o', ms=4, label='Rainbow-MST (MST only) reported', linestyle=':')\n",
    "\n",
    "ax.plot(mantis_nsamples, np.array(mantis_time) / 60,\n",
    "        marker='o', ms=4, label='Rainbow-MST (MST only)', color=lines[0].get_color())\n",
    "\n",
    "# ax.plot(results.n_samples, (results.rd_optimized_10 + results.rd_optimized_10_opt) / 60,\n",
    "#         marker='o', ms=4, label='RowDiff(10)-ColumnCompressed')\n",
    "\n",
    "# ax.plot(results.n_samples, (results.rd_optimized_100) / 60,\n",
    "#         marker='o', ms=4, label='RowDiff(100)-ColumnCompressed, unopt')\n",
    "\n",
    "ax.plot([], [])\n",
    "ax.plot([], [])\n",
    "ax.plot([], [])\n",
    "\n",
    "ax.plot(results.n_samples, (results.rd_optimized_100\n",
    "                            + results.rd_optimized_100_opt\n",
    "                            + results.rd_optimized_100_multi_brwt\n",
    "                            + results.rd_optimized_100_multi_brwt_relax) / 60,\n",
    "        marker='o', ms=4, label='RowDiff-MultiBRWT')\n",
    "\n",
    "\n",
    "# ax.plot(results.n_samples,\n",
    "#         (results.graph + results.anno_column) / 10**9,\n",
    "#         marker='o', ms=4, label='RowDiff (Graph + Column)', color=lines[0].get_color())\n",
    "\n",
    "#ax.set_title('10k RNA-Seq samples: construction on 15 cores')\n",
    "ax.set_xlabel('Annotation columns')\n",
    "ax.set_ylabel('Construction time, min')\n",
    "#     ax.set_xlim([-1e9, 25e9])\n",
    "#ax.set_xticks(np.array(k_array))\n",
    "ax.grid(True)\n",
    "#     ax.legend(loc='best')\n",
    "\n",
    "legend = ax.legend(loc=\"best\", fontsize=10)\n",
    "#legend.get_frame().set_facecolor('none')\n",
    "# plt.ylim([-5, 110])\n",
    "# axes[1].set_ylim([-1e-1, 75])\n",
    "#plt.xscale('symlog')\n",
    "#plt.yscale('symlog')\n",
    "\n",
    "plt.tight_layout()\n",
    "plt.savefig('rnaseq_23_construction.pdf', format='pdf', bbox_inches='tight')\n",
    "plt.show()"
   ]
  },
  {
   "cell_type": "markdown",
   "metadata": {},
   "source": [
    "### RNA-Seq (k=31, unitig cleaning)"
   ]
  },
  {
   "cell_type": "code",
   "execution_count": 688,
   "metadata": {
    "ExecuteTime": {
     "end_time": "2020-11-06T20:03:07.590923Z",
     "start_time": "2020-11-06T20:03:01.040150Z"
    }
   },
   "outputs": [],
   "source": [
    "DIR = '/cluster/home/mikhaika/metagenome/data/mantis/subsets/clean_rnaseq/mtg/'\n",
    "\n",
    "n_samples = []\n",
    "\n",
    "rd_optimized_10 = []\n",
    "rd_optimized_10_opt = []\n",
    "rd_optimized_100 = []\n",
    "rd_optimized_100_opt = []\n",
    "rd_optimized_100_multi_brwt = []\n",
    "rd_optimized_100_multi_brwt_relax = []\n",
    "\n",
    "for i in range(1, 11):\n",
    "    num_cols = !cat {DIR}../clean_{i}k.txt | wc -l\n",
    "    n_samples.append(int(num_cols[0]))\n",
    "\n",
    "#     rd_optimized_10.append(parse_wall_time_from_logs(f'{DIR}logs/graph_primary_subset_{i}k_rd_10.log'))\n",
    "#     rd_optimized_10_opt.append(parse_wall_time_from_logs(f'{DIR}logs/graph_primary_subset_{i}k_rd_10_opt.log'))\n",
    "    rd_optimized_100.append(parse_wall_time_from_logs(f'{DIR}logs/clean_primary_subset_{i}k_rd_100.log'))\n",
    "    rd_optimized_100_opt.append(parse_wall_time_from_logs(f'{DIR}logs/clean_primary_subset_{i}k_rd_100_opt.log'))\n",
    "    rd_optimized_100_multi_brwt.append(parse_wall_time_from_logs(f'{DIR}logs/clean_primary_subset_{i}k_rd_100_multi_brwt.log'))\n",
    "    rd_optimized_100_multi_brwt_relax.append(parse_wall_time_from_logs(f'{DIR}logs/clean_primary_subset_{i}k_rd_100_multi_brwt_relax.log'))"
   ]
  },
  {
   "cell_type": "code",
   "execution_count": 689,
   "metadata": {
    "ExecuteTime": {
     "end_time": "2020-11-06T20:03:07.620650Z",
     "start_time": "2020-11-06T20:03:07.593991Z"
    },
    "scrolled": true
   },
   "outputs": [
    {
     "data": {
      "text/html": [
       "<div>\n",
       "<style scoped>\n",
       "    .dataframe tbody tr th:only-of-type {\n",
       "        vertical-align: middle;\n",
       "    }\n",
       "\n",
       "    .dataframe tbody tr th {\n",
       "        vertical-align: top;\n",
       "    }\n",
       "\n",
       "    .dataframe thead th {\n",
       "        text-align: right;\n",
       "    }\n",
       "</style>\n",
       "<table border=\"1\" class=\"dataframe\">\n",
       "  <thead>\n",
       "    <tr style=\"text-align: right;\">\n",
       "      <th></th>\n",
       "      <th>n_samples</th>\n",
       "      <th>rd_optimized_100</th>\n",
       "      <th>rd_optimized_100_opt</th>\n",
       "      <th>rd_multi_brwt</th>\n",
       "      <th>rd_multi_brwt_relax</th>\n",
       "    </tr>\n",
       "  </thead>\n",
       "  <tbody>\n",
       "    <tr>\n",
       "      <th>0</th>\n",
       "      <td>1000</td>\n",
       "      <td>640.32</td>\n",
       "      <td>326.20</td>\n",
       "      <td>83.61</td>\n",
       "      <td>85.77</td>\n",
       "    </tr>\n",
       "    <tr>\n",
       "      <th>1</th>\n",
       "      <td>2000</td>\n",
       "      <td>1332.22</td>\n",
       "      <td>621.66</td>\n",
       "      <td>177.41</td>\n",
       "      <td>194.47</td>\n",
       "    </tr>\n",
       "    <tr>\n",
       "      <th>2</th>\n",
       "      <td>3000</td>\n",
       "      <td>1639.30</td>\n",
       "      <td>811.28</td>\n",
       "      <td>281.14</td>\n",
       "      <td>319.64</td>\n",
       "    </tr>\n",
       "    <tr>\n",
       "      <th>3</th>\n",
       "      <td>4000</td>\n",
       "      <td>2334.66</td>\n",
       "      <td>1029.08</td>\n",
       "      <td>414.19</td>\n",
       "      <td>464.51</td>\n",
       "    </tr>\n",
       "    <tr>\n",
       "      <th>4</th>\n",
       "      <td>5000</td>\n",
       "      <td>2904.19</td>\n",
       "      <td>1280.12</td>\n",
       "      <td>550.45</td>\n",
       "      <td>586.43</td>\n",
       "    </tr>\n",
       "    <tr>\n",
       "      <th>5</th>\n",
       "      <td>6000</td>\n",
       "      <td>3394.73</td>\n",
       "      <td>1590.16</td>\n",
       "      <td>682.78</td>\n",
       "      <td>723.60</td>\n",
       "    </tr>\n",
       "    <tr>\n",
       "      <th>6</th>\n",
       "      <td>7000</td>\n",
       "      <td>3703.00</td>\n",
       "      <td>1820.60</td>\n",
       "      <td>798.27</td>\n",
       "      <td>870.75</td>\n",
       "    </tr>\n",
       "    <tr>\n",
       "      <th>7</th>\n",
       "      <td>8000</td>\n",
       "      <td>4217.00</td>\n",
       "      <td>2114.40</td>\n",
       "      <td>1088.18</td>\n",
       "      <td>1017.22</td>\n",
       "    </tr>\n",
       "    <tr>\n",
       "      <th>8</th>\n",
       "      <td>9000</td>\n",
       "      <td>4866.00</td>\n",
       "      <td>2475.00</td>\n",
       "      <td>1247.44</td>\n",
       "      <td>1149.31</td>\n",
       "    </tr>\n",
       "    <tr>\n",
       "      <th>9</th>\n",
       "      <td>9937</td>\n",
       "      <td>5136.00</td>\n",
       "      <td>2760.29</td>\n",
       "      <td>1311.76</td>\n",
       "      <td>1293.35</td>\n",
       "    </tr>\n",
       "  </tbody>\n",
       "</table>\n",
       "</div>"
      ],
      "text/plain": [
       "   n_samples  rd_optimized_100  rd_optimized_100_opt  rd_multi_brwt  \\\n",
       "0       1000            640.32                326.20          83.61   \n",
       "1       2000           1332.22                621.66         177.41   \n",
       "2       3000           1639.30                811.28         281.14   \n",
       "3       4000           2334.66               1029.08         414.19   \n",
       "4       5000           2904.19               1280.12         550.45   \n",
       "5       6000           3394.73               1590.16         682.78   \n",
       "6       7000           3703.00               1820.60         798.27   \n",
       "7       8000           4217.00               2114.40        1088.18   \n",
       "8       9000           4866.00               2475.00        1247.44   \n",
       "9       9937           5136.00               2760.29        1311.76   \n",
       "\n",
       "   rd_multi_brwt_relax  \n",
       "0                85.77  \n",
       "1               194.47  \n",
       "2               319.64  \n",
       "3               464.51  \n",
       "4               586.43  \n",
       "5               723.60  \n",
       "6               870.75  \n",
       "7              1017.22  \n",
       "8              1149.31  \n",
       "9              1293.35  "
      ]
     },
     "execution_count": 689,
     "metadata": {},
     "output_type": "execute_result"
    }
   ],
   "source": [
    "results = pd.DataFrame(columns=['n_samples',\n",
    "                                'rd_optimized_100', 'rd_optimized_100_opt',\n",
    "                                'rd_multi_brwt', 'rd_multi_brwt_relax'],\n",
    "                       data=zip(n_samples,\n",
    "                                rd_optimized_100, rd_optimized_100_opt,\n",
    "                                rd_optimized_100_multi_brwt,\n",
    "                                rd_optimized_100_multi_brwt_relax))\n",
    "results"
   ]
  },
  {
   "cell_type": "code",
   "execution_count": 691,
   "metadata": {
    "ExecuteTime": {
     "end_time": "2020-11-06T20:03:44.482169Z",
     "start_time": "2020-11-06T20:03:43.975643Z"
    }
   },
   "outputs": [
    {
     "data": {
      "image/png": "[encoded data removed]",
      "text/plain": [
       "<Figure size 376.596x232.754 with 1 Axes>"
      ]
     },
     "metadata": {
      "needs_background": "light"
     },
     "output_type": "display_data"
    }
   ],
   "source": [
    "width = 3.487 * 1.5\n",
    "height = width / 1.618\n",
    "\n",
    "fig, axes = plt.subplots(1, 1, figsize=(width, height))\n",
    "#ax.set_title('RefSeq assembly graph')\n",
    "\n",
    "# results.sort_values('num_kmers', inplace=True)\n",
    "\n",
    "# colors = ['c', 'b', 'g', 'r']\n",
    "\n",
    "ax = axes\n",
    "\n",
    "# lines = ax.plot(results.n_samples, results.rb_brwt / 10**9,\n",
    "#                 marker='o', ms=4, label='Rainbow-BRWT')\n",
    "\n",
    "# ax.plot(results.n_samples, results.column_compressed / 10**9,\n",
    "#         marker='o', ms=4, label='ColumnCompressed')\n",
    "\n",
    "# ax.plot(results.n_samples, (results.rd_optimized_10) / 60,\n",
    "#         marker='o', ms=4, label='RowDiff(10)-ColumnCompressed, unopt')\n",
    "\n",
    "mantis_nsamples = [1000, 2000, 3000, 4000]\n",
    "mantis_time = [24*60 + 35.96,\n",
    "              38*60 + 11.94,\n",
    "              54*60 + 41.24,\n",
    "              2*60*60 + 20 * 60 + 29]\n",
    "\n",
    "ax.plot(mantis_nsamples, np.array(mantis_time) / 60,\n",
    "        marker='o', ms=4, label='Rainbow-MST (MST only)')\n",
    "\n",
    "# ax.plot(results.n_samples, (results.rd_optimized_10 + results.rd_optimized_10_opt) / 60,\n",
    "#         marker='o', ms=4, label='RowDiff(10)-ColumnCompressed')\n",
    "\n",
    "# ax.plot(results.n_samples, (results.rd_optimized_100) / 60,\n",
    "#         marker='o', ms=4, label='RowDiff(100)-ColumnCompressed, unopt')\n",
    "\n",
    "\n",
    "ax.plot([], [])\n",
    "ax.plot([], [])\n",
    "ax.plot([], [])\n",
    "\n",
    "ax.plot(results.n_samples, (results.rd_optimized_100\n",
    "                            + results.rd_optimized_100_opt\n",
    "                            + results.rd_multi_brwt\n",
    "                            + results.rd_multi_brwt_relax) / 60,\n",
    "        marker='o', ms=4, label='RowDiff-MultiBRWT')\n",
    "\n",
    "\n",
    "# ax.plot(results.n_samples,\n",
    "#         (results.graph + results.anno_column) / 10**9,\n",
    "#         marker='o', ms=4, label='RowDiff (Graph + Column)', color=lines[0].get_color())\n",
    "\n",
    "#ax.set_title('10k RNA-Seq: construction on 15 cores')\n",
    "ax.set_xlabel('Number of annotation columns')\n",
    "ax.set_ylabel('Time, min')\n",
    "#     ax.set_xlim([-1e9, 25e9])\n",
    "#ax.set_xticks(np.array(k_array))\n",
    "ax.grid(True)\n",
    "#     ax.legend(loc='best')\n",
    "\n",
    "legend = ax.legend(loc=\"best\", fontsize=10)\n",
    "#legend.get_frame().set_facecolor('none')\n",
    "# plt.ylim([-5, 110])\n",
    "# axes[1].set_ylim([-1e-1, 75])\n",
    "#plt.xscale('symlog')\n",
    "#plt.yscale('symlog')\n",
    "\n",
    "plt.tight_layout()\n",
    "plt.savefig('rnaseq_31_construction.pdf', format='pdf', bbox_inches='tight')\n",
    "plt.show()"
   ]
  },
  {
   "cell_type": "markdown",
   "metadata": {},
   "source": [
    "## Column reduction"
   ]
  },
  {
   "cell_type": "code",
   "execution_count": 888,
   "metadata": {
    "ExecuteTime": {
     "end_time": "2020-11-16T18:50:04.473282Z",
     "start_time": "2020-11-16T18:50:04.191880Z"
    }
   },
   "outputs": [],
   "source": [
    "def get_reductions(rd_path, cols_path):\n",
    "    for entry in os.scandir(cols_path):\n",
    "        extension = '.column.annodbg'\n",
    "        if entry.path.endswith(extension):\n",
    "            size = entry.stat(follow_symlinks=False).st_size\n",
    "            col = entry.path.split('/')[-1][:-len(extension)]\n",
    "            rd_size = os.path.getsize(f'{rd_path}/{col}.row_diff.annodbg')\n",
    "        yield rd_size, size"
   ]
  },
  {
   "cell_type": "code",
   "execution_count": 760,
   "metadata": {
    "ExecuteTime": {
     "end_time": "2020-11-06T22:04:17.406243Z",
     "start_time": "2020-11-06T22:04:01.362862Z"
    }
   },
   "outputs": [
    {
     "data": {
      "image/png": "[encoded data removed]",
      "text/plain": [
       "<Figure size 376.596x232.754 with 1 Axes>"
      ]
     },
     "metadata": {
      "needs_background": "light"
     },
     "output_type": "display_data"
    }
   ],
   "source": [
    "width = 3.487 * 1.5 * 1\n",
    "height = width / 1.618\n",
    "\n",
    "fig, axes = plt.subplots(1, 1, figsize=(width, height))\n",
    "\n",
    "R = np.array(list(get_reductions('/cluster/home/mikhaika/metagenome/data/mantis/subsets/clean_rnaseq/mtg/rd_100_10k',\n",
    "                                 '/cluster/home/mikhaika/metagenome/data/mantis/subsets/clean_rnaseq/mtg/cols_10k')))\n",
    "#plt.hist((R[:, 1] - R[:, 0]) / R[:, 1], bins=100, density=True, fc=(0, 0, 1, 0.5), label='RowDiff(100)')\n",
    "plt.hist((R[:, 1] - R[:, 0]) / R[:, 1], bins=100, density=True, weights=R[:, 1], label='RowDiff(100), weighted by Full') #, fc=(1, 0, 0, 0.5)\n",
    "\n",
    "#plt.title('10k RNA-Seq samples: column reduction factor')\n",
    "plt.xlabel('Reduction factor: (Original - RowDiff) / Original')\n",
    "#plt.legend()\n",
    "plt.grid()\n",
    "plt.savefig('rnaseq_31_reduction_hist.pdf', format='pdf', bbox_inches='tight')\n",
    "plt.show()"
   ]
  },
  {
   "cell_type": "code",
   "execution_count": 761,
   "metadata": {
    "ExecuteTime": {
     "end_time": "2020-11-06T22:04:33.775941Z",
     "start_time": "2020-11-06T22:04:17.408080Z"
    }
   },
   "outputs": [
    {
     "data": {
      "image/png": "[encoded data removed]",
      "text/plain": [
       "<Figure size 376.596x232.754 with 1 Axes>"
      ]
     },
     "metadata": {
      "needs_background": "light"
     },
     "output_type": "display_data"
    }
   ],
   "source": [
    "width = 3.487 * 1.5 * 1\n",
    "height = width / 1.618\n",
    "\n",
    "fig, axes = plt.subplots(1, 1, figsize=(width, height))\n",
    "\n",
    "R = np.array(list(get_reductions('/cluster/home/mikhaika/metagenome/data/mantis/subsets/refseq/mtg/rd_100_8',\n",
    "                                 '/cluster/home/mikhaika/metagenome/data/mantis/subsets/refseq/mtg/cols_8')))\n",
    "#plt.hist((R[:, 1] - R[:, 0]) / R[:, 1], bins=100, density=True, fc=(0, 0, 1, 0.5), label='RowDiff(100)')\n",
    "plt.hist((R[:, 1] - R[:, 0]) / R[:, 1], bins=100, density=True, weights=R[:, 1], label='RowDiff(100), weighted by Full') #, fc=(1, 0, 0, 0.5)\n",
    "\n",
    "#plt.title('RefSeq Fungi: column reduction factor')\n",
    "plt.xlabel('Reduction factor: (Original - RowDiff) / Original')\n",
    "#plt.legend()\n",
    "plt.grid()\n",
    "plt.savefig('refseq_fungi_31_reduction_hist.pdf', format='pdf', bbox_inches='tight')\n",
    "plt.show()"
   ]
  },
  {
   "cell_type": "code",
   "execution_count": null,
   "metadata": {},
   "outputs": [],
   "source": [
    "((R[:, 1] - R[:, 0]) / R[:, 1]).mean()"
   ]
  },
  {
   "cell_type": "code",
   "execution_count": 641,
   "metadata": {
    "ExecuteTime": {
     "end_time": "2020-11-06T19:37:25.952392Z",
     "start_time": "2020-11-06T19:37:25.927247Z"
    }
   },
   "outputs": [
    {
     "data": {
      "text/plain": [
       "42.26605298888925"
      ]
     },
     "execution_count": 641,
     "metadata": {},
     "output_type": "execute_result"
    }
   ],
   "source": [
    "R[:, 1].sum() / R[:, 0].sum()"
   ]
  },
  {
   "cell_type": "markdown",
   "metadata": {},
   "source": [
    "## Other tests"
   ]
  },
  {
   "cell_type": "code",
   "execution_count": 892,
   "metadata": {
    "ExecuteTime": {
     "end_time": "2020-11-16T18:52:07.789606Z",
     "start_time": "2020-11-16T18:52:06.830771Z"
    }
   },
   "outputs": [
    {
     "data": {
      "image/png": "[encoded data removed]",
      "text/plain": [
       "<Figure size 376.596x232.754 with 1 Axes>"
      ]
     },
     "metadata": {
      "needs_background": "light"
     },
     "output_type": "display_data"
    }
   ],
   "source": [
    "width = 3.487 * 1.5 * 1\n",
    "height = width / 1.618\n",
    "\n",
    "fig, axes = plt.subplots(1, 1, figsize=(width, height))\n",
    "\n",
    "reductions_10 = list(get_reductions('/cluster/home/mikhaika/metagenome/data/mantis/subsets/mtg/rd_100_10k',\n",
    "                                    '/cluster/home/mikhaika/metagenome/data/mantis/subsets/mtg/cols_10k'))\n",
    "R = np.array(reductions_10)\n",
    "plt.hist((R[:, 1] - R[:, 0]) / R[:, 1], bins=100, density=True, fc=(0, 0, 1, 0.5), label='RowDiff(10)')\n",
    "plt.hist((R[:, 1] - R[:, 0]) / R[:, 1], bins=100, density=True, fc=(1, 0, 0, 0.5), weights=R[:, 1], label='RowDiff(10), weighted by Full')\n",
    "\n",
    "plt.title('1k RNA-Seq samples: column reduction factor')\n",
    "plt.xlabel('Reduction factor: (Full - RowDiff) / Full')\n",
    "plt.legend()\n",
    "\n",
    "plt.show()"
   ]
  },
  {
   "cell_type": "markdown",
   "metadata": {},
   "source": [
    "### Before anchor optimization"
   ]
  },
  {
   "cell_type": "code",
   "execution_count": 87,
   "metadata": {
    "ExecuteTime": {
     "end_time": "2020-11-02T11:05:42.234091Z",
     "start_time": "2020-11-02T11:05:42.207552Z"
    }
   },
   "outputs": [],
   "source": [
    "def get_reductions_path(rd_path, cols_path):\n",
    "    for entry in os.scandir(rd_path):\n",
    "        extension = '.row_diff.annodbg'\n",
    "        if entry.path.endswith(extension):\n",
    "            rd_size = entry.stat(follow_symlinks=False).st_size\n",
    "            col = entry.path.split('/')[-1][:-len(extension)]\n",
    "            size = os.path.getsize(f'{cols_path}/{col}.column.annodbg')\n",
    "            yield rd_size, size, entry.path"
   ]
  },
  {
   "cell_type": "code",
   "execution_count": 88,
   "metadata": {
    "ExecuteTime": {
     "end_time": "2020-11-02T11:05:58.537570Z",
     "start_time": "2020-11-02T11:05:43.178393Z"
    }
   },
   "outputs": [],
   "source": [
    "df = pd.DataFrame(data=get_reductions_path('/cluster/home/mikhaika/metagenome/data/mantis/subsets/mtg/test_rd_100_10k',\n",
    "                                           '/cluster/home/mikhaika/metagenome/data/mantis/subsets/mtg/cols_10k'),\n",
    "                  columns=['reduced', 'original', 'file'])"
   ]
  },
  {
   "cell_type": "code",
   "execution_count": 89,
   "metadata": {
    "ExecuteTime": {
     "end_time": "2020-11-02T11:05:59.463257Z",
     "start_time": "2020-11-02T11:05:59.435702Z"
    }
   },
   "outputs": [],
   "source": [
    "d = df.iloc[((df['original'] - df['reduced']) / df['original']).argsort().values]"
   ]
  },
  {
   "cell_type": "code",
   "execution_count": 90,
   "metadata": {
    "ExecuteTime": {
     "end_time": "2020-11-02T11:06:00.538576Z",
     "start_time": "2020-11-02T11:06:00.505706Z"
    }
   },
   "outputs": [],
   "source": [
    "ds = d[d.original > 33]"
   ]
  },
  {
   "cell_type": "code",
   "execution_count": 91,
   "metadata": {
    "ExecuteTime": {
     "end_time": "2020-11-02T11:06:01.847866Z",
     "start_time": "2020-11-02T11:06:01.547580Z"
    }
   },
   "outputs": [
    {
     "data": {
      "image/png": "[encoded data removed]",
      "text/plain": [
       "<Figure size 432x288 with 1 Axes>"
      ]
     },
     "metadata": {
      "needs_background": "light"
     },
     "output_type": "display_data"
    }
   ],
   "source": [
    "plt.scatter(ds.original / 10**6, ((ds['original'] - ds['reduced']) / ds['original']).values, fc=(0, 0, 1, 0.1))\n",
    "plt.xlabel('Column size, MB')\n",
    "plt.ylabel('Reduction factor: (Full - RowDiff) / Full')\n",
    "plt.grid()\n",
    "plt.show()"
   ]
  },
  {
   "cell_type": "code",
   "execution_count": 92,
   "metadata": {
    "ExecuteTime": {
     "end_time": "2020-11-02T11:06:11.266603Z",
     "start_time": "2020-11-02T11:06:10.731106Z"
    }
   },
   "outputs": [
    {
     "data": {
      "image/png": "[encoded data removed]",
      "text/plain": [
       "<Figure size 432x288 with 1 Axes>"
      ]
     },
     "metadata": {
      "needs_background": "light"
     },
     "output_type": "display_data"
    }
   ],
   "source": [
    "plt.hist(((ds['original'] - ds['reduced']) / ds['original']).values, bins=100, cumulative=True, density=True, fc=(0, 0, 1, 0.5), label='RowDiff(10)')\n",
    "plt.hist(((ds['original'] - ds['reduced']) / ds['original']).values, bins=100, cumulative=True, density=True, fc=(1, 0, 0, 0.5), weights=ds['reduced'], label='RowDiff(10), weighted by size')\n",
    "\n",
    "plt.title('10k RNA-Seq samples: column reduction factor')\n",
    "plt.xlabel('Reduction factor: (Full - RowDiff) / Full')\n",
    "#plt.yticks([])\n",
    "plt.grid()\n",
    "plt.legend()\n",
    "\n",
    "plt.show()"
   ]
  },
  {
   "cell_type": "code",
   "execution_count": 93,
   "metadata": {
    "ExecuteTime": {
     "end_time": "2020-11-02T11:06:19.396243Z",
     "start_time": "2020-11-02T11:06:19.122256Z"
    }
   },
   "outputs": [
    {
     "data": {
      "text/plain": [
       "17.467293218"
      ]
     },
     "execution_count": 93,
     "metadata": {},
     "output_type": "execute_result"
    }
   ],
   "source": [
    "d[((d['original'] - d['reduced']) / d['original'] <= -0.2)].original.sum() / 10**9"
   ]
  },
  {
   "cell_type": "code",
   "execution_count": 248,
   "metadata": {
    "ExecuteTime": {
     "end_time": "2020-11-01T20:28:21.568003Z",
     "start_time": "2020-11-01T20:28:21.252007Z"
    }
   },
   "outputs": [],
   "source": [
    "ds[((ds['original'] - ds['reduced']) / ds['original'] > -0.2)].to_csv('~/metagenome/data/mantis/subsets/mtg/test_rd_100_10k_trunc_0.2/columns.txt', columns=['file'], index=False, header=False)"
   ]
  },
  {
   "cell_type": "markdown",
   "metadata": {},
   "source": [
    "### After anchor optimization"
   ]
  },
  {
   "cell_type": "code",
   "execution_count": 98,
   "metadata": {
    "ExecuteTime": {
     "end_time": "2020-11-02T11:07:08.472917Z",
     "start_time": "2020-11-02T11:07:00.536986Z"
    }
   },
   "outputs": [],
   "source": [
    "df = pd.DataFrame(data=get_reductions_path('/cluster/home/mikhaika/metagenome/data/mantis/subsets/mtg/rd_100_10k',\n",
    "                                           '/cluster/home/mikhaika/metagenome/data/mantis/subsets/mtg/cols_10k'),\n",
    "                  columns=['reduced', 'original', 'file'])"
   ]
  },
  {
   "cell_type": "code",
   "execution_count": 99,
   "metadata": {
    "ExecuteTime": {
     "end_time": "2020-11-02T11:07:10.625091Z",
     "start_time": "2020-11-02T11:07:10.597381Z"
    }
   },
   "outputs": [],
   "source": [
    "d = df.iloc[((df['original'] - df['reduced']) / df['original']).argsort().values]"
   ]
  },
  {
   "cell_type": "code",
   "execution_count": 100,
   "metadata": {
    "ExecuteTime": {
     "end_time": "2020-11-02T11:07:11.443489Z",
     "start_time": "2020-11-02T11:07:11.416291Z"
    }
   },
   "outputs": [
    {
     "data": {
      "text/plain": [
       "5.478e-06"
      ]
     },
     "execution_count": 100,
     "metadata": {},
     "output_type": "execute_result"
    }
   ],
   "source": [
    "d[((d['original'] - d['reduced']) / d['original'] <= -0.2)].original.sum() / 10**9"
   ]
  },
  {
   "cell_type": "code",
   "execution_count": 101,
   "metadata": {
    "ExecuteTime": {
     "end_time": "2020-11-02T11:07:11.986023Z",
     "start_time": "2020-11-02T11:07:11.958137Z"
    }
   },
   "outputs": [
    {
     "data": {
      "text/plain": [
       "117.827011506"
      ]
     },
     "execution_count": 101,
     "metadata": {},
     "output_type": "execute_result"
    }
   ],
   "source": [
    "d['reduced'].sum() / 10**9"
   ]
  },
  {
   "cell_type": "code",
   "execution_count": 102,
   "metadata": {
    "ExecuteTime": {
     "end_time": "2020-11-02T11:07:12.466023Z",
     "start_time": "2020-11-02T11:07:12.439277Z"
    }
   },
   "outputs": [],
   "source": [
    "ds = d[d.original > 33]"
   ]
  },
  {
   "cell_type": "code",
   "execution_count": 103,
   "metadata": {
    "ExecuteTime": {
     "end_time": "2020-11-02T11:07:13.183878Z",
     "start_time": "2020-11-02T11:07:12.886144Z"
    }
   },
   "outputs": [
    {
     "data": {
      "image/png": "[encoded data removed]",
      "text/plain": [
       "<Figure size 432x288 with 1 Axes>"
      ]
     },
     "metadata": {
      "needs_background": "light"
     },
     "output_type": "display_data"
    }
   ],
   "source": [
    "plt.scatter(ds.original / 10**6, ((ds['original'] - ds['reduced']) / ds['original']).values, fc=(0, 0, 1, 0.1))\n",
    "plt.xlabel('Column size, MB')\n",
    "plt.ylabel('Reduction factor: (Full - RowDiff) / Full')\n",
    "plt.grid()\n",
    "plt.show()"
   ]
  },
  {
   "cell_type": "code",
   "execution_count": 104,
   "metadata": {
    "ExecuteTime": {
     "end_time": "2020-11-02T11:07:22.355196Z",
     "start_time": "2020-11-02T11:07:21.617724Z"
    }
   },
   "outputs": [
    {
     "data": {
      "image/png": "[encoded data removed]",
      "text/plain": [
       "<Figure size 432x288 with 1 Axes>"
      ]
     },
     "metadata": {
      "needs_background": "light"
     },
     "output_type": "display_data"
    }
   ],
   "source": [
    "plt.hist(((ds['original'] - ds['reduced']) / ds['original']).values, bins=100, cumulative=True, density=True, fc=(0, 0, 1, 0.5), label='RowDiff(10)')\n",
    "plt.hist(((ds['original'] - ds['reduced']) / ds['original']).values, bins=100, cumulative=True, density=True, fc=(1, 0, 0, 0.5), weights=ds['reduced'], label='RowDiff(10), weighted by size')\n",
    "\n",
    "plt.title('10k RNA-Seq samples: column reduction factor')\n",
    "plt.xlabel('Reduction factor: (Full - RowDiff) / Full')\n",
    "#plt.yticks([])\n",
    "plt.grid()\n",
    "plt.legend()\n",
    "\n",
    "plt.show()"
   ]
  }
 ],
 "metadata": {
  "kernelspec": {
   "display_name": "Python 3",
   "language": "python",
   "name": "python3"
  },
  "language_info": {
   "codemirror_mode": {
    "name": "ipython",
    "version": 3
   },
   "file_extension": ".py",
   "mimetype": "text/x-python",
   "name": "python",
   "nbconvert_exporter": "python",
   "pygments_lexer": "ipython3",
   "version": "3.7.5"
  },
  "toc": {
   "base_numbering": 1,
   "nav_menu": {
    "height": "203px",
    "width": "248px"
   },
   "number_sections": true,
   "sideBar": true,
   "skip_h1_title": true,
   "title_cell": "Table of Contents",
   "title_sidebar": "Contents",
   "toc_cell": false,
   "toc_position": {
    "height": "calc(100% - 180px)",
    "left": "10px",
    "top": "150px",
    "width": "261px"
   },
   "toc_section_display": true,
   "toc_window_display": true
  }
 },
 "nbformat": 4,
 "nbformat_minor": 2
}
