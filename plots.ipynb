{
 "cells": [
  {
   "cell_type": "code",
   "execution_count": 1,
   "metadata": {
    "ExecuteTime": {
     "end_time": "2021-03-29T16:54:03.627378Z",
     "start_time": "2021-03-29T16:54:02.521682Z"
    }
   },
   "outputs": [],
   "source": [
    "import glob\n",
    "import os\n",
    "import pandas as pd\n",
    "from io import StringIO\n",
    "from matplotlib import pyplot as plt\n",
    "from IPython.display import set_matplotlib_formats\n",
    "#set_matplotlib_formats('png', 'pdf')\n",
    "import numpy as np\n",
    "import matplotlib as mpl\n",
    "import sys\n",
    "import os\n",
    "mpl.rcParams.update(mpl.rcParamsDefault)\n",
    "\n",
    "plt.rc('font', family='sans-serif')#, serif='Times')\n",
    "plt.rc('xtick', labelsize=11)\n",
    "plt.rc('ytick', labelsize=11)\n",
    "plt.rc('axes', labelsize=12)\n",
    "plt.rc('legend', fontsize=11)\n",
    "#plt.rcParams['mathtext.fontset'] = 'stix'\n",
    "#plt.rcParams['font.family'] = 'STIXGeneral'\n",
    "params = {\n",
    "'text.usetex': True,\n",
    "#'font.size': 15,\n",
    "#'text.latex.unicode': True\n",
    "}\n",
    "plt.rcParams.update(params)\n",
    "\n",
    "%matplotlib inline\n",
    "%load_ext autoreload\n",
    "%autoreload 2"
   ]
  },
  {
   "cell_type": "code",
   "execution_count": 2,
   "metadata": {
    "ExecuteTime": {
     "end_time": "2021-03-29T16:54:03.644104Z",
     "start_time": "2021-03-29T16:54:03.629271Z"
    }
   },
   "outputs": [],
   "source": [
    "def get_total_size(path, extension):\n",
    "    total = 0\n",
    "    for entry in os.scandir(path):\n",
    "        if entry.path.endswith(extension):\n",
    "            total += entry.stat(follow_symlinks=False).st_size\n",
    "    return total"
   ]
  },
  {
   "cell_type": "markdown",
   "metadata": {},
   "source": [
    "## RNA-Seq (k=23)"
   ]
  },
  {
   "cell_type": "code",
   "execution_count": 3,
   "metadata": {
    "ExecuteTime": {
     "end_time": "2021-03-29T16:54:25.344528Z",
     "start_time": "2021-03-29T16:54:03.646263Z"
    }
   },
   "outputs": [],
   "source": [
    "DIR = '/cluster/home/mikhaika/metagenome/data/row_diff/subsets/rnaseq/nobackup/mtg/'\n",
    "\n",
    "n_samples = []\n",
    "columns = []\n",
    "rd_optimized_100 = []\n",
    "rd_optimized_100_multi_brwt = []\n",
    "rd_optimized_100_row_sparse = []\n",
    "multi_brwt = []\n",
    "rb_brwt = []\n",
    "mst = []\n",
    "\n",
    "for i in range(1, 11):\n",
    "    num_cols = !cat {DIR}../../{i}k.txt | wc -l\n",
    "    n_samples.append(int(num_cols[0]))\n",
    "\n",
    "    columns.append(get_total_size(f'{DIR}cols_{i}k/', '.column.annodbg'))\n",
    "\n",
    "    #rd_optimized_100.append(get_total_size(f'{DIR}rd_100_{i}k/', '.row_diff.annodbg'))\n",
    "    rd_optimized_100.append(np.nan)\n",
    "\n",
    "    try:\n",
    "        rd_optimized_100_row_sparse.append(os.path.getsize(DIR + 'row_sparse/rd_100_{}k.row_diff_sparse.annodbg'.format(i)))\n",
    "    except:\n",
    "        rd_optimized_100_row_sparse.append(np.nan)\n",
    "\n",
    "    try:\n",
    "        rd_optimized_100_multi_brwt.append(os.path.getsize(DIR + 'multi_brwt/rd_100_{}k_relaxed.row_diff_brwt.annodbg'.format(i)))\n",
    "    except:\n",
    "        rd_optimized_100_multi_brwt.append(np.nan)\n",
    "\n",
    "    try:\n",
    "        multi_brwt.append(os.path.getsize(DIR + 'multi_brwt/brwt_relaxed_{}k.brwt.annodbg'.format(i)))\n",
    "    except:\n",
    "        multi_brwt.append(np.nan)\n",
    "\n",
    "    try:\n",
    "        rb_brwt.append(os.path.getsize(DIR + 'multi_brwt/rb_brwt_{}k.rb_brwt.annodbg'.format(i)))\n",
    "    except:\n",
    "        rb_brwt.append(np.nan)\n",
    "\n",
    "    try:\n",
    "        mantis_dir = '/cluster/home/mikhaika/metagenome/data/row_diff/mantis/mantis_cqfs/ser_{}k_scratch.fast/'.format(i)\n",
    "        mst.append(os.path.getsize(mantis_dir + 'parents.bv'.format(i))\n",
    "                    + os.path.getsize(mantis_dir + 'boundaries.bv'.format(i))\n",
    "                    + os.path.getsize(mantis_dir + 'deltas.bv'.format(i)))\n",
    "    except:\n",
    "        mst.append(np.nan)"
   ]
  },
  {
   "cell_type": "code",
   "execution_count": 4,
   "metadata": {
    "ExecuteTime": {
     "end_time": "2021-03-29T16:54:25.372880Z",
     "start_time": "2021-03-29T16:54:25.347741Z"
    }
   },
   "outputs": [],
   "source": [
    "rainbow_assignment_vector_size = [\n",
    "    5099393699,\n",
    "    8654440075,\n",
    "    12091059547,\n",
    "    15233585963,\n",
    "    18621953051,\n",
    "    21489605395,\n",
    "    24231542451,\n",
    "    27058051403,\n",
    "    30060233659,\n",
    "    32779537227\n",
    "]\n",
    "\n",
    "mst_paper_size = [\n",
    "    1.03 * 10**9,\n",
    "    2.35 * 10**9,\n",
    "    np.nan,\n",
    "    np.nan,\n",
    "    7.21 * 10**9,\n",
    "    np.nan,\n",
    "    np.nan,\n",
    "    np.nan,\n",
    "    np.nan,\n",
    "    16.28 * 10**9\n",
    "]"
   ]
  },
  {
   "cell_type": "code",
   "execution_count": 5,
   "metadata": {
    "ExecuteTime": {
     "end_time": "2021-03-29T16:54:25.409300Z",
     "start_time": "2021-03-29T16:54:25.375418Z"
    },
    "scrolled": true
   },
   "outputs": [
    {
     "data": {
      "text/html": [
       "<div>\n",
       "<style scoped>\n",
       "    .dataframe tbody tr th:only-of-type {\n",
       "        vertical-align: middle;\n",
       "    }\n",
       "\n",
       "    .dataframe tbody tr th {\n",
       "        vertical-align: top;\n",
       "    }\n",
       "\n",
       "    .dataframe thead th {\n",
       "        text-align: right;\n",
       "    }\n",
       "</style>\n",
       "<table border=\"1\" class=\"dataframe\">\n",
       "  <thead>\n",
       "    <tr style=\"text-align: right;\">\n",
       "      <th></th>\n",
       "      <th>n_samples</th>\n",
       "      <th>column_compressed</th>\n",
       "      <th>rb_brwt</th>\n",
       "      <th>multi_brwt</th>\n",
       "      <th>rd_optimized_100</th>\n",
       "      <th>rd_optimized_100_row_sparse</th>\n",
       "      <th>rd_optimized_100_multi_brwt</th>\n",
       "      <th>assignment_vector</th>\n",
       "      <th>mst</th>\n",
       "      <th>mst_paper</th>\n",
       "    </tr>\n",
       "  </thead>\n",
       "  <tbody>\n",
       "    <tr>\n",
       "      <th>0</th>\n",
       "      <td>1000</td>\n",
       "      <td>17041114456</td>\n",
       "      <td>8488560511</td>\n",
       "      <td>10416602955</td>\n",
       "      <td>NaN</td>\n",
       "      <td>5530827188</td>\n",
       "      <td>2531812320</td>\n",
       "      <td>5099393699</td>\n",
       "      <td>1062809114</td>\n",
       "      <td>1.030000e+09</td>\n",
       "    </tr>\n",
       "    <tr>\n",
       "      <th>1</th>\n",
       "      <td>2000</td>\n",
       "      <td>36493236303</td>\n",
       "      <td>16167252150</td>\n",
       "      <td>19838891591</td>\n",
       "      <td>NaN</td>\n",
       "      <td>11017855037</td>\n",
       "      <td>5440254833</td>\n",
       "      <td>8654440075</td>\n",
       "      <td>2322082202</td>\n",
       "      <td>2.350000e+09</td>\n",
       "    </tr>\n",
       "    <tr>\n",
       "      <th>2</th>\n",
       "      <td>3000</td>\n",
       "      <td>55143415112</td>\n",
       "      <td>23920167278</td>\n",
       "      <td>29585252004</td>\n",
       "      <td>NaN</td>\n",
       "      <td>17311213522</td>\n",
       "      <td>8655890681</td>\n",
       "      <td>12091059547</td>\n",
       "      <td>3817334178</td>\n",
       "      <td>NaN</td>\n",
       "    </tr>\n",
       "    <tr>\n",
       "      <th>3</th>\n",
       "      <td>4000</td>\n",
       "      <td>79766483394</td>\n",
       "      <td>31537519288</td>\n",
       "      <td>38510273140</td>\n",
       "      <td>NaN</td>\n",
       "      <td>23843155385</td>\n",
       "      <td>12045907430</td>\n",
       "      <td>15233585963</td>\n",
       "      <td>5183193210</td>\n",
       "      <td>NaN</td>\n",
       "    </tr>\n",
       "    <tr>\n",
       "      <th>4</th>\n",
       "      <td>5000</td>\n",
       "      <td>99673000727</td>\n",
       "      <td>39399381367</td>\n",
       "      <td>48573893463</td>\n",
       "      <td>NaN</td>\n",
       "      <td>31019333253</td>\n",
       "      <td>15764093014</td>\n",
       "      <td>18621953051</td>\n",
       "      <td>6975993530</td>\n",
       "      <td>7.210000e+09</td>\n",
       "    </tr>\n",
       "    <tr>\n",
       "      <th>5</th>\n",
       "      <td>6000</td>\n",
       "      <td>119353191140</td>\n",
       "      <td>46758713412</td>\n",
       "      <td>57652510865</td>\n",
       "      <td>NaN</td>\n",
       "      <td>37915590645</td>\n",
       "      <td>19244895186</td>\n",
       "      <td>21489605395</td>\n",
       "      <td>8473578282</td>\n",
       "      <td>NaN</td>\n",
       "    </tr>\n",
       "    <tr>\n",
       "      <th>6</th>\n",
       "      <td>7000</td>\n",
       "      <td>138511373857</td>\n",
       "      <td>53997524167</td>\n",
       "      <td>65424631640</td>\n",
       "      <td>NaN</td>\n",
       "      <td>44797875565</td>\n",
       "      <td>22793838248</td>\n",
       "      <td>24231542451</td>\n",
       "      <td>10000729970</td>\n",
       "      <td>NaN</td>\n",
       "    </tr>\n",
       "    <tr>\n",
       "      <th>7</th>\n",
       "      <td>8000</td>\n",
       "      <td>159167902757</td>\n",
       "      <td>61686156920</td>\n",
       "      <td>75038959203</td>\n",
       "      <td>NaN</td>\n",
       "      <td>52224641757</td>\n",
       "      <td>26761020255</td>\n",
       "      <td>27058051403</td>\n",
       "      <td>11558990202</td>\n",
       "      <td>NaN</td>\n",
       "    </tr>\n",
       "    <tr>\n",
       "      <th>8</th>\n",
       "      <td>9000</td>\n",
       "      <td>179082669880</td>\n",
       "      <td>69520201705</td>\n",
       "      <td>83929963109</td>\n",
       "      <td>NaN</td>\n",
       "      <td>59868927733</td>\n",
       "      <td>30645683567</td>\n",
       "      <td>30060233659</td>\n",
       "      <td>13902107962</td>\n",
       "      <td>NaN</td>\n",
       "    </tr>\n",
       "    <tr>\n",
       "      <th>9</th>\n",
       "      <td>9998</td>\n",
       "      <td>214142961204</td>\n",
       "      <td>77027638437</td>\n",
       "      <td>92776465294</td>\n",
       "      <td>NaN</td>\n",
       "      <td>67138537889</td>\n",
       "      <td>34423279580</td>\n",
       "      <td>32779537227</td>\n",
       "      <td>15569878818</td>\n",
       "      <td>1.628000e+10</td>\n",
       "    </tr>\n",
       "  </tbody>\n",
       "</table>\n",
       "</div>"
      ],
      "text/plain": [
       "   n_samples  column_compressed      rb_brwt   multi_brwt  rd_optimized_100  \\\n",
       "0       1000        17041114456   8488560511  10416602955               NaN   \n",
       "1       2000        36493236303  16167252150  19838891591               NaN   \n",
       "2       3000        55143415112  23920167278  29585252004               NaN   \n",
       "3       4000        79766483394  31537519288  38510273140               NaN   \n",
       "4       5000        99673000727  39399381367  48573893463               NaN   \n",
       "5       6000       119353191140  46758713412  57652510865               NaN   \n",
       "6       7000       138511373857  53997524167  65424631640               NaN   \n",
       "7       8000       159167902757  61686156920  75038959203               NaN   \n",
       "8       9000       179082669880  69520201705  83929963109               NaN   \n",
       "9       9998       214142961204  77027638437  92776465294               NaN   \n",
       "\n",
       "   rd_optimized_100_row_sparse  rd_optimized_100_multi_brwt  \\\n",
       "0                   5530827188                   2531812320   \n",
       "1                  11017855037                   5440254833   \n",
       "2                  17311213522                   8655890681   \n",
       "3                  23843155385                  12045907430   \n",
       "4                  31019333253                  15764093014   \n",
       "5                  37915590645                  19244895186   \n",
       "6                  44797875565                  22793838248   \n",
       "7                  52224641757                  26761020255   \n",
       "8                  59868927733                  30645683567   \n",
       "9                  67138537889                  34423279580   \n",
       "\n",
       "   assignment_vector          mst     mst_paper  \n",
       "0         5099393699   1062809114  1.030000e+09  \n",
       "1         8654440075   2322082202  2.350000e+09  \n",
       "2        12091059547   3817334178           NaN  \n",
       "3        15233585963   5183193210           NaN  \n",
       "4        18621953051   6975993530  7.210000e+09  \n",
       "5        21489605395   8473578282           NaN  \n",
       "6        24231542451  10000729970           NaN  \n",
       "7        27058051403  11558990202           NaN  \n",
       "8        30060233659  13902107962           NaN  \n",
       "9        32779537227  15569878818  1.628000e+10  "
      ]
     },
     "execution_count": 5,
     "metadata": {},
     "output_type": "execute_result"
    }
   ],
   "source": [
    "results = pd.DataFrame(columns=['n_samples', 'column_compressed', 'rb_brwt', 'multi_brwt',\n",
    "                                #'rd_optimized_10', 'rd_optimized_20', 'rd_optimized_40',\n",
    "                                'rd_optimized_100',\n",
    "                                'rd_optimized_100_row_sparse',\n",
    "                                'rd_optimized_100_multi_brwt',\n",
    "                                'assignment_vector',\n",
    "                                'mst',\n",
    "                                'mst_paper'],\n",
    "                       data=zip(n_samples, columns, rb_brwt, multi_brwt,\n",
    "                                #rd_optimized_10, rd_optimized_20, rd_optimized_40,\n",
    "                                rd_optimized_100,\n",
    "                                rd_optimized_100_row_sparse,\n",
    "                                rd_optimized_100_multi_brwt,\n",
    "                                rainbow_assignment_vector_size,\n",
    "                                mst,\n",
    "                                mst_paper_size))\n",
    "results"
   ]
  },
  {
   "cell_type": "code",
   "execution_count": 6,
   "metadata": {
    "ExecuteTime": {
     "end_time": "2021-03-29T16:54:25.431025Z",
     "start_time": "2021-03-29T16:54:25.411063Z"
    }
   },
   "outputs": [
    {
     "data": {
      "text/plain": [
       "48349416045"
      ]
     },
     "execution_count": 6,
     "metadata": {},
     "output_type": "execute_result"
    }
   ],
   "source": [
    "(results.assignment_vector + results.mst).iloc[-1]"
   ]
  },
  {
   "cell_type": "code",
   "execution_count": 7,
   "metadata": {
    "ExecuteTime": {
     "end_time": "2021-03-29T16:54:25.447773Z",
     "start_time": "2021-03-29T16:54:25.432381Z"
    }
   },
   "outputs": [
    {
     "data": {
      "text/plain": [
       "34423279580"
      ]
     },
     "execution_count": 7,
     "metadata": {},
     "output_type": "execute_result"
    }
   ],
   "source": [
    "results.rd_optimized_100_multi_brwt.iloc[-1]"
   ]
  },
  {
   "cell_type": "code",
   "execution_count": 8,
   "metadata": {
    "ExecuteTime": {
     "end_time": "2021-03-29T16:54:27.609044Z",
     "start_time": "2021-03-29T16:54:25.449264Z"
    }
   },
   "outputs": [
    {
     "data": {
      "image/png": "[encoded data removed]",
      "text/plain": [
       "<Figure size 376.596x232.754 with 1 Axes>"
      ]
     },
     "metadata": {
      "needs_background": "light"
     },
     "output_type": "display_data"
    }
   ],
   "source": [
    "width = 3.487 * 1.5\n",
    "height = width / 1.618\n",
    "\n",
    "fig, axes = plt.subplots(1, 1, figsize=(width, height))\n",
    "#ax.set_title('RefSeq assembly graph')\n",
    "\n",
    "# results.sort_values('num_kmers', inplace=True)\n",
    "\n",
    "# colors = ['c', 'b', 'g', 'r']\n",
    "\n",
    "ax = axes\n",
    "\n",
    "# lines = ax.plot(results.n_samples, results.rb_brwt / 10**9,\n",
    "#                 marker='o', ms=4, label='Rainbow-BRWT', linestyle='-.')\n",
    "\n",
    "f = ~(results.assignment_vector + results.mst).isna()\n",
    "lines = ax.plot(results.n_samples[f], (results.assignment_vector + results.mst)[f] / 10**9,\n",
    "                marker='o', ms=4, label='Rainbow-MST')\n",
    "\n",
    "# f = ~(results.assignment_vector + results.mst_paper).isna()\n",
    "# lines = ax.plot(results.n_samples[f], (results.assignment_vector + results.mst_paper)[f] / 10**9,\n",
    "#                 marker='o', ms=4, label='Rainbow-MST reported')\n",
    "\n",
    "lines = ax.plot(results.n_samples, results.assignment_vector / 10**9,\n",
    "                marker='o', ms=4, label='Rainbow-MST (mapping only)', linestyle='-.')\n",
    "\n",
    "lines = ax.plot(results.n_samples, results.multi_brwt / 10**9,\n",
    "                marker='o', ms=4, label='MultiBRWT')\n",
    "\n",
    "# ax.plot(results.n_samples, results.column_compressed / 10**9,\n",
    "#         marker='o', ms=4, label='ColumnCompressed', linestyle=':')\n",
    "\n",
    "# ax.plot(results.n_samples, results.rd_optimized_100 / 10**9,\n",
    "#         marker='o', ms=4, label='RowDiff(100)-ColumnCompressed', linestyle=':')\n",
    "\n",
    "ax.plot(results.n_samples, results.rd_optimized_100_row_sparse / 10**9,\n",
    "        marker='o', ms=4, label='RowDiff-RowSparse')\n",
    "\n",
    "ax.plot(results.n_samples, results.rd_optimized_100_multi_brwt / 10**9,\n",
    "        marker='o', ms=4, label='RowDiff-MultiBRWT')\n",
    "\n",
    "# ax.plot(results.n_samples,\n",
    "#         (results.graph + results.anno_column) / 10**9,\n",
    "#         marker='o', ms=4, label='RowDiff (Graph + Column)', color=lines[0].get_color())\n",
    "\n",
    "#ax.set_title('10k RNA-Seq samples, k=23, k-mer level cleaning')\n",
    "ax.set_xlabel('Number of SRA samples')\n",
    "ax.set_ylabel('Size, GB')\n",
    "#     ax.set_xlim([-1e9, 25e9])\n",
    "#ax.set_xticks(np.array(k_array))\n",
    "ax.grid(True)\n",
    "ax.legend(loc='best', fontsize=9)\n",
    "\n",
    "#legend = ax.legend(loc=\"best\", fontsize=12)\n",
    "#legend.get_frame().set_facecolor('none')\n",
    "# plt.ylim([-5, 110])\n",
    "# axes[1].set_ylim([-1e-1, 75])\n",
    "#plt.xscale('symlog')\n",
    "#plt.yscale('symlog')\n",
    "\n",
    "plt.tight_layout()\n",
    "plt.savefig('rnaseq_23_size.pdf', format='pdf', bbox_inches='tight')\n",
    "plt.show()"
   ]
  },
  {
   "cell_type": "markdown",
   "metadata": {},
   "source": [
    "## RNA-Seq (k=31, unitig cleaning)"
   ]
  },
  {
   "cell_type": "code",
   "execution_count": 9,
   "metadata": {
    "ExecuteTime": {
     "end_time": "2021-03-29T16:54:27.773885Z",
     "start_time": "2021-03-29T16:54:27.610606Z"
    }
   },
   "outputs": [
    {
     "name": "stdout",
     "output_type": "stream",
     "text": [
      "total 438G\r\n",
      "-rw-rw---- 1 hmustafa INFK-Raetsch-All 851M Nov  5 04:14 0_eqclass_rrr.cls\r\n",
      "-rw-rw---- 1 hmustafa INFK-Raetsch-All 1.1G Nov  5 04:14 1_eqclass_rrr.cls\r\n",
      "-rw-rw---- 1 hmustafa INFK-Raetsch-All 1.2G Nov  5 04:14 2_eqclass_rrr.cls\r\n",
      "-rw-rw---- 1 hmustafa INFK-Raetsch-All  38M Nov  5 04:14 3_eqclass_rrr.cls\r\n",
      "-rw-rw---- 1 hmustafa INFK-Raetsch-All  25M Nov  5 14:53 boundaries.bv\r\n",
      "-rwx------ 1 hmustafa INFK-Raetsch-All 435G Nov  5 04:14 dbg_cqf.ser\r\n",
      "-rw-rw---- 1 hmustafa INFK-Raetsch-All 250M Nov  5 14:53 deltas.bv\r\n",
      "-rw-rw---- 1 hmustafa INFK-Raetsch-All  385 Nov  5 03:59 meta_info.json\r\n",
      "-rw-rw---- 1 hmustafa INFK-Raetsch-All 188M Nov  5 14:53 parents.bv\r\n",
      "-rw-rw---- 1 hmustafa INFK-Raetsch-All  23K Nov  5 04:14 sampleid.lst\r\n"
     ]
    }
   ],
   "source": [
    "!ls -lh /cluster/work/grlab/projects/metagenome/data/row_diff/mantis/mantis_cqfs_k31/clean_1k.ser/"
   ]
  },
  {
   "cell_type": "code",
   "execution_count": 10,
   "metadata": {
    "ExecuteTime": {
     "end_time": "2021-03-29T16:54:48.872820Z",
     "start_time": "2021-03-29T16:54:27.781694Z"
    }
   },
   "outputs": [],
   "source": [
    "DIR = '/cluster/home/mikhaika/metagenome/data/row_diff/subsets/clean_rnaseq/nobackup/mtg/'\n",
    "\n",
    "n_samples = []\n",
    "columns = []\n",
    "rd_optimized_100 = []\n",
    "rd_optimized_100_multi_brwt = []\n",
    "rd_optimized_100_row_sparse = []\n",
    "rb_brwt = []\n",
    "multi_brwt = []\n",
    "mst = []\n",
    "\n",
    "for i in range(1, 11):\n",
    "    num_cols = !cat {DIR}../../clean_{i}k.txt | wc -l\n",
    "    n_samples.append(int(num_cols[0]))\n",
    "\n",
    "    columns.append(get_total_size(f'{DIR}cols_{i}k/', '.column.annodbg'))\n",
    "\n",
    "    #rd_optimized_100.append(get_total_size(f'{DIR}rd_100_{i}k/', '.annodbg'))\n",
    "    rd_optimized_100.append(np.nan)\n",
    "\n",
    "    try:\n",
    "        rd_optimized_100_row_sparse.append(os.path.getsize(DIR + 'row_sparse/rd_100_{}k.row_diff_sparse.annodbg'.format(i)))\n",
    "    except:\n",
    "        rd_optimized_100_row_sparse.append(np.nan)\n",
    "\n",
    "    try:\n",
    "        rd_optimized_100_multi_brwt.append(os.path.getsize(DIR + 'multi_brwt/rd_100_{}k_relaxed.row_diff_brwt.annodbg'.format(i)))\n",
    "    except:\n",
    "        rd_optimized_100_multi_brwt.append(np.nan)\n",
    "\n",
    "    try:\n",
    "        multi_brwt.append(os.path.getsize(DIR + 'multi_brwt/brwt_relaxed_{}k.brwt.annodbg'.format(i)))\n",
    "    except:\n",
    "        multi_brwt.append(np.nan)\n",
    "\n",
    "    try:\n",
    "        rb_brwt.append(os.path.getsize(DIR + 'multi_brwt/rb_brwt_{}k.rb_brwt.annodbg'.format(i)))\n",
    "    except:\n",
    "        rb_brwt.append(np.nan)\n",
    "\n",
    "    try:\n",
    "        mantis_dir = '/cluster/home/mikhaika/metagenome/data/row_diff/mantis/mantis_cqfs_k31/clean_{}k.ser/'.format(i)\n",
    "        mst.append(os.path.getsize(mantis_dir + 'parents.bv'.format(i))\n",
    "                    + os.path.getsize(mantis_dir + 'boundaries.bv'.format(i))\n",
    "                    + os.path.getsize(mantis_dir + 'deltas.bv'.format(i)))\n",
    "    except:\n",
    "        mst.append(np.nan)"
   ]
  },
  {
   "cell_type": "code",
   "execution_count": 11,
   "metadata": {
    "ExecuteTime": {
     "end_time": "2021-03-29T16:54:49.111377Z",
     "start_time": "2021-03-29T16:54:48.876365Z"
    }
   },
   "outputs": [],
   "source": [
    "rainbow_assignment_vector_size = [\n",
    "    2815406523,\n",
    "    4957627475,\n",
    "    6917054947,\n",
    "    9048889499,\n",
    "    10772682811,\n",
    "    12484537211,\n",
    "    14253139523,\n",
    "    15845354939,\n",
    "    17167501371,\n",
    "    18623736859\n",
    "]"
   ]
  },
  {
   "cell_type": "code",
   "execution_count": 12,
   "metadata": {
    "ExecuteTime": {
     "end_time": "2021-03-29T16:54:49.137057Z",
     "start_time": "2021-03-29T16:54:49.113325Z"
    }
   },
   "outputs": [
    {
     "data": {
      "text/html": [
       "<div>\n",
       "<style scoped>\n",
       "    .dataframe tbody tr th:only-of-type {\n",
       "        vertical-align: middle;\n",
       "    }\n",
       "\n",
       "    .dataframe tbody tr th {\n",
       "        vertical-align: top;\n",
       "    }\n",
       "\n",
       "    .dataframe thead th {\n",
       "        text-align: right;\n",
       "    }\n",
       "</style>\n",
       "<table border=\"1\" class=\"dataframe\">\n",
       "  <thead>\n",
       "    <tr style=\"text-align: right;\">\n",
       "      <th></th>\n",
       "      <th>n_samples</th>\n",
       "      <th>column_compressed</th>\n",
       "      <th>rb_brwt</th>\n",
       "      <th>multi_brwt</th>\n",
       "      <th>rd_optimized_100</th>\n",
       "      <th>rd_optimized_100_row_sparse</th>\n",
       "      <th>rd_optimized_100_multi_brwt</th>\n",
       "      <th>assignment_vector</th>\n",
       "      <th>mst</th>\n",
       "    </tr>\n",
       "  </thead>\n",
       "  <tbody>\n",
       "    <tr>\n",
       "      <th>0</th>\n",
       "      <td>1000</td>\n",
       "      <td>11680020619</td>\n",
       "      <td>4967027020</td>\n",
       "      <td>6537922576</td>\n",
       "      <td>NaN</td>\n",
       "      <td>2294274398</td>\n",
       "      <td>1049395885</td>\n",
       "      <td>2815406523</td>\n",
       "      <td>4.847324e+08</td>\n",
       "    </tr>\n",
       "    <tr>\n",
       "      <th>1</th>\n",
       "      <td>2000</td>\n",
       "      <td>25192648620</td>\n",
       "      <td>9885456111</td>\n",
       "      <td>12711682475</td>\n",
       "      <td>NaN</td>\n",
       "      <td>4814296499</td>\n",
       "      <td>2356312080</td>\n",
       "      <td>4957627475</td>\n",
       "      <td>1.036598e+09</td>\n",
       "    </tr>\n",
       "    <tr>\n",
       "      <th>2</th>\n",
       "      <td>3000</td>\n",
       "      <td>37965075457</td>\n",
       "      <td>14691273398</td>\n",
       "      <td>18820518155</td>\n",
       "      <td>NaN</td>\n",
       "      <td>7742324860</td>\n",
       "      <td>3848702767</td>\n",
       "      <td>6917054947</td>\n",
       "      <td>1.695106e+09</td>\n",
       "    </tr>\n",
       "    <tr>\n",
       "      <th>3</th>\n",
       "      <td>4000</td>\n",
       "      <td>55474159200</td>\n",
       "      <td>19741398594</td>\n",
       "      <td>25200598446</td>\n",
       "      <td>NaN</td>\n",
       "      <td>11003134245</td>\n",
       "      <td>5515989731</td>\n",
       "      <td>9048889499</td>\n",
       "      <td>2.316454e+09</td>\n",
       "    </tr>\n",
       "    <tr>\n",
       "      <th>4</th>\n",
       "      <td>5000</td>\n",
       "      <td>69961434906</td>\n",
       "      <td>24518006395</td>\n",
       "      <td>31561657911</td>\n",
       "      <td>NaN</td>\n",
       "      <td>14279298334</td>\n",
       "      <td>7184110675</td>\n",
       "      <td>10772682811</td>\n",
       "      <td>NaN</td>\n",
       "    </tr>\n",
       "    <tr>\n",
       "      <th>5</th>\n",
       "      <td>6000</td>\n",
       "      <td>83964019907</td>\n",
       "      <td>29382249524</td>\n",
       "      <td>37354883516</td>\n",
       "      <td>NaN</td>\n",
       "      <td>17715095021</td>\n",
       "      <td>8972634453</td>\n",
       "      <td>12484537211</td>\n",
       "      <td>NaN</td>\n",
       "    </tr>\n",
       "    <tr>\n",
       "      <th>6</th>\n",
       "      <td>7000</td>\n",
       "      <td>98145985190</td>\n",
       "      <td>34228003338</td>\n",
       "      <td>43765230245</td>\n",
       "      <td>NaN</td>\n",
       "      <td>21380624941</td>\n",
       "      <td>10808941955</td>\n",
       "      <td>14253139523</td>\n",
       "      <td>NaN</td>\n",
       "    </tr>\n",
       "    <tr>\n",
       "      <th>7</th>\n",
       "      <td>8000</td>\n",
       "      <td>121637268137</td>\n",
       "      <td>38972878572</td>\n",
       "      <td>49724976069</td>\n",
       "      <td>NaN</td>\n",
       "      <td>25092194191</td>\n",
       "      <td>12735241848</td>\n",
       "      <td>15845354939</td>\n",
       "      <td>NaN</td>\n",
       "    </tr>\n",
       "    <tr>\n",
       "      <th>8</th>\n",
       "      <td>9000</td>\n",
       "      <td>137009740997</td>\n",
       "      <td>43342378785</td>\n",
       "      <td>55551946976</td>\n",
       "      <td>NaN</td>\n",
       "      <td>28551627449</td>\n",
       "      <td>14520989152</td>\n",
       "      <td>17167501371</td>\n",
       "      <td>NaN</td>\n",
       "    </tr>\n",
       "    <tr>\n",
       "      <th>9</th>\n",
       "      <td>9937</td>\n",
       "      <td>151041295836</td>\n",
       "      <td>47708755229</td>\n",
       "      <td>60769799538</td>\n",
       "      <td>NaN</td>\n",
       "      <td>32056044811</td>\n",
       "      <td>16206551407</td>\n",
       "      <td>18623736859</td>\n",
       "      <td>NaN</td>\n",
       "    </tr>\n",
       "  </tbody>\n",
       "</table>\n",
       "</div>"
      ],
      "text/plain": [
       "   n_samples  column_compressed      rb_brwt   multi_brwt  rd_optimized_100  \\\n",
       "0       1000        11680020619   4967027020   6537922576               NaN   \n",
       "1       2000        25192648620   9885456111  12711682475               NaN   \n",
       "2       3000        37965075457  14691273398  18820518155               NaN   \n",
       "3       4000        55474159200  19741398594  25200598446               NaN   \n",
       "4       5000        69961434906  24518006395  31561657911               NaN   \n",
       "5       6000        83964019907  29382249524  37354883516               NaN   \n",
       "6       7000        98145985190  34228003338  43765230245               NaN   \n",
       "7       8000       121637268137  38972878572  49724976069               NaN   \n",
       "8       9000       137009740997  43342378785  55551946976               NaN   \n",
       "9       9937       151041295836  47708755229  60769799538               NaN   \n",
       "\n",
       "   rd_optimized_100_row_sparse  rd_optimized_100_multi_brwt  \\\n",
       "0                   2294274398                   1049395885   \n",
       "1                   4814296499                   2356312080   \n",
       "2                   7742324860                   3848702767   \n",
       "3                  11003134245                   5515989731   \n",
       "4                  14279298334                   7184110675   \n",
       "5                  17715095021                   8972634453   \n",
       "6                  21380624941                  10808941955   \n",
       "7                  25092194191                  12735241848   \n",
       "8                  28551627449                  14520989152   \n",
       "9                  32056044811                  16206551407   \n",
       "\n",
       "   assignment_vector           mst  \n",
       "0         2815406523  4.847324e+08  \n",
       "1         4957627475  1.036598e+09  \n",
       "2         6917054947  1.695106e+09  \n",
       "3         9048889499  2.316454e+09  \n",
       "4        10772682811           NaN  \n",
       "5        12484537211           NaN  \n",
       "6        14253139523           NaN  \n",
       "7        15845354939           NaN  \n",
       "8        17167501371           NaN  \n",
       "9        18623736859           NaN  "
      ]
     },
     "execution_count": 12,
     "metadata": {},
     "output_type": "execute_result"
    }
   ],
   "source": [
    "results = pd.DataFrame(columns=['n_samples', 'column_compressed', 'rb_brwt', 'multi_brwt',\n",
    "                                #'rd_optimized_10', 'rd_optimized_20', 'rd_optimized_40',\n",
    "                                'rd_optimized_100',\n",
    "                                'rd_optimized_100_row_sparse',\n",
    "                                'rd_optimized_100_multi_brwt',\n",
    "                                'assignment_vector',\n",
    "                                'mst'],\n",
    "                       data=zip(n_samples, columns, rb_brwt, multi_brwt,\n",
    "                                #rd_optimized_10, rd_optimized_20, rd_optimized_40,\n",
    "                                rd_optimized_100,\n",
    "                                rd_optimized_100_row_sparse,\n",
    "                                rd_optimized_100_multi_brwt,\n",
    "                                rainbow_assignment_vector_size,\n",
    "                                mst))\n",
    "results"
   ]
  },
  {
   "cell_type": "code",
   "execution_count": 13,
   "metadata": {
    "ExecuteTime": {
     "end_time": "2021-03-29T16:54:49.730485Z",
     "start_time": "2021-03-29T16:54:49.138423Z"
    }
   },
   "outputs": [
    {
     "data": {
      "image/png": "[encoded data removed]",
      "text/plain": [
       "<Figure size 376.596x232.754 with 1 Axes>"
      ]
     },
     "metadata": {
      "needs_background": "light"
     },
     "output_type": "display_data"
    }
   ],
   "source": [
    "width = 3.487 * 1.5\n",
    "height = width / 1.618\n",
    "\n",
    "fig, axes = plt.subplots(1, 1, figsize=(width, height))\n",
    "#ax.set_title('RefSeq assembly graph')\n",
    "\n",
    "# results.sort_values('num_kmers', inplace=True)\n",
    "\n",
    "# colors = ['c', 'b', 'g', 'r']\n",
    "\n",
    "ax = axes\n",
    "\n",
    "# lines = ax.plot(results.n_samples, results.rb_brwt / 10**9,\n",
    "#                 marker='o', ms=4, label='Rainbow-BRWT', linestyle='-.')\n",
    "\n",
    "f = ~(results.assignment_vector + results.mst).isna()\n",
    "lines = ax.plot(results.n_samples[f], (results.assignment_vector + results.mst)[f] / 10**9,\n",
    "                marker='o', ms=4, label='Rainbow-MST')\n",
    "\n",
    "lines = ax.plot(results.n_samples, results.assignment_vector / 10**9,\n",
    "                marker='o', ms=4, label='Rainbow-MST (mapping only)', linestyle='-.')\n",
    "\n",
    "lines = ax.plot(results.n_samples, results.multi_brwt / 10**9,\n",
    "                marker='o', ms=4, label='MultiBRWT')\n",
    "\n",
    "# ax.plot(results.n_samples, results.column_compressed / 10**9,\n",
    "#         marker='o', ms=4, label='ColumnCompressed', linestyle=':')\n",
    "\n",
    "# ax.plot(results.n_samples, results.rd_optimized_100 / 10**9,\n",
    "#         marker='o', ms=4, label='RowDiff(100)-ColumnCompressed', linestyle=':')\n",
    "\n",
    "ax.plot(results.n_samples, results.rd_optimized_100_row_sparse / 10**9,\n",
    "        marker='o', ms=4, label='RowDiff-RowSparse')\n",
    "\n",
    "# ax.plot(results.n_samples, results.rd_optimized_100_multi_brwt / 10**9,\n",
    "#         marker='o', ms=4, label='RowDiff-MultiBRWT')\n",
    "ax.plot(results.n_samples, results.rd_optimized_100_multi_brwt / 10**9,\n",
    "        marker='o', ms=4, label='RowDiff-MultiBRWT')\n",
    "\n",
    "#ax.set_title('10k RNA-Seq samples, k=31, unitig level cleaning')\n",
    "ax.set_xlabel('Number of SRA samples')\n",
    "ax.set_ylabel('Size, GB')\n",
    "#     ax.set_xlim([-1e9, 25e9])\n",
    "#ax.set_xticks(np.array(k_array))\n",
    "ax.grid(True)\n",
    "#     ax.legend(loc='best')\n",
    "#ax.set_xlim([900, 4100])\n",
    "#ax.set_ylim([0, 14])\n",
    "\n",
    "legend = ax.legend(loc=\"best\", fontsize=9)\n",
    "#legend.get_frame().set_facecolor('none')\n",
    "# plt.ylim([-5, 110])\n",
    "# axes[1].set_ylim([-1e-1, 75])\n",
    "#plt.xscale('symlog')\n",
    "#plt.yscale('symlog')\n",
    "\n",
    "plt.tight_layout()\n",
    "plt.savefig('rnaseq_31_size.pdf', format='pdf', bbox_inches='tight')\n",
    "plt.show()"
   ]
  },
  {
   "cell_type": "markdown",
   "metadata": {},
   "source": [
    "## RefSeq Fungi (k=31)"
   ]
  },
  {
   "cell_type": "code",
   "execution_count": 14,
   "metadata": {
    "ExecuteTime": {
     "end_time": "2021-03-29T16:54:49.905296Z",
     "start_time": "2021-03-29T16:54:49.732387Z"
    }
   },
   "outputs": [
    {
     "name": "stdout",
     "output_type": "stream",
     "text": [
      "total 435G\r\n",
      "-rw-rw---- 1 hmustafa INFK-Raetsch-All 923K Nov  5 11:38 0_eqclass_rrr.cls\r\n",
      "-rw-rw---- 1 hmustafa INFK-Raetsch-All 9.4K Nov  5 14:47 boundaries.bv\r\n",
      "-rwx------ 1 hmustafa INFK-Raetsch-All 435G Nov  5 12:34 dbg_cqf.ser\r\n",
      "-rw-rw---- 1 hmustafa INFK-Raetsch-All 103K Nov  5 14:47 deltas.bv\r\n",
      "-rw-rw---- 1 hmustafa INFK-Raetsch-All  413 Nov  5 11:38 meta_info.json\r\n",
      "-rw-rw---- 1 hmustafa INFK-Raetsch-All  55K Nov  5 14:47 parents.bv\r\n",
      "-rw-rw---- 1 hmustafa INFK-Raetsch-All  31K Nov  5 12:34 sampleid.lst\r\n"
     ]
    }
   ],
   "source": [
    "!ls -lh /cluster/work/grlab/projects/metagenome/data/row_diff/subsets/refseq/mantis/mantis_cqfs/ser_1_shuf/ser_1_shuf"
   ]
  },
  {
   "cell_type": "code",
   "execution_count": 15,
   "metadata": {
    "ExecuteTime": {
     "end_time": "2021-03-29T16:55:33.685348Z",
     "start_time": "2021-03-29T16:54:49.909583Z"
    }
   },
   "outputs": [],
   "source": [
    "DIR = '/cluster/home/mikhaika/metagenome/data/row_diff/subsets/refseq/nobackup/mtg/'\n",
    "\n",
    "n_samples = []\n",
    "columns = []\n",
    "rd_optimized_100 = []\n",
    "rd_optimized_100_multi_brwt = []\n",
    "rd_optimized_100_row_sparse = []\n",
    "multi_brwt = []\n",
    "rb_brwt = []\n",
    "mst = []\n",
    "\n",
    "for i in range(1, 9):\n",
    "    cols = !ls {DIR}cols_{i}\n",
    "    num_cols = len(cols)\n",
    "    n_samples.append(num_cols)\n",
    "\n",
    "    columns.append(get_total_size(f'{DIR}cols_{i}/', '.column.annodbg'))\n",
    "\n",
    "    rd_optimized_100.append(get_total_size(f'{DIR}rd_100_{i}/', '.row_diff.annodbg'))\n",
    "\n",
    "    try:\n",
    "        rd_optimized_100_row_sparse.append(os.path.getsize(DIR + 'row_sparse/rd_100_{}.row_diff_sparse.annodbg'.format(i)))\n",
    "    except:\n",
    "        rd_optimized_100_row_sparse.append(np.nan)\n",
    "\n",
    "    try:\n",
    "        rd_optimized_100_multi_brwt.append(os.path.getsize(DIR + 'multi_brwt/rd_100_{}_relaxed.row_diff_brwt.annodbg'.format(i)))\n",
    "    except:\n",
    "        rd_optimized_100_multi_brwt.append(np.nan)\n",
    "\n",
    "    try:\n",
    "        multi_brwt.append(os.path.getsize(DIR + 'multi_brwt/brwt_relaxed_{}.brwt.annodbg'.format(i)))\n",
    "    except:\n",
    "        multi_brwt.append(np.nan)\n",
    "\n",
    "    try:\n",
    "        rb_brwt.append(os.path.getsize(DIR + 'multi_brwt/rb_brwt_{}.rb_brwt.annodbg'.format(i)))\n",
    "    except:\n",
    "        rb_brwt.append(np.nan)\n",
    "\n",
    "    try:\n",
    "        mantis_dir = f'{DIR}../../mantis/mantis_cqfs/ser_{i}_shuf/ser_{i}_shuf/'\n",
    "        mst.append(os.path.getsize(mantis_dir + 'parents.bv'.format(i))\n",
    "                    + os.path.getsize(mantis_dir + 'boundaries.bv'.format(i))\n",
    "                    + os.path.getsize(mantis_dir + 'deltas.bv'.format(i)))\n",
    "    except:\n",
    "        mst.append(np.nan)"
   ]
  },
  {
   "cell_type": "code",
   "execution_count": 16,
   "metadata": {
    "ExecuteTime": {
     "end_time": "2021-03-29T16:55:33.720982Z",
     "start_time": "2021-03-29T16:55:33.689223Z"
    }
   },
   "outputs": [],
   "source": [
    "rd_optimized_100_anchors = []\n",
    "\n",
    "for i in range(1, 9):\n",
    "    try:\n",
    "        rd_optimized_100_anchors.append(os.path.getsize(DIR + f'rd_100_{i}/graph.dbg.anchors'))\n",
    "    except:\n",
    "        rd_optimized_100_anchors.append(np.nan)"
   ]
  },
  {
   "cell_type": "code",
   "execution_count": 17,
   "metadata": {
    "ExecuteTime": {
     "end_time": "2021-03-29T16:55:33.738465Z",
     "start_time": "2021-03-29T16:55:33.723353Z"
    }
   },
   "outputs": [],
   "source": [
    "rainbow_assignment_vector_size = [\n",
    "    559366427,\n",
    "    1753863675,\n",
    "    2781310035,\n",
    "    4629853907,\n",
    "    6282245131,\n",
    "    8013484075,\n",
    "    9613881579,\n",
    "    11409517403\n",
    "]"
   ]
  },
  {
   "cell_type": "code",
   "execution_count": 18,
   "metadata": {
    "ExecuteTime": {
     "end_time": "2021-03-29T16:55:33.767059Z",
     "start_time": "2021-03-29T16:55:33.741612Z"
    }
   },
   "outputs": [
    {
     "data": {
      "text/html": [
       "<div>\n",
       "<style scoped>\n",
       "    .dataframe tbody tr th:only-of-type {\n",
       "        vertical-align: middle;\n",
       "    }\n",
       "\n",
       "    .dataframe tbody tr th {\n",
       "        vertical-align: top;\n",
       "    }\n",
       "\n",
       "    .dataframe thead th {\n",
       "        text-align: right;\n",
       "    }\n",
       "</style>\n",
       "<table border=\"1\" class=\"dataframe\">\n",
       "  <thead>\n",
       "    <tr style=\"text-align: right;\">\n",
       "      <th></th>\n",
       "      <th>n_samples</th>\n",
       "      <th>column_compressed</th>\n",
       "      <th>rb_brwt</th>\n",
       "      <th>multi_brwt</th>\n",
       "      <th>rd_optimized_100</th>\n",
       "      <th>rd_optimized_100_anchors</th>\n",
       "      <th>rd_optimized_100_row_sparse</th>\n",
       "      <th>rd_optimized_100_multi_brwt</th>\n",
       "      <th>assignment_vector</th>\n",
       "      <th>mst</th>\n",
       "    </tr>\n",
       "  </thead>\n",
       "  <tbody>\n",
       "    <tr>\n",
       "      <th>0</th>\n",
       "      <td>1570</td>\n",
       "      <td>664546316</td>\n",
       "      <td>NaN</td>\n",
       "      <td>692783803</td>\n",
       "      <td>14354667</td>\n",
       "      <td>8494465</td>\n",
       "      <td>61032175</td>\n",
       "      <td>25168698</td>\n",
       "      <td>559366427</td>\n",
       "      <td>169874</td>\n",
       "    </tr>\n",
       "    <tr>\n",
       "      <th>1</th>\n",
       "      <td>3140</td>\n",
       "      <td>1834091316</td>\n",
       "      <td>NaN</td>\n",
       "      <td>2186505952</td>\n",
       "      <td>38411634</td>\n",
       "      <td>20504051</td>\n",
       "      <td>152798391</td>\n",
       "      <td>68006986</td>\n",
       "      <td>1753863675</td>\n",
       "      <td>562346</td>\n",
       "    </tr>\n",
       "    <tr>\n",
       "      <th>2</th>\n",
       "      <td>4710</td>\n",
       "      <td>2998556522</td>\n",
       "      <td>NaN</td>\n",
       "      <td>3502463678</td>\n",
       "      <td>62795955</td>\n",
       "      <td>30292050</td>\n",
       "      <td>234710338</td>\n",
       "      <td>108632899</td>\n",
       "      <td>2781310035</td>\n",
       "      <td>1042594</td>\n",
       "    </tr>\n",
       "    <tr>\n",
       "      <th>3</th>\n",
       "      <td>6280</td>\n",
       "      <td>4630617883</td>\n",
       "      <td>NaN</td>\n",
       "      <td>5966886537</td>\n",
       "      <td>102598844</td>\n",
       "      <td>44480985</td>\n",
       "      <td>380721810</td>\n",
       "      <td>174980905</td>\n",
       "      <td>4629853907</td>\n",
       "      <td>1957194</td>\n",
       "    </tr>\n",
       "    <tr>\n",
       "      <th>4</th>\n",
       "      <td>7850</td>\n",
       "      <td>6628899267</td>\n",
       "      <td>NaN</td>\n",
       "      <td>7873790585</td>\n",
       "      <td>147662061</td>\n",
       "      <td>60497012</td>\n",
       "      <td>527489172</td>\n",
       "      <td>246932786</td>\n",
       "      <td>6282245131</td>\n",
       "      <td>2927506</td>\n",
       "    </tr>\n",
       "    <tr>\n",
       "      <th>5</th>\n",
       "      <td>9420</td>\n",
       "      <td>8224861598</td>\n",
       "      <td>NaN</td>\n",
       "      <td>10248422679</td>\n",
       "      <td>187425543</td>\n",
       "      <td>72900132</td>\n",
       "      <td>666682297</td>\n",
       "      <td>312742338</td>\n",
       "      <td>8013484075</td>\n",
       "      <td>4164074</td>\n",
       "    </tr>\n",
       "    <tr>\n",
       "      <th>6</th>\n",
       "      <td>10990</td>\n",
       "      <td>9640526736</td>\n",
       "      <td>NaN</td>\n",
       "      <td>12320762717</td>\n",
       "      <td>224724881</td>\n",
       "      <td>85311097</td>\n",
       "      <td>790031320</td>\n",
       "      <td>371743827</td>\n",
       "      <td>9613881579</td>\n",
       "      <td>5416650</td>\n",
       "    </tr>\n",
       "    <tr>\n",
       "      <th>7</th>\n",
       "      <td>12561</td>\n",
       "      <td>11214466210</td>\n",
       "      <td>NaN</td>\n",
       "      <td>14879122080</td>\n",
       "      <td>265330340</td>\n",
       "      <td>95992192</td>\n",
       "      <td>928463816</td>\n",
       "      <td>430031423</td>\n",
       "      <td>11409517403</td>\n",
       "      <td>6989842</td>\n",
       "    </tr>\n",
       "  </tbody>\n",
       "</table>\n",
       "</div>"
      ],
      "text/plain": [
       "   n_samples  column_compressed  rb_brwt   multi_brwt  rd_optimized_100  \\\n",
       "0       1570          664546316      NaN    692783803          14354667   \n",
       "1       3140         1834091316      NaN   2186505952          38411634   \n",
       "2       4710         2998556522      NaN   3502463678          62795955   \n",
       "3       6280         4630617883      NaN   5966886537         102598844   \n",
       "4       7850         6628899267      NaN   7873790585         147662061   \n",
       "5       9420         8224861598      NaN  10248422679         187425543   \n",
       "6      10990         9640526736      NaN  12320762717         224724881   \n",
       "7      12561        11214466210      NaN  14879122080         265330340   \n",
       "\n",
       "   rd_optimized_100_anchors  rd_optimized_100_row_sparse  \\\n",
       "0                   8494465                     61032175   \n",
       "1                  20504051                    152798391   \n",
       "2                  30292050                    234710338   \n",
       "3                  44480985                    380721810   \n",
       "4                  60497012                    527489172   \n",
       "5                  72900132                    666682297   \n",
       "6                  85311097                    790031320   \n",
       "7                  95992192                    928463816   \n",
       "\n",
       "   rd_optimized_100_multi_brwt  assignment_vector      mst  \n",
       "0                     25168698          559366427   169874  \n",
       "1                     68006986         1753863675   562346  \n",
       "2                    108632899         2781310035  1042594  \n",
       "3                    174980905         4629853907  1957194  \n",
       "4                    246932786         6282245131  2927506  \n",
       "5                    312742338         8013484075  4164074  \n",
       "6                    371743827         9613881579  5416650  \n",
       "7                    430031423        11409517403  6989842  "
      ]
     },
     "execution_count": 18,
     "metadata": {},
     "output_type": "execute_result"
    }
   ],
   "source": [
    "results = pd.DataFrame(columns=['n_samples', 'column_compressed', 'rb_brwt', 'multi_brwt',\n",
    "                                #'rd_optimized_10', 'rd_optimized_20', 'rd_optimized_40',\n",
    "                                'rd_optimized_100',\n",
    "                                'rd_optimized_100_anchors',\n",
    "                                'rd_optimized_100_row_sparse',\n",
    "                                'rd_optimized_100_multi_brwt',\n",
    "                                'assignment_vector',\n",
    "                                'mst'],\n",
    "                       data=zip(n_samples, columns, rb_brwt, multi_brwt,\n",
    "                                #rd_optimized_10, rd_optimized_20, rd_optimized_40,\n",
    "                                rd_optimized_100,\n",
    "                                rd_optimized_100_anchors,\n",
    "                                rd_optimized_100_row_sparse,\n",
    "                                rd_optimized_100_multi_brwt,\n",
    "                                rainbow_assignment_vector_size,\n",
    "                                mst))\n",
    "results"
   ]
  },
  {
   "cell_type": "code",
   "execution_count": 19,
   "metadata": {
    "ExecuteTime": {
     "end_time": "2021-03-29T16:55:34.794760Z",
     "start_time": "2021-03-29T16:55:33.770045Z"
    },
    "scrolled": true
   },
   "outputs": [
    {
     "data": {
      "image/png": "[encoded data removed]",
      "text/plain": [
       "<Figure size 376.596x232.754 with 1 Axes>"
      ]
     },
     "metadata": {
      "needs_background": "light"
     },
     "output_type": "display_data"
    }
   ],
   "source": [
    "width = 3.487 * 1.5\n",
    "height = width / 1.618\n",
    "\n",
    "fig, axes = plt.subplots(1, 1, figsize=(width, height))\n",
    "#ax.set_title('RefSeq assembly graph')\n",
    "\n",
    "# results.sort_values('num_kmers', inplace=True)\n",
    "\n",
    "# colors = ['c', 'b', 'g', 'r']\n",
    "\n",
    "ax = axes\n",
    "\n",
    "# lines = ax.plot(results.n_samples, results.rb_brwt / 10**9,\n",
    "#                 marker='o', ms=4, label='Rainbow-BRWT', linestyle='-.')\n",
    "\n",
    "f = ~(results.assignment_vector + results.mst).isna()\n",
    "lines = ax.plot(results.n_samples[f], (results.assignment_vector + results.mst)[f] / 10**9,\n",
    "                marker='o', ms=4, label='Rainbow-MST')\n",
    "\n",
    "lines = ax.plot(results.n_samples, results.assignment_vector / 10**9,\n",
    "                marker='o', ms=4, label='Rainbow-MST (mapping only)', linestyle='-.')\n",
    "\n",
    "lines = ax.plot(results.n_samples, results.multi_brwt / 10**9,\n",
    "                marker='o', ms=4, label='MultiBRWT')\n",
    "\n",
    "# ax.plot(results.n_samples, results.column_compressed / 10**9,\n",
    "#         marker='o', ms=4, label='ColumnCompressed', linestyle=':')\n",
    "\n",
    "# ax.plot(results.n_samples, results.rd_optimized_100 / 10**9,\n",
    "#         marker='o', ms=4, label='RowDiff(100)-ColumnCompressed', linestyle=':')\n",
    "\n",
    "ax.plot(results.n_samples, results.rd_optimized_100_row_sparse / 10**9,\n",
    "        marker='o', ms=4, label='RowDiff-RowSparse')\n",
    "\n",
    "ax.plot(results.n_samples, results.rd_optimized_100_multi_brwt / 10**9,\n",
    "        marker='o', ms=4, label='RowDiff-MultiBRWT')\n",
    "\n",
    "# ax.plot(results.n_samples,\n",
    "#         (results.graph + results.anno_column) / 10**9,\n",
    "#         marker='o', ms=4, label='RowDiff (Graph + Column)', color=lines[0].get_color())\n",
    "\n",
    "#ax.set_title('RefSeq Fungi, k=31')\n",
    "ax.set_xlabel('Number of taxonomy IDs')\n",
    "ax.set_ylabel('Size, GB')\n",
    "#     ax.set_xlim([-1e9, 25e9])\n",
    "#ax.set_xticks(np.array(k_array))\n",
    "ax.grid(True)\n",
    "#     ax.legend(loc='best')\n",
    "\n",
    "legend = ax.legend(loc=\"best\", fontsize=9)\n",
    "#legend.get_frame().set_facecolor('none')\n",
    "# plt.ylim([-5, 110])\n",
    "# axes[1].set_ylim([-1e-1, 75])\n",
    "#plt.xscale('symlog')\n",
    "#plt.yscale('symlog')\n",
    "\n",
    "plt.tight_layout()\n",
    "plt.savefig('refseq_fungi_31_size.pdf', format='pdf', bbox_inches='tight')\n",
    "plt.show()"
   ]
  },
  {
   "cell_type": "code",
   "execution_count": 20,
   "metadata": {
    "ExecuteTime": {
     "end_time": "2021-03-29T16:55:34.830248Z",
     "start_time": "2021-03-29T16:55:34.799190Z"
    }
   },
   "outputs": [
    {
     "data": {
      "text/html": [
       "<div>\n",
       "<style scoped>\n",
       "    .dataframe tbody tr th:only-of-type {\n",
       "        vertical-align: middle;\n",
       "    }\n",
       "\n",
       "    .dataframe tbody tr th {\n",
       "        vertical-align: top;\n",
       "    }\n",
       "\n",
       "    .dataframe thead th {\n",
       "        text-align: right;\n",
       "    }\n",
       "</style>\n",
       "<table border=\"1\" class=\"dataframe\">\n",
       "  <thead>\n",
       "    <tr style=\"text-align: right;\">\n",
       "      <th></th>\n",
       "      <th>n_samples</th>\n",
       "      <th>column_compressed</th>\n",
       "      <th>multi_brwt</th>\n",
       "      <th>rd_optimized_100</th>\n",
       "      <th>rd_optimized_100_anchors</th>\n",
       "      <th>rd_optimized_100_row_sparse</th>\n",
       "      <th>rd_optimized_100_multi_brwt</th>\n",
       "      <th>assignment_vector</th>\n",
       "      <th>mst</th>\n",
       "      <th>Mantis-MST</th>\n",
       "    </tr>\n",
       "  </thead>\n",
       "  <tbody>\n",
       "    <tr>\n",
       "      <th>0</th>\n",
       "      <td>1570</td>\n",
       "      <td>664546316</td>\n",
       "      <td>692783803</td>\n",
       "      <td>14354667</td>\n",
       "      <td>22849132</td>\n",
       "      <td>61032175</td>\n",
       "      <td>25168698</td>\n",
       "      <td>559366427</td>\n",
       "      <td>169874</td>\n",
       "      <td>559536301</td>\n",
       "    </tr>\n",
       "    <tr>\n",
       "      <th>1</th>\n",
       "      <td>3140</td>\n",
       "      <td>1834091316</td>\n",
       "      <td>2186505952</td>\n",
       "      <td>38411634</td>\n",
       "      <td>58915685</td>\n",
       "      <td>152798391</td>\n",
       "      <td>68006986</td>\n",
       "      <td>1753863675</td>\n",
       "      <td>562346</td>\n",
       "      <td>1754426021</td>\n",
       "    </tr>\n",
       "    <tr>\n",
       "      <th>2</th>\n",
       "      <td>4710</td>\n",
       "      <td>2998556522</td>\n",
       "      <td>3502463678</td>\n",
       "      <td>62795955</td>\n",
       "      <td>93088005</td>\n",
       "      <td>234710338</td>\n",
       "      <td>108632899</td>\n",
       "      <td>2781310035</td>\n",
       "      <td>1042594</td>\n",
       "      <td>2782352629</td>\n",
       "    </tr>\n",
       "    <tr>\n",
       "      <th>3</th>\n",
       "      <td>6280</td>\n",
       "      <td>4630617883</td>\n",
       "      <td>5966886537</td>\n",
       "      <td>102598844</td>\n",
       "      <td>147079829</td>\n",
       "      <td>380721810</td>\n",
       "      <td>174980905</td>\n",
       "      <td>4629853907</td>\n",
       "      <td>1957194</td>\n",
       "      <td>4631811101</td>\n",
       "    </tr>\n",
       "    <tr>\n",
       "      <th>4</th>\n",
       "      <td>7850</td>\n",
       "      <td>6628899267</td>\n",
       "      <td>7873790585</td>\n",
       "      <td>147662061</td>\n",
       "      <td>208159073</td>\n",
       "      <td>527489172</td>\n",
       "      <td>246932786</td>\n",
       "      <td>6282245131</td>\n",
       "      <td>2927506</td>\n",
       "      <td>6285172637</td>\n",
       "    </tr>\n",
       "    <tr>\n",
       "      <th>5</th>\n",
       "      <td>9420</td>\n",
       "      <td>8224861598</td>\n",
       "      <td>10248422679</td>\n",
       "      <td>187425543</td>\n",
       "      <td>260325675</td>\n",
       "      <td>666682297</td>\n",
       "      <td>312742338</td>\n",
       "      <td>8013484075</td>\n",
       "      <td>4164074</td>\n",
       "      <td>8017648149</td>\n",
       "    </tr>\n",
       "    <tr>\n",
       "      <th>6</th>\n",
       "      <td>10990</td>\n",
       "      <td>9640526736</td>\n",
       "      <td>12320762717</td>\n",
       "      <td>224724881</td>\n",
       "      <td>310035978</td>\n",
       "      <td>790031320</td>\n",
       "      <td>371743827</td>\n",
       "      <td>9613881579</td>\n",
       "      <td>5416650</td>\n",
       "      <td>9619298229</td>\n",
       "    </tr>\n",
       "    <tr>\n",
       "      <th>7</th>\n",
       "      <td>12561</td>\n",
       "      <td>11214466210</td>\n",
       "      <td>14879122080</td>\n",
       "      <td>265330340</td>\n",
       "      <td>361322532</td>\n",
       "      <td>928463816</td>\n",
       "      <td>430031423</td>\n",
       "      <td>11409517403</td>\n",
       "      <td>6989842</td>\n",
       "      <td>11416507245</td>\n",
       "    </tr>\n",
       "  </tbody>\n",
       "</table>\n",
       "</div>"
      ],
      "text/plain": [
       "   n_samples  column_compressed   multi_brwt  rd_optimized_100  \\\n",
       "0       1570          664546316    692783803          14354667   \n",
       "1       3140         1834091316   2186505952          38411634   \n",
       "2       4710         2998556522   3502463678          62795955   \n",
       "3       6280         4630617883   5966886537         102598844   \n",
       "4       7850         6628899267   7873790585         147662061   \n",
       "5       9420         8224861598  10248422679         187425543   \n",
       "6      10990         9640526736  12320762717         224724881   \n",
       "7      12561        11214466210  14879122080         265330340   \n",
       "\n",
       "   rd_optimized_100_anchors  rd_optimized_100_row_sparse  \\\n",
       "0                  22849132                     61032175   \n",
       "1                  58915685                    152798391   \n",
       "2                  93088005                    234710338   \n",
       "3                 147079829                    380721810   \n",
       "4                 208159073                    527489172   \n",
       "5                 260325675                    666682297   \n",
       "6                 310035978                    790031320   \n",
       "7                 361322532                    928463816   \n",
       "\n",
       "   rd_optimized_100_multi_brwt  assignment_vector      mst   Mantis-MST  \n",
       "0                     25168698          559366427   169874    559536301  \n",
       "1                     68006986         1753863675   562346   1754426021  \n",
       "2                    108632899         2781310035  1042594   2782352629  \n",
       "3                    174980905         4629853907  1957194   4631811101  \n",
       "4                    246932786         6282245131  2927506   6285172637  \n",
       "5                    312742338         8013484075  4164074   8017648149  \n",
       "6                    371743827         9613881579  5416650   9619298229  \n",
       "7                    430031423        11409517403  6989842  11416507245  "
      ]
     },
     "execution_count": 20,
     "metadata": {},
     "output_type": "execute_result"
    }
   ],
   "source": [
    "df = results.copy()\n",
    "del df['rb_brwt']\n",
    "df['Mantis-MST'] = df['assignment_vector'] + df['mst']\n",
    "df['rd_optimized_100_anchors'] += df['rd_optimized_100']\n",
    "df"
   ]
  },
  {
   "cell_type": "code",
   "execution_count": 21,
   "metadata": {
    "ExecuteTime": {
     "end_time": "2021-03-29T16:55:34.862003Z",
     "start_time": "2021-03-29T16:55:34.833065Z"
    }
   },
   "outputs": [
    {
     "name": "stdout",
     "output_type": "stream",
     "text": [
      "\\begin{tabular}{rrrrrrrrrr}\n",
      "\\toprule\n",
      " n\\_samples &  column\\_compressed &  multi\\_brwt &  rd\\_optimized\\_100 &  rd\\_optimized\\_100\\_anchors &  rd\\_optimized\\_100\\_row\\_sparse &  rd\\_optimized\\_100\\_multi\\_brwt &  assignment\\_vector &  mst &  Mantis-MST \\\\\n",
      "\\midrule\n",
      "      1570 &              664.5 &       692.8 &              14.4 &                      22.8 &                         61.0 &                         25.2 &              559.4 &  0.2 &       559.5 \\\\\n",
      "      3140 &             1834.1 &      2186.5 &              38.4 &                      58.9 &                        152.8 &                         68.0 &             1753.9 &  0.6 &      1754.4 \\\\\n",
      "      4710 &             2998.6 &      3502.5 &              62.8 &                      93.1 &                        234.7 &                        108.6 &             2781.3 &  1.0 &      2782.4 \\\\\n",
      "      6280 &             4630.6 &      5966.9 &             102.6 &                     147.1 &                        380.7 &                        175.0 &             4629.9 &  2.0 &      4631.8 \\\\\n",
      "      7850 &             6628.9 &      7873.8 &             147.7 &                     208.2 &                        527.5 &                        246.9 &             6282.2 &  2.9 &      6285.2 \\\\\n",
      "      9420 &             8224.9 &     10248.4 &             187.4 &                     260.3 &                        666.7 &                        312.7 &             8013.5 &  4.2 &      8017.6 \\\\\n",
      "     10990 &             9640.5 &     12320.8 &             224.7 &                     310.0 &                        790.0 &                        371.7 &             9613.9 &  5.4 &      9619.3 \\\\\n",
      "     12561 &            11214.5 &     14879.1 &             265.3 &                     361.3 &                        928.5 &                        430.0 &            11409.5 &  7.0 &     11416.5 \\\\\n",
      "\\bottomrule\n",
      "\\end{tabular}\n",
      "\n"
     ]
    }
   ],
   "source": [
    "df.iloc[:, 1:] /= 1e6\n",
    "print(df.to_latex(float_format=\"%.1f\", index=False))"
   ]
  },
  {
   "cell_type": "code",
   "execution_count": 22,
   "metadata": {
    "ExecuteTime": {
     "end_time": "2021-03-29T16:55:34.882016Z",
     "start_time": "2021-03-29T16:55:34.864281Z"
    }
   },
   "outputs": [
    {
     "data": {
      "text/plain": [
       "26.54807680182013"
      ]
     },
     "execution_count": 22,
     "metadata": {},
     "output_type": "execute_result"
    }
   ],
   "source": [
    "(results.assignment_vector + results.mst).iloc[-1] / results.rd_optimized_100_multi_brwt.iloc[-1]"
   ]
  },
  {
   "cell_type": "markdown",
   "metadata": {},
   "source": [
    "## Construction time"
   ]
  },
  {
   "cell_type": "code",
   "execution_count": 90,
   "metadata": {
    "ExecuteTime": {
     "end_time": "2021-01-29T14:13:23.956918Z",
     "start_time": "2021-01-29T14:13:23.680986Z"
    }
   },
   "outputs": [],
   "source": [
    "import re\n",
    "\n",
    "def parse_wall_time_from_logs(log_file):\n",
    "    try:\n",
    "        lines = !grep \"time (h:mm:ss or m:ss):\" $log_file\n",
    "        lines_exit = !grep \"Exit status:\" $log_file\n",
    "        assert(len(lines) == len(lines_exit))\n",
    "\n",
    "        query_time = 0\n",
    "        for line, line_exit in zip(lines, lines_exit):\n",
    "            if int(re.search('Exit status: ([0-9]*)', line_exit).group(1)) != 0:\n",
    "                continue\n",
    "\n",
    "            time_str = re.search('time \\(h:mm:ss or m:ss\\): ([0-9:\\.]*)', line).group(1)\n",
    "            for i, x in enumerate(time_str.split(':')[::-1]):\n",
    "                query_time += float(x) * 60**i\n",
    "\n",
    "        return query_time\n",
    "\n",
    "    except:\n",
    "         return np.nan"
   ]
  },
  {
   "cell_type": "markdown",
   "metadata": {},
   "source": [
    "### RNA-Seq (k=23)"
   ]
  },
  {
   "cell_type": "code",
   "execution_count": 91,
   "metadata": {
    "ExecuteTime": {
     "end_time": "2021-01-29T14:13:33.268213Z",
     "start_time": "2021-01-29T14:13:27.590940Z"
    }
   },
   "outputs": [],
   "source": [
    "DIR = '/cluster/home/mikhaika/metagenome/data/mantis/subsets/mtg'\n",
    "\n",
    "n_samples = []\n",
    "\n",
    "rd_optimized_10 = []\n",
    "rd_optimized_10_opt = []\n",
    "rd_optimized_100 = []\n",
    "rd_optimized_100_opt = []\n",
    "rd_optimized_100_multi_brwt = []\n",
    "rd_optimized_100_multi_brwt_relax = []\n",
    "\n",
    "for i in range(1, 11):\n",
    "    num_cols = !cat {DIR}/../{i}k.txt | wc -l\n",
    "    n_samples.append(int(num_cols[0]))\n",
    "\n",
    "#     rd_optimized_10.append(parse_wall_time_from_logs(f'{DIR}logs/graph_primary_subset_{i}k_rd_10.log'))\n",
    "#     rd_optimized_10_opt.append(parse_wall_time_from_logs(f'{DIR}logs/graph_primary_subset_{i}k_rd_10_opt.log'))\n",
    "    name = f'{DIR}/logs/rd_100d_{i}k_{72}t'\n",
    "    rd_optimized_100.append(parse_wall_time_from_logs(f'{name}.log'))\n",
    "    rd_optimized_100_opt.append(parse_wall_time_from_logs(f'{name}_opt.log'))\n",
    "    rd_optimized_100_multi_brwt.append(parse_wall_time_from_logs(f'{name}_multi_brwt.log'))\n",
    "    rd_optimized_100_multi_brwt_relax.append(parse_wall_time_from_logs(f'{name}_multi_brwt_relax.log'))"
   ]
  },
  {
   "cell_type": "code",
   "execution_count": 92,
   "metadata": {
    "ExecuteTime": {
     "end_time": "2021-01-29T14:13:34.641635Z",
     "start_time": "2021-01-29T14:13:34.604274Z"
    },
    "scrolled": true
   },
   "outputs": [
    {
     "data": {
      "text/html": [
       "<div>\n",
       "<style scoped>\n",
       "    .dataframe tbody tr th:only-of-type {\n",
       "        vertical-align: middle;\n",
       "    }\n",
       "\n",
       "    .dataframe tbody tr th {\n",
       "        vertical-align: top;\n",
       "    }\n",
       "\n",
       "    .dataframe thead th {\n",
       "        text-align: right;\n",
       "    }\n",
       "</style>\n",
       "<table border=\"1\" class=\"dataframe\">\n",
       "  <thead>\n",
       "    <tr style=\"text-align: right;\">\n",
       "      <th></th>\n",
       "      <th>n_samples</th>\n",
       "      <th>rd_optimized_100</th>\n",
       "      <th>rd_optimized_100_opt</th>\n",
       "      <th>rd_optimized_100_multi_brwt</th>\n",
       "      <th>rd_optimized_100_multi_brwt_relax</th>\n",
       "    </tr>\n",
       "  </thead>\n",
       "  <tbody>\n",
       "    <tr>\n",
       "      <th>0</th>\n",
       "      <td>1000</td>\n",
       "      <td>1252.86</td>\n",
       "      <td>280.18</td>\n",
       "      <td>177.11</td>\n",
       "      <td>148.16</td>\n",
       "    </tr>\n",
       "    <tr>\n",
       "      <th>1</th>\n",
       "      <td>2000</td>\n",
       "      <td>2085.63</td>\n",
       "      <td>547.03</td>\n",
       "      <td>331.94</td>\n",
       "      <td>304.64</td>\n",
       "    </tr>\n",
       "    <tr>\n",
       "      <th>2</th>\n",
       "      <td>3000</td>\n",
       "      <td>2996.94</td>\n",
       "      <td>730.49</td>\n",
       "      <td>471.33</td>\n",
       "      <td>484.69</td>\n",
       "    </tr>\n",
       "    <tr>\n",
       "      <th>3</th>\n",
       "      <td>4000</td>\n",
       "      <td>4239.00</td>\n",
       "      <td>1176.69</td>\n",
       "      <td>659.86</td>\n",
       "      <td>684.11</td>\n",
       "    </tr>\n",
       "    <tr>\n",
       "      <th>4</th>\n",
       "      <td>5000</td>\n",
       "      <td>4739.00</td>\n",
       "      <td>1411.18</td>\n",
       "      <td>844.31</td>\n",
       "      <td>892.80</td>\n",
       "    </tr>\n",
       "    <tr>\n",
       "      <th>5</th>\n",
       "      <td>6000</td>\n",
       "      <td>6001.00</td>\n",
       "      <td>1730.32</td>\n",
       "      <td>1036.18</td>\n",
       "      <td>1012.31</td>\n",
       "    </tr>\n",
       "    <tr>\n",
       "      <th>6</th>\n",
       "      <td>7000</td>\n",
       "      <td>6298.00</td>\n",
       "      <td>2000.42</td>\n",
       "      <td>1190.99</td>\n",
       "      <td>1247.11</td>\n",
       "    </tr>\n",
       "    <tr>\n",
       "      <th>7</th>\n",
       "      <td>8000</td>\n",
       "      <td>7108.00</td>\n",
       "      <td>1946.85</td>\n",
       "      <td>1310.07</td>\n",
       "      <td>1412.95</td>\n",
       "    </tr>\n",
       "    <tr>\n",
       "      <th>8</th>\n",
       "      <td>9000</td>\n",
       "      <td>8082.00</td>\n",
       "      <td>2469.17</td>\n",
       "      <td>1522.71</td>\n",
       "      <td>1685.61</td>\n",
       "    </tr>\n",
       "    <tr>\n",
       "      <th>9</th>\n",
       "      <td>9998</td>\n",
       "      <td>8995.00</td>\n",
       "      <td>2767.59</td>\n",
       "      <td>1773.54</td>\n",
       "      <td>1901.52</td>\n",
       "    </tr>\n",
       "  </tbody>\n",
       "</table>\n",
       "</div>"
      ],
      "text/plain": [
       "   n_samples  rd_optimized_100  rd_optimized_100_opt  \\\n",
       "0       1000           1252.86                280.18   \n",
       "1       2000           2085.63                547.03   \n",
       "2       3000           2996.94                730.49   \n",
       "3       4000           4239.00               1176.69   \n",
       "4       5000           4739.00               1411.18   \n",
       "5       6000           6001.00               1730.32   \n",
       "6       7000           6298.00               2000.42   \n",
       "7       8000           7108.00               1946.85   \n",
       "8       9000           8082.00               2469.17   \n",
       "9       9998           8995.00               2767.59   \n",
       "\n",
       "   rd_optimized_100_multi_brwt  rd_optimized_100_multi_brwt_relax  \n",
       "0                       177.11                             148.16  \n",
       "1                       331.94                             304.64  \n",
       "2                       471.33                             484.69  \n",
       "3                       659.86                             684.11  \n",
       "4                       844.31                             892.80  \n",
       "5                      1036.18                            1012.31  \n",
       "6                      1190.99                            1247.11  \n",
       "7                      1310.07                            1412.95  \n",
       "8                      1522.71                            1685.61  \n",
       "9                      1773.54                            1901.52  "
      ]
     },
     "execution_count": 92,
     "metadata": {},
     "output_type": "execute_result"
    }
   ],
   "source": [
    "results = pd.DataFrame(columns=['n_samples',\n",
    "                                'rd_optimized_100', 'rd_optimized_100_opt',\n",
    "                                'rd_optimized_100_multi_brwt', 'rd_optimized_100_multi_brwt_relax'],\n",
    "                       data=zip(n_samples,\n",
    "                                rd_optimized_100, rd_optimized_100_opt,\n",
    "                                rd_optimized_100_multi_brwt, rd_optimized_100_multi_brwt_relax))\n",
    "results"
   ]
  },
  {
   "cell_type": "code",
   "execution_count": 93,
   "metadata": {
    "ExecuteTime": {
     "end_time": "2021-01-29T14:14:03.177515Z",
     "start_time": "2021-01-29T14:14:02.417818Z"
    }
   },
   "outputs": [
    {
     "data": {
      "image/png": "[encoded data removed]",
      "text/plain": [
       "<Figure size 376.596x232.754 with 1 Axes>"
      ]
     },
     "metadata": {
      "needs_background": "light"
     },
     "output_type": "display_data"
    }
   ],
   "source": [
    "width = 3.487 * 1.5\n",
    "height = width / 1.618\n",
    "\n",
    "fig, axes = plt.subplots(1, 1, figsize=(width, height))\n",
    "#ax.set_title('RefSeq assembly graph')\n",
    "\n",
    "# results.sort_values('num_kmers', inplace=True)\n",
    "\n",
    "# colors = ['c', 'b', 'g', 'r']\n",
    "\n",
    "ax = axes\n",
    "\n",
    "# lines = ax.plot(results.n_samples, results.rb_brwt / 10**9,\n",
    "#                 marker='o', ms=4, label='Rainbow-BRWT')\n",
    "\n",
    "# ax.plot(results.n_samples, results.column_compressed / 10**9,\n",
    "#         marker='o', ms=4, label='ColumnCompressed')\n",
    "\n",
    "# ax.plot(results.n_samples, (results.rd_optimized_10) / 60,\n",
    "#         marker='o', ms=4, label='RowDiff(10)-ColumnCompressed, unopt')\n",
    "\n",
    "mantis_nsamples = [1000, 2000, 3000, 4000, 5000, 6000, 7000, 8000, 9000, 10000]\n",
    "\n",
    "# 16 threads\n",
    "# mantis_time = [(18*60)+53.60,\n",
    "#                 (55*60)+33.28,\n",
    "#                 (((1*60)+20)*60)+34,\n",
    "#                 (((2*60)+2)*60)+23,\n",
    "#                 (((2*60)+47)*60)+52,\n",
    "#                 (((3*60)+37)*60)+52,\n",
    "#                 (((4*60)+31)*60)+12,\n",
    "#                 (((6*60)+24)*60)+33,\n",
    "#                 (((6*60)+43)*60)+0,\n",
    "#                 (((7*60)+54)*60)+47]\n",
    "\n",
    "# 72 threads\n",
    "mantis_time = [(0*60+10)*60+21.96,\n",
    "                (0*60+31)*60+2.53,\n",
    "                (0*60+45)*60+6.39,\n",
    "                (1*60+5)*60+37,\n",
    "                (1*60+33)*60+29,\n",
    "                (2*60+5)*60+4,\n",
    "                (2*60+44)*60+6,\n",
    "                (3*60+28)*60+18,\n",
    "                (4*60+32)*60+0,\n",
    "                (5*60+41)*60+10]\n",
    "\n",
    "paper_mantis_nsamples = [200, 500, 1000, 2000, 5000, 10000]\n",
    "paper_mantis_time = [342,\n",
    "              12 * 60 + 15,\n",
    "              25 * 50 + 3,\n",
    "              51 * 60 + 58,\n",
    "              (3*60 + 52) * 60 + 34,\n",
    "              (10*60 + 17) * 60 + 42]\n",
    "\n",
    "# lines = ax.plot(paper_mantis_nsamples, np.array(paper_mantis_time) / 60,\n",
    "#         marker='o', ms=4, label='Rainbow-MST (MST only) reported', linestyle=':')\n",
    "\n",
    "ax.plot(mantis_nsamples, np.array(mantis_time) / 60,\n",
    "        marker='o', ms=4, label='Rainbow-MST (MST only)')\n",
    "\n",
    "# ax.plot(results.n_samples, (results.rd_optimized_10 + results.rd_optimized_10_opt) / 60,\n",
    "#         marker='o', ms=4, label='RowDiff(10)-ColumnCompressed')\n",
    "\n",
    "# ax.plot(results.n_samples, (results.rd_optimized_100) / 60,\n",
    "#         marker='o', ms=4, label='RowDiff(100)-ColumnCompressed, unopt')\n",
    "\n",
    "ax.plot([], [])\n",
    "ax.plot([], [])\n",
    "ax.plot([], [])\n",
    "\n",
    "ax.plot(results.n_samples, (results.rd_optimized_100\n",
    "                            + results.rd_optimized_100_opt\n",
    "                            + results.rd_optimized_100_multi_brwt\n",
    "                            + results.rd_optimized_100_multi_brwt_relax) / 60,\n",
    "        marker='o', ms=4, label='RowDiff-MultiBRWT')\n",
    "\n",
    "\n",
    "# ax.plot(results.n_samples,\n",
    "#         (results.graph + results.anno_column) / 10**9,\n",
    "#         marker='o', ms=4, label='RowDiff (Graph + Column)', color=lines[0].get_color())\n",
    "\n",
    "#ax.set_title('10k RNA-Seq samples: construction on 15 cores')\n",
    "ax.set_xlabel('Annotation columns')\n",
    "ax.set_ylabel('Construction time, min')\n",
    "#     ax.set_xlim([-1e9, 25e9])\n",
    "#ax.set_xticks(np.array(k_array))\n",
    "ax.grid(True)\n",
    "#     ax.legend(loc='best')\n",
    "\n",
    "legend = ax.legend(loc=\"best\", fontsize=10)\n",
    "#legend.get_frame().set_facecolor('none')\n",
    "# plt.ylim([-5, 110])\n",
    "# axes[1].set_ylim([-1e-1, 75])\n",
    "#plt.xscale('symlog')\n",
    "#plt.yscale('symlog')\n",
    "\n",
    "plt.tight_layout()\n",
    "plt.savefig('rnaseq_23_construction.pdf', format='pdf', bbox_inches='tight')\n",
    "plt.show()"
   ]
  },
  {
   "cell_type": "markdown",
   "metadata": {},
   "source": [
    "### RNA-Seq (k=31, unitig cleaning)"
   ]
  },
  {
   "cell_type": "code",
   "execution_count": 688,
   "metadata": {
    "ExecuteTime": {
     "end_time": "2020-11-06T20:03:07.590923Z",
     "start_time": "2020-11-06T20:03:01.040150Z"
    }
   },
   "outputs": [],
   "source": [
    "DIR = '/cluster/home/mikhaika/metagenome/data/mantis/subsets/clean_rnaseq/mtg/'\n",
    "\n",
    "n_samples = []\n",
    "\n",
    "rd_optimized_10 = []\n",
    "rd_optimized_10_opt = []\n",
    "rd_optimized_100 = []\n",
    "rd_optimized_100_opt = []\n",
    "rd_optimized_100_multi_brwt = []\n",
    "rd_optimized_100_multi_brwt_relax = []\n",
    "\n",
    "for i in range(1, 11):\n",
    "    num_cols = !cat {DIR}../clean_{i}k.txt | wc -l\n",
    "    n_samples.append(int(num_cols[0]))\n",
    "\n",
    "#     rd_optimized_10.append(parse_wall_time_from_logs(f'{DIR}logs/graph_primary_subset_{i}k_rd_10.log'))\n",
    "#     rd_optimized_10_opt.append(parse_wall_time_from_logs(f'{DIR}logs/graph_primary_subset_{i}k_rd_10_opt.log'))\n",
    "    rd_optimized_100.append(parse_wall_time_from_logs(f'{DIR}logs/clean_primary_subset_{i}k_rd_100.log'))\n",
    "    rd_optimized_100_opt.append(parse_wall_time_from_logs(f'{DIR}logs/clean_primary_subset_{i}k_rd_100_opt.log'))\n",
    "    rd_optimized_100_multi_brwt.append(parse_wall_time_from_logs(f'{DIR}logs/clean_primary_subset_{i}k_rd_100_multi_brwt.log'))\n",
    "    rd_optimized_100_multi_brwt_relax.append(parse_wall_time_from_logs(f'{DIR}logs/clean_primary_subset_{i}k_rd_100_multi_brwt_relax.log'))"
   ]
  },
  {
   "cell_type": "code",
   "execution_count": 689,
   "metadata": {
    "ExecuteTime": {
     "end_time": "2020-11-06T20:03:07.620650Z",
     "start_time": "2020-11-06T20:03:07.593991Z"
    },
    "scrolled": true
   },
   "outputs": [
    {
     "data": {
      "text/html": [
       "<div>\n",
       "<style scoped>\n",
       "    .dataframe tbody tr th:only-of-type {\n",
       "        vertical-align: middle;\n",
       "    }\n",
       "\n",
       "    .dataframe tbody tr th {\n",
       "        vertical-align: top;\n",
       "    }\n",
       "\n",
       "    .dataframe thead th {\n",
       "        text-align: right;\n",
       "    }\n",
       "</style>\n",
       "<table border=\"1\" class=\"dataframe\">\n",
       "  <thead>\n",
       "    <tr style=\"text-align: right;\">\n",
       "      <th></th>\n",
       "      <th>n_samples</th>\n",
       "      <th>rd_optimized_100</th>\n",
       "      <th>rd_optimized_100_opt</th>\n",
       "      <th>rd_multi_brwt</th>\n",
       "      <th>rd_multi_brwt_relax</th>\n",
       "    </tr>\n",
       "  </thead>\n",
       "  <tbody>\n",
       "    <tr>\n",
       "      <th>0</th>\n",
       "      <td>1000</td>\n",
       "      <td>640.32</td>\n",
       "      <td>326.20</td>\n",
       "      <td>83.61</td>\n",
       "      <td>85.77</td>\n",
       "    </tr>\n",
       "    <tr>\n",
       "      <th>1</th>\n",
       "      <td>2000</td>\n",
       "      <td>1332.22</td>\n",
       "      <td>621.66</td>\n",
       "      <td>177.41</td>\n",
       "      <td>194.47</td>\n",
       "    </tr>\n",
       "    <tr>\n",
       "      <th>2</th>\n",
       "      <td>3000</td>\n",
       "      <td>1639.30</td>\n",
       "      <td>811.28</td>\n",
       "      <td>281.14</td>\n",
       "      <td>319.64</td>\n",
       "    </tr>\n",
       "    <tr>\n",
       "      <th>3</th>\n",
       "      <td>4000</td>\n",
       "      <td>2334.66</td>\n",
       "      <td>1029.08</td>\n",
       "      <td>414.19</td>\n",
       "      <td>464.51</td>\n",
       "    </tr>\n",
       "    <tr>\n",
       "      <th>4</th>\n",
       "      <td>5000</td>\n",
       "      <td>2904.19</td>\n",
       "      <td>1280.12</td>\n",
       "      <td>550.45</td>\n",
       "      <td>586.43</td>\n",
       "    </tr>\n",
       "    <tr>\n",
       "      <th>5</th>\n",
       "      <td>6000</td>\n",
       "      <td>3394.73</td>\n",
       "      <td>1590.16</td>\n",
       "      <td>682.78</td>\n",
       "      <td>723.60</td>\n",
       "    </tr>\n",
       "    <tr>\n",
       "      <th>6</th>\n",
       "      <td>7000</td>\n",
       "      <td>3703.00</td>\n",
       "      <td>1820.60</td>\n",
       "      <td>798.27</td>\n",
       "      <td>870.75</td>\n",
       "    </tr>\n",
       "    <tr>\n",
       "      <th>7</th>\n",
       "      <td>8000</td>\n",
       "      <td>4217.00</td>\n",
       "      <td>2114.40</td>\n",
       "      <td>1088.18</td>\n",
       "      <td>1017.22</td>\n",
       "    </tr>\n",
       "    <tr>\n",
       "      <th>8</th>\n",
       "      <td>9000</td>\n",
       "      <td>4866.00</td>\n",
       "      <td>2475.00</td>\n",
       "      <td>1247.44</td>\n",
       "      <td>1149.31</td>\n",
       "    </tr>\n",
       "    <tr>\n",
       "      <th>9</th>\n",
       "      <td>9937</td>\n",
       "      <td>5136.00</td>\n",
       "      <td>2760.29</td>\n",
       "      <td>1311.76</td>\n",
       "      <td>1293.35</td>\n",
       "    </tr>\n",
       "  </tbody>\n",
       "</table>\n",
       "</div>"
      ],
      "text/plain": [
       "   n_samples  rd_optimized_100  rd_optimized_100_opt  rd_multi_brwt  \\\n",
       "0       1000            640.32                326.20          83.61   \n",
       "1       2000           1332.22                621.66         177.41   \n",
       "2       3000           1639.30                811.28         281.14   \n",
       "3       4000           2334.66               1029.08         414.19   \n",
       "4       5000           2904.19               1280.12         550.45   \n",
       "5       6000           3394.73               1590.16         682.78   \n",
       "6       7000           3703.00               1820.60         798.27   \n",
       "7       8000           4217.00               2114.40        1088.18   \n",
       "8       9000           4866.00               2475.00        1247.44   \n",
       "9       9937           5136.00               2760.29        1311.76   \n",
       "\n",
       "   rd_multi_brwt_relax  \n",
       "0                85.77  \n",
       "1               194.47  \n",
       "2               319.64  \n",
       "3               464.51  \n",
       "4               586.43  \n",
       "5               723.60  \n",
       "6               870.75  \n",
       "7              1017.22  \n",
       "8              1149.31  \n",
       "9              1293.35  "
      ]
     },
     "execution_count": 689,
     "metadata": {},
     "output_type": "execute_result"
    }
   ],
   "source": [
    "results = pd.DataFrame(columns=['n_samples',\n",
    "                                'rd_optimized_100', 'rd_optimized_100_opt',\n",
    "                                'rd_multi_brwt', 'rd_multi_brwt_relax'],\n",
    "                       data=zip(n_samples,\n",
    "                                rd_optimized_100, rd_optimized_100_opt,\n",
    "                                rd_optimized_100_multi_brwt,\n",
    "                                rd_optimized_100_multi_brwt_relax))\n",
    "results"
   ]
  },
  {
   "cell_type": "code",
   "execution_count": 691,
   "metadata": {
    "ExecuteTime": {
     "end_time": "2020-11-06T20:03:44.482169Z",
     "start_time": "2020-11-06T20:03:43.975643Z"
    }
   },
   "outputs": [
    {
     "data": {
      "image/png": "[encoded data removed]",
      "text/plain": [
       "<Figure size 376.596x232.754 with 1 Axes>"
      ]
     },
     "metadata": {
      "needs_background": "light"
     },
     "output_type": "display_data"
    }
   ],
   "source": [
    "width = 3.487 * 1.5\n",
    "height = width / 1.618\n",
    "\n",
    "fig, axes = plt.subplots(1, 1, figsize=(width, height))\n",
    "#ax.set_title('RefSeq assembly graph')\n",
    "\n",
    "# results.sort_values('num_kmers', inplace=True)\n",
    "\n",
    "# colors = ['c', 'b', 'g', 'r']\n",
    "\n",
    "ax = axes\n",
    "\n",
    "# lines = ax.plot(results.n_samples, results.rb_brwt / 10**9,\n",
    "#                 marker='o', ms=4, label='Rainbow-BRWT')\n",
    "\n",
    "# ax.plot(results.n_samples, results.column_compressed / 10**9,\n",
    "#         marker='o', ms=4, label='ColumnCompressed')\n",
    "\n",
    "# ax.plot(results.n_samples, (results.rd_optimized_10) / 60,\n",
    "#         marker='o', ms=4, label='RowDiff(10)-ColumnCompressed, unopt')\n",
    "\n",
    "mantis_nsamples = [1000, 2000, 3000, 4000]\n",
    "mantis_time = [24*60 + 35.96,\n",
    "              38*60 + 11.94,\n",
    "              54*60 + 41.24,\n",
    "              2*60*60 + 20 * 60 + 29]\n",
    "\n",
    "ax.plot(mantis_nsamples, np.array(mantis_time) / 60,\n",
    "        marker='o', ms=4, label='Rainbow-MST (MST only)')\n",
    "\n",
    "# ax.plot(results.n_samples, (results.rd_optimized_10 + results.rd_optimized_10_opt) / 60,\n",
    "#         marker='o', ms=4, label='RowDiff(10)-ColumnCompressed')\n",
    "\n",
    "# ax.plot(results.n_samples, (results.rd_optimized_100) / 60,\n",
    "#         marker='o', ms=4, label='RowDiff(100)-ColumnCompressed, unopt')\n",
    "\n",
    "\n",
    "ax.plot([], [])\n",
    "ax.plot([], [])\n",
    "ax.plot([], [])\n",
    "\n",
    "ax.plot(results.n_samples, (results.rd_optimized_100\n",
    "                            + results.rd_optimized_100_opt\n",
    "                            + results.rd_multi_brwt\n",
    "                            + results.rd_multi_brwt_relax) / 60,\n",
    "        marker='o', ms=4, label='RowDiff-MultiBRWT')\n",
    "\n",
    "\n",
    "# ax.plot(results.n_samples,\n",
    "#         (results.graph + results.anno_column) / 10**9,\n",
    "#         marker='o', ms=4, label='RowDiff (Graph + Column)', color=lines[0].get_color())\n",
    "\n",
    "#ax.set_title('10k RNA-Seq: construction on 15 cores')\n",
    "ax.set_xlabel('Number of annotation columns')\n",
    "ax.set_ylabel('Time, min')\n",
    "#     ax.set_xlim([-1e9, 25e9])\n",
    "#ax.set_xticks(np.array(k_array))\n",
    "ax.grid(True)\n",
    "#     ax.legend(loc='best')\n",
    "\n",
    "legend = ax.legend(loc=\"best\", fontsize=10)\n",
    "#legend.get_frame().set_facecolor('none')\n",
    "# plt.ylim([-5, 110])\n",
    "# axes[1].set_ylim([-1e-1, 75])\n",
    "#plt.xscale('symlog')\n",
    "#plt.yscale('symlog')\n",
    "\n",
    "plt.tight_layout()\n",
    "plt.savefig('rnaseq_31_construction.pdf', format='pdf', bbox_inches='tight')\n",
    "plt.show()"
   ]
  },
  {
   "cell_type": "markdown",
   "metadata": {},
   "source": [
    "## Query time"
   ]
  },
  {
   "cell_type": "code",
   "execution_count": 151,
   "metadata": {
    "ExecuteTime": {
     "end_time": "2021-03-26T13:50:22.840846Z",
     "start_time": "2021-03-26T13:50:22.427397Z"
    }
   },
   "outputs": [
    {
     "name": "stdout",
     "output_type": "stream",
     "text": [
      "/cluster/home/mikhaika/metagenome/data/row_diff/query/brwt_relaxed_10k.brwt.annodbg_transcripts_1000.fa.log\r\n",
      "/cluster/home/mikhaika/metagenome/data/row_diff/query/brwt_relaxed_10k.brwt.annodbg_transcripts_100.fa.log\r\n",
      "/cluster/home/mikhaika/metagenome/data/row_diff/query/rd_100d_10k_72t_relaxed.row_diff_brwt.annodbg_transcripts_1000.fa.log\r\n",
      "/cluster/home/mikhaika/metagenome/data/row_diff/query/rd_100d_10k_72t_relaxed.row_diff_brwt.annodbg_transcripts_100.fa.log\r\n",
      "/cluster/home/mikhaika/metagenome/data/row_diff/query/rd_100d_10k_72t.row_diff_sparse.annodbg_transcripts_1000.fa.log\r\n",
      "/cluster/home/mikhaika/metagenome/data/row_diff/query/rd_100d_10k_72t.row_diff_sparse.annodbg_transcripts_100.fa.log\r\n",
      "/cluster/home/mikhaika/metagenome/data/row_diff/query/rd_10d_10k_72t_relaxed.row_diff_brwt.annodbg_transcripts_1000.fa.log\r\n",
      "/cluster/home/mikhaika/metagenome/data/row_diff/query/rd_10d_10k_72t_relaxed.row_diff_brwt.annodbg_transcripts_100.fa.log\r\n",
      "/cluster/home/mikhaika/metagenome/data/row_diff/query/rd_10d_10k_72t.row_diff_sparse.annodbg_transcripts_1000.fa.log\r\n",
      "/cluster/home/mikhaika/metagenome/data/row_diff/query/rd_10d_10k_72t.row_diff_sparse.annodbg_transcripts_100.fa.log\r\n",
      "/cluster/home/mikhaika/metagenome/data/row_diff/query/rd_25d_10k_72t_relaxed.row_diff_brwt.annodbg_transcripts_1000.fa.log\r\n",
      "/cluster/home/mikhaika/metagenome/data/row_diff/query/rd_25d_10k_72t_relaxed.row_diff_brwt.annodbg_transcripts_100.fa.log\r\n",
      "/cluster/home/mikhaika/metagenome/data/row_diff/query/rd_25d_10k_72t.row_diff_sparse.annodbg_transcripts_1000.fa.log\r\n",
      "/cluster/home/mikhaika/metagenome/data/row_diff/query/rd_25d_10k_72t.row_diff_sparse.annodbg_transcripts_100.fa.log\r\n",
      "/cluster/home/mikhaika/metagenome/data/row_diff/query/rd_50d_10k_72t_relaxed.row_diff_brwt.annodbg_transcripts_1000.fa.log\r\n",
      "/cluster/home/mikhaika/metagenome/data/row_diff/query/rd_50d_10k_72t_relaxed.row_diff_brwt.annodbg_transcripts_100.fa.log\r\n",
      "/cluster/home/mikhaika/metagenome/data/row_diff/query/rd_50d_10k_72t.row_diff_sparse.annodbg_transcripts_1000.fa.log\r\n",
      "/cluster/home/mikhaika/metagenome/data/row_diff/query/rd_50d_10k_72t.row_diff_sparse.annodbg_transcripts_100.fa.log\r\n",
      "/cluster/home/mikhaika/metagenome/data/row_diff/query/rd_75d_10k_72t_relaxed.row_diff_brwt.annodbg_transcripts_1000.fa.log\r\n",
      "/cluster/home/mikhaika/metagenome/data/row_diff/query/rd_75d_10k_72t_relaxed.row_diff_brwt.annodbg_transcripts_100.fa.log\r\n",
      "/cluster/home/mikhaika/metagenome/data/row_diff/query/rd_75d_10k_72t.row_diff_sparse.annodbg_transcripts_1000.fa.log\r\n",
      "/cluster/home/mikhaika/metagenome/data/row_diff/query/rd_75d_10k_72t.row_diff_sparse.annodbg_transcripts_100.fa.log\r\n"
     ]
    }
   ],
   "source": [
    "!ls ~/metagenome/data/row_diff/query/*.log | sort"
   ]
  },
  {
   "cell_type": "code",
   "execution_count": 242,
   "metadata": {
    "ExecuteTime": {
     "end_time": "2021-03-26T14:43:58.112417Z",
     "start_time": "2021-03-26T14:43:57.712111Z"
    }
   },
   "outputs": [
    {
     "data": {
      "text/plain": [
       "[nan, 8.28067594, 9.206415458, 8.401502338, 9.867869846, 8.34369484]"
      ]
     },
     "execution_count": 242,
     "metadata": {},
     "output_type": "execute_result"
    }
   ],
   "source": [
    "DIR = '/cluster/home/mikhaika/metagenome/data/row_diff/query'\n",
    "\n",
    "def get_traversal_time(log_file):\n",
    "    line = !grep 'Traversed row-diff paths and reached anchors' {log_file}\n",
    "    assert(len(line) == 1)\n",
    "    return float(str(line).split(' ')[-2])\n",
    "\n",
    "def get_query_time(log_file):\n",
    "    line = !grep 'Query annotation with' {log_file}\n",
    "    assert(len(line) == 1)\n",
    "    return float(str(line).split(' ')[-2])\n",
    "\n",
    "query = 'transcripts_100.fa'\n",
    "\n",
    "ds = [0, 10, 25, 50, 75, 100]\n",
    "rd_rowsparse = [np.nan]\n",
    "rd_rowsparse_traversal = [0]\n",
    "rd_multibrwt = [get_query_time(DIR + f'/brwt_relaxed_10k.brwt.annodbg_{query}.log')]\n",
    "rd_multibrwt_traversal = [0]\n",
    "\n",
    "for d in ds[1:]:\n",
    "    rd_rowsparse.append(get_query_time(DIR + f'/rd_{d}d_10k_72t.row_diff_sparse.annodbg_{query}.log'))\n",
    "    rd_multibrwt.append(get_query_time(DIR + f'/rd_{d}d_10k_72t_relaxed.row_diff_brwt.annodbg_{query}.log'))\n",
    "    rd_rowsparse_traversal.append(get_traversal_time(DIR + f'/rd_{d}d_10k_72t.row_diff_sparse.annodbg_{query}.log'))\n",
    "    rd_multibrwt_traversal.append(get_traversal_time(DIR + f'/rd_{d}d_10k_72t_relaxed.row_diff_brwt.annodbg_{query}.log'))\n",
    "    \n",
    "rd_rowsparse"
   ]
  },
  {
   "cell_type": "code",
   "execution_count": 243,
   "metadata": {
    "ExecuteTime": {
     "end_time": "2021-03-26T14:43:59.835471Z",
     "start_time": "2021-03-26T14:43:59.291940Z"
    }
   },
   "outputs": [
    {
     "data": {
      "image/png": "[encoded data removed]",
      "text/plain": [
       "<Figure size 376.596x232.754 with 1 Axes>"
      ]
     },
     "metadata": {
      "needs_background": "light"
     },
     "output_type": "display_data"
    }
   ],
   "source": [
    "width = 3.487 * 1.5\n",
    "height = width / 1.618\n",
    "\n",
    "fig, axes = plt.subplots(1, 1, figsize=(width, height))\n",
    "ax = axes\n",
    "\n",
    "ax.plot(ds, rd_rowsparse, marker='o', ms=4, c='#d62728', label='RowDiff-RowSparse')\n",
    "ax.plot(ds, rd_multibrwt, marker='o', ms=4, c='#9467bd', label='RowDiff-MultiBRWT')\n",
    "ax.plot(ds, rd_multibrwt_traversal, marker='o', ms=4, c='black', linestyle=':', label='RowDiff (path traversal time)')\n",
    "#ax.plot(ds, rd_multibrwt_traversal, marker='o', c='#9467bd', ms=4, label='RowDiff-MultiBRWT-traversal')\n",
    "ax.set_xlabel('RowDiff path length $M$')\n",
    "ax.set_ylabel('Query time, sec')\n",
    "ax.grid(True)\n",
    "legend = ax.legend(loc=\"best\", fontsize=10)\n",
    "plt.tight_layout()\n",
    "plt.savefig('query_time_vs_path_length_100.pdf', format='pdf', bbox_inches='tight')\n",
    "plt.show()"
   ]
  },
  {
   "cell_type": "code",
   "execution_count": 244,
   "metadata": {
    "ExecuteTime": {
     "end_time": "2021-03-26T14:44:02.167561Z",
     "start_time": "2021-03-26T14:44:01.687902Z"
    }
   },
   "outputs": [
    {
     "data": {
      "image/png": "[encoded data removed]",
      "text/plain": [
       "<Figure size 376.596x232.754 with 1 Axes>"
      ]
     },
     "metadata": {
      "needs_background": "light"
     },
     "output_type": "display_data"
    }
   ],
   "source": [
    "fig, axes = plt.subplots(1, 1, figsize=(width, height))\n",
    "ax = axes\n",
    "\n",
    "#ax.plot(ds, rd_rowsparse, marker='o', ms=4, c='#d62728', label='RowDiff-RowSparse')\n",
    "#ax.plot(ds, rd_multibrwt, marker='o', ms=4, c='#9467bd', label='RowDiff-MultiBRWT')\n",
    "ax.plot(ds, rd_multibrwt_traversal, marker='o', ms=4, c='black', linestyle=':', label='RowDiff (path traversal time)')\n",
    "#ax.plot(ds, rd_multibrwt_traversal, marker='o', c='#9467bd', ms=4, label='RowDiff-MultiBRWT-traversal')\n",
    "ax.set_xlabel('RowDiff path length $M$')\n",
    "ax.set_ylabel('Query time, sec')\n",
    "ax.grid(True)\n",
    "legend = ax.legend(loc=\"best\", fontsize=10)\n",
    "plt.tight_layout()\n",
    "plt.savefig('query_time_vs_path_length_100_traversal.pdf', format='pdf', bbox_inches='tight')\n",
    "plt.show()"
   ]
  },
  {
   "cell_type": "markdown",
   "metadata": {},
   "source": [
    "## Column reduction"
   ]
  },
  {
   "cell_type": "code",
   "execution_count": 34,
   "metadata": {
    "ExecuteTime": {
     "end_time": "2021-03-29T16:27:30.201309Z",
     "start_time": "2021-03-29T16:27:30.175351Z"
    }
   },
   "outputs": [],
   "source": [
    "def get_reductions(rd_path, cols_path):\n",
    "    for entry in os.scandir(os.path.abspath(cols_path)):\n",
    "        extension = '.column.annodbg'\n",
    "        if entry.path.endswith(extension):\n",
    "            size = entry.stat(follow_symlinks=False).st_size\n",
    "            col = entry.path.split('/')[-1][:-len(extension)]\n",
    "            rd_size = os.path.getsize(f'{rd_path}/{col}.row_diff.annodbg')\n",
    "        yield rd_size, size"
   ]
  },
  {
   "cell_type": "code",
   "execution_count": 72,
   "metadata": {
    "ExecuteTime": {
     "end_time": "2021-03-25T11:07:44.425685Z",
     "start_time": "2021-03-25T11:07:43.391994Z"
    }
   },
   "outputs": [
    {
     "data": {
      "image/png": "[encoded data removed]",
      "text/plain": [
       "<Figure size 298.766x184.652 with 1 Axes>"
      ]
     },
     "metadata": {
      "needs_background": "light"
     },
     "output_type": "display_data"
    }
   ],
   "source": [
    "width = 3.487 * 1.19\n",
    "height = width / 1.618\n",
    "\n",
    "fig, axes = plt.subplots(1, 1, figsize=(width, height))\n",
    "\n",
    "R = np.array(list(get_reductions('/cluster/home/mikhaika/metagenome/data/row_diff/subsets/clean_rnaseq/nobackup/mtg/rd_100_10k',\n",
    "                                 '/cluster/home/mikhaika/metagenome/data/row_diff/subsets/clean_rnaseq/nobackup/mtg/cols_10k')))\n",
    "#plt.hist((R[:, 1] - R[:, 0]) / R[:, 1], bins=100, density=True, fc=(0, 0, 1, 0.5), label='RowDiff(100)')\n",
    "plt.hist(R[:, 1] / R[:, 0], bins=100, density=True, weights=R[:, 1], label='RowDiff(100), weighted by Full') #, fc=(1, 0, 0, 0.5)\n",
    "\n",
    "#plt.title('10k RNA-Seq samples: column reduction factor')\n",
    "plt.xlabel('Compression ratio per column')\n",
    "#plt.legend()\n",
    "plt.grid()\n",
    "plt.savefig('rnaseq_31_compression_hist.pdf', format='pdf', bbox_inches='tight')\n",
    "plt.show()"
   ]
  },
  {
   "cell_type": "code",
   "execution_count": 70,
   "metadata": {
    "ExecuteTime": {
     "end_time": "2021-03-25T11:04:25.815457Z",
     "start_time": "2021-03-25T11:04:24.479769Z"
    }
   },
   "outputs": [
    {
     "data": {
      "image/png": "[encoded data removed]",
      "text/plain": [
       "<Figure size 298.766x184.652 with 1 Axes>"
      ]
     },
     "metadata": {
      "needs_background": "light"
     },
     "output_type": "display_data"
    }
   ],
   "source": [
    "width = 3.487 * 1.19\n",
    "height = width / 1.618\n",
    "\n",
    "fig, axes = plt.subplots(1, 1, figsize=(width, height))\n",
    "\n",
    "R = np.array(list(get_reductions('/cluster/home/mikhaika/metagenome/data/row_diff/subsets/refseq/nobackup/mtg/rd_100_8',\n",
    "                                 '/cluster/home/mikhaika/metagenome/data/row_diff/subsets/refseq/nobackup/mtg/cols_8')))\n",
    "#plt.hist((R[:, 1] - R[:, 0]) / R[:, 1], bins=100, density=True, fc=(0, 0, 1, 0.5), label='RowDiff(100)')\n",
    "plt.hist(R[:, 1] / R[:, 0], bins=100, density=True, weights=R[:, 1], label='RowDiff(100), weighted by Full') #, fc=(1, 0, 0, 0.5)\n",
    "\n",
    "#plt.title('RefSeq Fungi: column reduction factor')\n",
    "plt.xlabel('Compression ratio per column')\n",
    "#plt.legend()\n",
    "plt.grid()\n",
    "plt.savefig('refseq_fungi_31_compression_hist.pdf', format='pdf', bbox_inches='tight')\n",
    "plt.show()"
   ]
  },
  {
   "cell_type": "code",
   "execution_count": null,
   "metadata": {},
   "outputs": [],
   "source": [
    "((R[:, 1] - R[:, 0]) / R[:, 1]).mean()"
   ]
  },
  {
   "cell_type": "code",
   "execution_count": 41,
   "metadata": {
    "ExecuteTime": {
     "end_time": "2021-03-25T10:32:38.129939Z",
     "start_time": "2021-03-25T10:32:38.106544Z"
    }
   },
   "outputs": [
    {
     "name": "stdout",
     "output_type": "stream",
     "text": [
      "11.21446621 0.26533034\n"
     ]
    }
   ],
   "source": [
    "print(R[:, 1].sum() / 1e9, R[:, 0].sum() / 1e9)"
   ]
  },
  {
   "cell_type": "code",
   "execution_count": 38,
   "metadata": {
    "ExecuteTime": {
     "end_time": "2021-03-25T10:32:04.126751Z",
     "start_time": "2021-03-25T10:32:03.850385Z"
    }
   },
   "outputs": [
    {
     "data": {
      "text/plain": [
       "42.26605298888925"
      ]
     },
     "execution_count": 38,
     "metadata": {},
     "output_type": "execute_result"
    }
   ],
   "source": [
    "R[:, 1].sum() / R[:, 0].sum()"
   ]
  },
  {
   "cell_type": "markdown",
   "metadata": {},
   "source": [
    "## Other tests"
   ]
  },
  {
   "cell_type": "code",
   "execution_count": 892,
   "metadata": {
    "ExecuteTime": {
     "end_time": "2020-11-16T18:52:07.789606Z",
     "start_time": "2020-11-16T18:52:06.830771Z"
    }
   },
   "outputs": [
    {
     "data": {
      "image/png": "[encoded data removed]",
      "text/plain": [
       "<Figure size 376.596x232.754 with 1 Axes>"
      ]
     },
     "metadata": {
      "needs_background": "light"
     },
     "output_type": "display_data"
    }
   ],
   "source": [
    "width = 3.487 * 1.5 * 1\n",
    "height = width / 1.618\n",
    "\n",
    "fig, axes = plt.subplots(1, 1, figsize=(width, height))\n",
    "\n",
    "reductions_10 = list(get_reductions('/cluster/home/mikhaika/metagenome/data/mantis/subsets/mtg/rd_100_10k',\n",
    "                                    '/cluster/home/mikhaika/metagenome/data/mantis/subsets/mtg/cols_10k'))\n",
    "R = np.array(reductions_10)\n",
    "plt.hist((R[:, 1] - R[:, 0]) / R[:, 1], bins=100, density=True, fc=(0, 0, 1, 0.5), label='RowDiff(10)')\n",
    "plt.hist((R[:, 1] - R[:, 0]) / R[:, 1], bins=100, density=True, fc=(1, 0, 0, 0.5), weights=R[:, 1], label='RowDiff(10), weighted by Full')\n",
    "\n",
    "plt.title('1k RNA-Seq samples: column reduction factor')\n",
    "plt.xlabel('Reduction factor: (Full - RowDiff) / Full')\n",
    "plt.legend()\n",
    "\n",
    "plt.show()"
   ]
  },
  {
   "cell_type": "markdown",
   "metadata": {},
   "source": [
    "### Before anchor optimization"
   ]
  },
  {
   "cell_type": "code",
   "execution_count": 87,
   "metadata": {
    "ExecuteTime": {
     "end_time": "2020-11-02T11:05:42.234091Z",
     "start_time": "2020-11-02T11:05:42.207552Z"
    }
   },
   "outputs": [],
   "source": [
    "def get_reductions_path(rd_path, cols_path):\n",
    "    for entry in os.scandir(rd_path):\n",
    "        extension = '.row_diff.annodbg'\n",
    "        if entry.path.endswith(extension):\n",
    "            rd_size = entry.stat(follow_symlinks=False).st_size\n",
    "            col = entry.path.split('/')[-1][:-len(extension)]\n",
    "            size = os.path.getsize(f'{cols_path}/{col}.column.annodbg')\n",
    "            yield rd_size, size, entry.path"
   ]
  },
  {
   "cell_type": "code",
   "execution_count": 88,
   "metadata": {
    "ExecuteTime": {
     "end_time": "2020-11-02T11:05:58.537570Z",
     "start_time": "2020-11-02T11:05:43.178393Z"
    }
   },
   "outputs": [],
   "source": [
    "df = pd.DataFrame(data=get_reductions_path('/cluster/home/mikhaika/metagenome/data/mantis/subsets/mtg/test_rd_100_10k',\n",
    "                                           '/cluster/home/mikhaika/metagenome/data/mantis/subsets/mtg/cols_10k'),\n",
    "                  columns=['reduced', 'original', 'file'])"
   ]
  },
  {
   "cell_type": "code",
   "execution_count": 89,
   "metadata": {
    "ExecuteTime": {
     "end_time": "2020-11-02T11:05:59.463257Z",
     "start_time": "2020-11-02T11:05:59.435702Z"
    }
   },
   "outputs": [],
   "source": [
    "d = df.iloc[((df['original'] - df['reduced']) / df['original']).argsort().values]"
   ]
  },
  {
   "cell_type": "code",
   "execution_count": 90,
   "metadata": {
    "ExecuteTime": {
     "end_time": "2020-11-02T11:06:00.538576Z",
     "start_time": "2020-11-02T11:06:00.505706Z"
    }
   },
   "outputs": [],
   "source": [
    "ds = d[d.original > 33]"
   ]
  },
  {
   "cell_type": "code",
   "execution_count": 91,
   "metadata": {
    "ExecuteTime": {
     "end_time": "2020-11-02T11:06:01.847866Z",
     "start_time": "2020-11-02T11:06:01.547580Z"
    }
   },
   "outputs": [
    {
     "data": {
      "image/png": "[encoded data removed]",
      "text/plain": [
       "<Figure size 432x288 with 1 Axes>"
      ]
     },
     "metadata": {
      "needs_background": "light"
     },
     "output_type": "display_data"
    }
   ],
   "source": [
    "plt.scatter(ds.original / 10**6, ((ds['original'] - ds['reduced']) / ds['original']).values, fc=(0, 0, 1, 0.1))\n",
    "plt.xlabel('Column size, MB')\n",
    "plt.ylabel('Reduction factor: (Full - RowDiff) / Full')\n",
    "plt.grid()\n",
    "plt.show()"
   ]
  },
  {
   "cell_type": "code",
   "execution_count": 92,
   "metadata": {
    "ExecuteTime": {
     "end_time": "2020-11-02T11:06:11.266603Z",
     "start_time": "2020-11-02T11:06:10.731106Z"
    }
   },
   "outputs": [
    {
     "data": {
      "image/png": "[encoded data removed]",
      "text/plain": [
       "<Figure size 432x288 with 1 Axes>"
      ]
     },
     "metadata": {
      "needs_background": "light"
     },
     "output_type": "display_data"
    }
   ],
   "source": [
    "plt.hist(((ds['original'] - ds['reduced']) / ds['original']).values, bins=100, cumulative=True, density=True, fc=(0, 0, 1, 0.5), label='RowDiff(10)')\n",
    "plt.hist(((ds['original'] - ds['reduced']) / ds['original']).values, bins=100, cumulative=True, density=True, fc=(1, 0, 0, 0.5), weights=ds['reduced'], label='RowDiff(10), weighted by size')\n",
    "\n",
    "plt.title('10k RNA-Seq samples: column reduction factor')\n",
    "plt.xlabel('Reduction factor: (Full - RowDiff) / Full')\n",
    "#plt.yticks([])\n",
    "plt.grid()\n",
    "plt.legend()\n",
    "\n",
    "plt.show()"
   ]
  },
  {
   "cell_type": "code",
   "execution_count": 93,
   "metadata": {
    "ExecuteTime": {
     "end_time": "2020-11-02T11:06:19.396243Z",
     "start_time": "2020-11-02T11:06:19.122256Z"
    }
   },
   "outputs": [
    {
     "data": {
      "text/plain": [
       "17.467293218"
      ]
     },
     "execution_count": 93,
     "metadata": {},
     "output_type": "execute_result"
    }
   ],
   "source": [
    "d[((d['original'] - d['reduced']) / d['original'] <= -0.2)].original.sum() / 10**9"
   ]
  },
  {
   "cell_type": "code",
   "execution_count": 248,
   "metadata": {
    "ExecuteTime": {
     "end_time": "2020-11-01T20:28:21.568003Z",
     "start_time": "2020-11-01T20:28:21.252007Z"
    }
   },
   "outputs": [],
   "source": [
    "ds[((ds['original'] - ds['reduced']) / ds['original'] > -0.2)].to_csv('/cluster/home/mikhaika/metagenome/data/mantis/subsets/mtg/test_rd_100_10k_trunc_0.2/columns.txt', columns=['file'], index=False, header=False)"
   ]
  },
  {
   "cell_type": "markdown",
   "metadata": {},
   "source": [
    "### After anchor optimization"
   ]
  },
  {
   "cell_type": "code",
   "execution_count": 98,
   "metadata": {
    "ExecuteTime": {
     "end_time": "2020-11-02T11:07:08.472917Z",
     "start_time": "2020-11-02T11:07:00.536986Z"
    }
   },
   "outputs": [],
   "source": [
    "df = pd.DataFrame(data=get_reductions_path('/cluster/home/mikhaika/metagenome/data/mantis/subsets/mtg/rd_100_10k',\n",
    "                                           '/cluster/home/mikhaika/metagenome/data/mantis/subsets/mtg/cols_10k'),\n",
    "                  columns=['reduced', 'original', 'file'])"
   ]
  },
  {
   "cell_type": "code",
   "execution_count": 99,
   "metadata": {
    "ExecuteTime": {
     "end_time": "2020-11-02T11:07:10.625091Z",
     "start_time": "2020-11-02T11:07:10.597381Z"
    }
   },
   "outputs": [],
   "source": [
    "d = df.iloc[((df['original'] - df['reduced']) / df['original']).argsort().values]"
   ]
  },
  {
   "cell_type": "code",
   "execution_count": 100,
   "metadata": {
    "ExecuteTime": {
     "end_time": "2020-11-02T11:07:11.443489Z",
     "start_time": "2020-11-02T11:07:11.416291Z"
    }
   },
   "outputs": [
    {
     "data": {
      "text/plain": [
       "5.478e-06"
      ]
     },
     "execution_count": 100,
     "metadata": {},
     "output_type": "execute_result"
    }
   ],
   "source": [
    "d[((d['original'] - d['reduced']) / d['original'] <= -0.2)].original.sum() / 10**9"
   ]
  },
  {
   "cell_type": "code",
   "execution_count": 101,
   "metadata": {
    "ExecuteTime": {
     "end_time": "2020-11-02T11:07:11.986023Z",
     "start_time": "2020-11-02T11:07:11.958137Z"
    }
   },
   "outputs": [
    {
     "data": {
      "text/plain": [
       "117.827011506"
      ]
     },
     "execution_count": 101,
     "metadata": {},
     "output_type": "execute_result"
    }
   ],
   "source": [
    "d['reduced'].sum() / 10**9"
   ]
  },
  {
   "cell_type": "code",
   "execution_count": 102,
   "metadata": {
    "ExecuteTime": {
     "end_time": "2020-11-02T11:07:12.466023Z",
     "start_time": "2020-11-02T11:07:12.439277Z"
    }
   },
   "outputs": [],
   "source": [
    "ds = d[d.original > 33]"
   ]
  },
  {
   "cell_type": "code",
   "execution_count": 103,
   "metadata": {
    "ExecuteTime": {
     "end_time": "2020-11-02T11:07:13.183878Z",
     "start_time": "2020-11-02T11:07:12.886144Z"
    }
   },
   "outputs": [
    {
     "data": {
      "image/png": "[encoded data removed]",
      "text/plain": [
       "<Figure size 432x288 with 1 Axes>"
      ]
     },
     "metadata": {
      "needs_background": "light"
     },
     "output_type": "display_data"
    }
   ],
   "source": [
    "plt.scatter(ds.original / 10**6, ((ds['original'] - ds['reduced']) / ds['original']).values, fc=(0, 0, 1, 0.1))\n",
    "plt.xlabel('Column size, MB')\n",
    "plt.ylabel('Reduction factor: (Full - RowDiff) / Full')\n",
    "plt.grid()\n",
    "plt.show()"
   ]
  },
  {
   "cell_type": "code",
   "execution_count": 104,
   "metadata": {
    "ExecuteTime": {
     "end_time": "2020-11-02T11:07:22.355196Z",
     "start_time": "2020-11-02T11:07:21.617724Z"
    }
   },
   "outputs": [
    {
     "data": {
      "image/png": "[encoded data removed]",
      "text/plain": [
       "<Figure size 432x288 with 1 Axes>"
      ]
     },
     "metadata": {
      "needs_background": "light"
     },
     "output_type": "display_data"
    }
   ],
   "source": [
    "plt.hist(((ds['original'] - ds['reduced']) / ds['original']).values, bins=100, cumulative=True, density=True, fc=(0, 0, 1, 0.5), label='RowDiff(10)')\n",
    "plt.hist(((ds['original'] - ds['reduced']) / ds['original']).values, bins=100, cumulative=True, density=True, fc=(1, 0, 0, 0.5), weights=ds['reduced'], label='RowDiff(10), weighted by size')\n",
    "\n",
    "plt.title('10k RNA-Seq samples: column reduction factor')\n",
    "plt.xlabel('Reduction factor: (Full - RowDiff) / Full')\n",
    "#plt.yticks([])\n",
    "plt.grid()\n",
    "plt.legend()\n",
    "\n",
    "plt.show()"
   ]
  }
 ],
 "metadata": {
  "kernelspec": {
   "display_name": "Python 3",
   "language": "python",
   "name": "python3"
  },
  "language_info": {
   "codemirror_mode": {
    "name": "ipython",
    "version": 3
   },
   "file_extension": ".py",
   "mimetype": "text/x-python",
   "name": "python",
   "nbconvert_exporter": "python",
   "pygments_lexer": "ipython3",
   "version": "3.7.5"
  },
  "toc": {
   "base_numbering": 1,
   "nav_menu": {
    "height": "203px",
    "width": "248px"
   },
   "number_sections": true,
   "sideBar": true,
   "skip_h1_title": true,
   "title_cell": "Table of Contents",
   "title_sidebar": "Contents",
   "toc_cell": false,
   "toc_position": {
    "height": "calc(100% - 180px)",
    "left": "10px",
    "top": "150px",
    "width": "302px"
   },
   "toc_section_display": true,
   "toc_window_display": true
  }
 },
 "nbformat": 4,
 "nbformat_minor": 2
}
